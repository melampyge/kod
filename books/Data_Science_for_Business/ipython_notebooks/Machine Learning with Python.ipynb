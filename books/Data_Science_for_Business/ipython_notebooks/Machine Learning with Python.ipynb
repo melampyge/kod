{
 "metadata": {
  "name": ""
 },
 "nbformat": 3,
 "nbformat_minor": 0,
 "worksheets": [
  {
   "cells": [
    {
     "cell_type": "markdown",
     "metadata": {},
     "source": [
      "Intro to Machine Learning with Python\n",
      "=====================================\n",
      "\n",
      "Through these notes, we'll review some of the basic concepts of machine learning (ML), show how techniques from machine learning can be called from python using the [scikit-learn](http://scikit-learn.org/stable/) library, present applications of ML techniques, discuss how to consume raw data, transforming it into a format that is compatible with scikit-learn, enabling one to apply the tools of machine learning to a wide variety of practical problems, and finally, we'll consider some tweeks and practical considerations that often make the difference between a poorly performing machine learning model, and one that can acceptably be employed as a component of a real system.\n",
      "\n",
      "Machine learning has enjoyed increasing success and popularity in recent years, and constitutes one of the most crucial tools of the data scientist. Before further discussion on the details and applications of machine learning, it is useful to define it more formally. ML is a subfield of [artificial intelligence](http://en.wikipedia.org/wiki/Artificial_intelligence) noted for it's reliance on tools from statistics. In a nutshell, machine learning is concerned with how computer programs can learn from observations- data- find patterns within these observations, and generalize these patterns to new, previously unseen data. A more concise definition of ML from noted machine learning professor Tom Mitchell: \"A computer program is said to learn from experience E with respect to some class of tasks T and performance measure P, if its performance at tasks in T, as measured by P, improves with experience E\".\n",
      "\n",
      "Machine Learning is a field with a history going back more than 60 years, to the early days of computer science with the perceptron algorithm. Today there are many subfields of machine learning considering different data structures, situations, relationships amongst data. Because the field of ML has become so broad, in these notes we must limit of coverage to a few of the most common, useful ML tools: classification, regression, and clustering. Before going into detail, let's go through some motiviating examples of each of these. \n",
      "\n",
      "For these examples, and throughout this document, we'll be using some [pre-configured datasets and dataset generators](http://scikit-learn.org/stable/datasets/) that ship with scikit learn. These datasets lower the cost of entry when trying machine learning- one of the most challenging- and crucial- aspects of building a ML system is loading raw data and transforming it into a format that can be consumed by ML models in order to provide accurate generalizations. More on these pre-rolled datasets and data ingestion generally below. \n",
      "\n",
      "Detailed documentation of all scikit-learn classes and functions can be [found here](http://scikit-learn.org/0.12/modules/classes.html)."
     ]
    },
    {
     "cell_type": "markdown",
     "metadata": {},
     "source": [
      "Classification\n",
      "--------------\n",
      "\n",
      "Classification (often called categorization) is the most common task encountered in machine learning. Classification is concerned with assigning data to one of several pre-defined categories (or classes). When performing classification, there is a training phase in which pre-categorized data- usually called labeled data is provided to a model building system. The training system looks at this data and attempts to build a model that will accurately predict class labels on future observations that have missing labels. \n",
      "\n",
      "Below we see a toy problem in which we generate artificial two \"blobs\" of two dimensional data, then fit a line that can separate the two blobs. This line is a model that can be used to generalize, making future predictions. Given a new point from the same underlaying problem, this line could be used to assign a predicted membership into one  of the two blobs, depending on which side of the line on which the point falls."
     ]
    },
    {
     "cell_type": "code",
     "collapsed": false,
     "input": [
      "%matplotlib inline\n",
      "import numpy as np\n",
      "import matplotlib.pyplot as plt\n",
      "from sklearn.linear_model import SGDClassifier\n",
      "from sklearn.datasets.samples_generator import make_blobs\n",
      "\n",
      "# we create 50 separable points\n",
      "X, Y = make_blobs(n_samples=50, centers=2,\n",
      "                  random_state=0, cluster_std=0.60)\n",
      "\n",
      "# fit the model\n",
      "# different types of models have different options that can be specified in their constructor\n",
      "model = SGDClassifier(loss=\"hinge\", alpha=0.01,\n",
      "                      n_iter=200, fit_intercept=True)\n",
      "\n",
      "# take the model and fit it to the data\n",
      "model.fit(X, Y)\n",
      "\n",
      "# plot the line, the points, and the nearest vectors to the plane\n",
      "xx = np.linspace(-1, 5, 10)\n",
      "yy = np.linspace(-1, 5, 10)\n",
      "\n",
      "X1, X2 = np.meshgrid(xx, yy)\n",
      "Z = np.empty(X1.shape)\n",
      "for (i, j), val in np.ndenumerate(X1):\n",
      "    x1 = val\n",
      "    x2 = X2[i, j]\n",
      "    p = model.decision_function([x1, x2])\n",
      "    Z[i, j] = p[0]\n",
      "levels = [-1.0, 0.0, 1.0]\n",
      "linestyles = ['dashed', 'solid', 'dashed']\n",
      "colors = 'k'\n",
      "\n",
      "ax = plt.axes()\n",
      "ax.contour(X1, X2, Z, levels, colors=colors, linestyles=linestyles)\n",
      "ax.scatter(X[:, 0], X[:, 1], c=Y, cmap=plt.cm.Paired) # training data colored according to the label\n",
      "\n",
      "ax.axis('tight')\n",
      "plt.show()"
     ],
     "language": "python",
     "metadata": {},
     "outputs": [
      {
       "metadata": {},
       "output_type": "display_data",
       "png": "[encoded data removed]",
       "text": [
        "<matplotlib.figure.Figure at 0x106729790>"
       ]
      }
     ],
     "prompt_number": 3
    },
    {
     "cell_type": "markdown",
     "metadata": {},
     "source": [
      "Regression\n",
      "----------\n",
      "\n",
      "Regression is similar to classification in the sense that a model maps the obvervable features of data to a label value to be predicted some time in the future. However, while in classification the label is one of several discrete values, in regression the label is a continuous real-valued number. Below is an example of training a model on artificial training data. As before, a line is fit to the observations, however, in this case, the model is used to predict the y-value associated with a given x-value. "
     ]
    },
    {
     "cell_type": "code",
     "collapsed": false,
     "input": [
      "from sklearn.linear_model import LinearRegression\n",
      "\n",
      "a = 0.5\n",
      "b = 1.0\n",
      "\n",
      "# x from 0 to 30\n",
      "x = 30 * np.random.random(20)\n",
      "\n",
      "# y = a*x + b with noise\n",
      "y = a * x + b + np.random.normal(size=x.shape)\n",
      "\n",
      "# create a linear regression model\n",
      "model = LinearRegression()\n",
      "model.fit(x[:, None], y)\n",
      "\n",
      "# predict y from the data\n",
      "x_new = np.linspace(0, 30, 100)\n",
      "y_new = model.predict(x_new[:, None])\n",
      "\n",
      "# plot the results\n",
      "ax = plt.axes()\n",
      "ax.scatter(x, y)\n",
      "ax.plot(x_new, y_new)\n",
      "\n",
      "ax.set_xlabel('x')\n",
      "ax.set_ylabel('y')\n",
      "\n",
      "ax.axis('tight')\n",
      "plt.show()"
     ],
     "language": "python",
     "metadata": {},
     "outputs": [
      {
       "metadata": {},
       "output_type": "display_data",
       "png": "[encoded data removed]",
       "text": [
        "<matplotlib.figure.Figure at 0x103554b90>"
       ]
      }
     ],
     "prompt_number": 4
    },
    {
     "cell_type": "markdown",
     "metadata": {},
     "source": [
      "Because classification and regression are both sub-fields of machine learning where the ability from a model to generalize is acheived by building an understanding of examples with their associated true labels, they are often bundled together, along with several other more esoteric ML sub-fields, into a topic called \"Supervised Learning\"."
     ]
    },
    {
     "cell_type": "markdown",
     "metadata": {},
     "source": [
      "Clustering\n",
      "----------\n",
      "\n",
      "In contrast to classification and regression, supervised learning, [clustering](http://en.wikipedia.org/wiki/Cluster_analysis) doesn't incorporate any label knowledge or ground truth information when building models. Rather, clustering is concerned with finding innate structure within data, finding elements of data- clusters- that have a high degree of similarity, and grouping them together. Below is a clustering of three random \"blobs\" of two-dimensional data. We see that the algorithm is able to identify a reasonably good grouping of data. Through this grouping comes a better understanding of a problem space, and potentially applications involving similar data points. "
     ]
    },
    {
     "cell_type": "code",
     "collapsed": false,
     "input": [
      "from sklearn.cluster import KMeans\n",
      "\n",
      "centers = [[1, 1], [-1, -1], [1, -1]]\n",
      "n_clusters = len(centers)\n",
      "X, labels_true = make_blobs(n_samples=3000, centers=centers, cluster_std=0.7)\n",
      "\n",
      "k_means = KMeans(init='k-means++', n_clusters=3, n_init=10)\n",
      "k_means.fit(X) # the the model to the data\n",
      "\n",
      "k_means_labels = k_means.labels_\n",
      "k_means_cluster_centers = k_means.cluster_centers_\n",
      "k_means_labels_unique = np.unique(k_means_labels)\n",
      "\n",
      "ax = plt.axes()\n",
      "colors = ['#4EACC5', '#FF9C34', '#4E9A06']\n",
      "for k, col in zip(range(n_clusters), colors):\n",
      "    my_members = k_means_labels == k\n",
      "    cluster_center = k_means_cluster_centers[k]\n",
      "    ax.plot(X[my_members, 0], X[my_members, 1], 'w',\n",
      "            markerfacecolor=col, marker='.')\n",
      "    ax.plot(cluster_center[0], cluster_center[1], 'o', markerfacecolor=col,\n",
      "            markeredgecolor='k', markersize=6)\n",
      "plt.show()"
     ],
     "language": "python",
     "metadata": {},
     "outputs": [
      {
       "metadata": {},
       "output_type": "display_data",
       "png": "[encoded data removed]",
       "text": [
        "<matplotlib.figure.Figure at 0x109c65ed0>"
       ]
      }
     ],
     "prompt_number": 5
    },
    {
     "cell_type": "markdown",
     "metadata": {},
     "source": [
      "We've now seen a few toy examples of machine learning in python. Let's try something a bit more meaty- trying to decypher human handwriting given a digital image of that writing. Amongst the datasets included with scikit-learn is \"[digits](http://archive.ics.uci.edu/ml/datasets/Pen-Based+Recognition+of+Handwritten+Digits)\", containing 1797 handwritten single-digit numbers, 0-9 from a variety of writers. These numbers are digitized into an 8x8 pixel image. The values in each pixel are considered by a machine learning system. \n",
      "\n",
      "The problem objective of the digits dataset is to build a model that can generalize and identify the number written in future, previously unseen images. Imagine a machine tasked with routing mail based on the zip code. This machine might take an image of the inbound mail, decipher the zipcode based on this image using a previously trained machine learning model, then use this zipcode to route appropriately. \n",
      "\n",
      "Before we get started, let's take a look at the data."
     ]
    },
    {
     "cell_type": "code",
     "collapsed": false,
     "input": [
      "from sklearn import datasets\n",
      "digits = datasets.load_digits()\n",
      "\n",
      "# set up the figure\n",
      "fig = plt.figure(figsize=(6, 6))  # figure size in inches\n",
      "fig.subplots_adjust(left=0, right=1, bottom=0, top=1, hspace=0.05, wspace=0.05)\n",
      "\n",
      "# plot the digits: each image is 8x8 pixels\n",
      "for i in range(64):\n",
      "    ax = fig.add_subplot(8, 8, i + 1, xticks=[], yticks=[])\n",
      "    ax.imshow(digits.images[i], cmap=plt.cm.binary, interpolation='nearest')\n",
      "    \n",
      "    # label the image with the target value\n",
      "    ax.text(0, 7, str(digits.target[i]))\n",
      "\n",
      "# take a peek at the data representation considered by scikit-learn\n",
      "print digits.data.shape\n",
      "print digits.data[0:3]"
     ],
     "language": "python",
     "metadata": {},
     "outputs": [
      {
       "output_type": "stream",
       "stream": "stdout",
       "text": [
        "(1797, 64)\n",
        "[[  0.   0.   5.  13.   9.   1.   0.   0.   0.   0.  13.  15.  10.  15.\n",
        "    5.   0.   0.   3.  15.   2.   0.  11.   8.   0.   0.   4.  12.   0.\n",
        "    0.   8.   8.   0.   0.   5.   8.   0.   0.   9.   8.   0.   0.   4.\n",
        "   11.   0.   1.  12.   7.   0.   0.   2.  14.   5.  10.  12.   0.   0.\n",
        "    0.   0.   6.  13.  10.   0.   0.   0.]\n",
        " [  0.   0.   0.  12.  13.   5.   0.   0.   0.   0.   0.  11.  16.   9.\n",
        "    0.   0.   0.   0.   3.  15.  16.   6.   0.   0.   0.   7.  15.  16.\n",
        "   16.   2.   0.   0.   0.   0.   1.  16.  16.   3.   0.   0.   0.   0.\n",
        "    1.  16.  16.   6.   0.   0.   0.   0.   1.  16.  16.   6.   0.   0.\n",
        "    0.   0.   0.  11.  16.  10.   0.   0.]\n",
        " [  0.   0.   0.   4.  15.  12.   0.   0.   0.   0.   3.  16.  15.  14.\n",
        "    0.   0.   0.   0.   8.  13.   8.  16.   0.   0.   0.   0.   1.   6.\n",
        "   15.  11.   0.   0.   0.   1.   8.  13.  15.   1.   0.   0.   0.   9.\n",
        "   16.  16.   5.   0.   0.   0.   0.   3.  13.  16.  16.  11.   5.   0.\n",
        "    0.   0.   0.   3.  11.  16.   9.   0.]]\n"
       ]
      },
      {
       "metadata": {},
       "output_type": "display_data",
       "png": "[encoded data removed]",
       "text": [
        "<matplotlib.figure.Figure at 0x109f44250>"
       ]
      }
     ],
     "prompt_number": 6
    },
    {
     "cell_type": "code",
     "collapsed": false,
     "input": [
      "# now let's train a model to predict the digits!\n",
      "from sklearn.svm import SVC\n",
      "\n",
      "# a \"support vector machine\" predictive model\n",
      "model = SVC(gamma=0.001, C = 100.0)\n",
      "\n",
      "# pretend we haven't seen the last image\n",
      "model.fit(digits.data[:-1], digits.target[:-1])\n",
      "\n",
      "model"
     ],
     "language": "python",
     "metadata": {},
     "outputs": [
      {
       "metadata": {},
       "output_type": "pyout",
       "prompt_number": 7,
       "text": [
        "SVC(C=100.0, cache_size=200, class_weight=None, coef0=0.0, degree=3,\n",
        "  gamma=0.001, kernel='rbf', max_iter=-1, probability=False,\n",
        "  random_state=None, shrinking=True, tol=0.001, verbose=False)"
       ]
      }
     ],
     "prompt_number": 7
    },
    {
     "cell_type": "code",
     "collapsed": false,
     "input": [
      "# then make a prediction on the last image\n",
      "print model.predict(digits.data[-1])\n",
      "\n",
      "# check if we were right!\n",
      "\n",
      "plt.figure(figsize=(2, 2))\n",
      "plt.imshow(digits.images[-1], interpolation='nearest', cmap=plt.cm.binary)\n",
      "\n",
      "print digits.target[-1]"
     ],
     "language": "python",
     "metadata": {},
     "outputs": [
      {
       "output_type": "stream",
       "stream": "stdout",
       "text": [
        "[8]\n",
        "8"
       ]
      },
      {
       "output_type": "stream",
       "stream": "stdout",
       "text": [
        "\n"
       ]
      },
      {
       "metadata": {},
       "output_type": "display_data",
       "png": "[encoded data removed]",
       "text": [
        "<matplotlib.figure.Figure at 0x10359e790>"
       ]
      }
     ],
     "prompt_number": 8
    },
    {
     "cell_type": "markdown",
     "metadata": {},
     "source": [
      "Numpy and Data Formatting\n",
      "-------------------------\n",
      "\n",
      "Now that we're exposed to the power under the hood of scikit-learn, it's time to start from the ground up, considering the pieces that make it work in order to understand how we can then manipulate scikit for our tasks. Scikit-learn, and most of machine learning generally, considers functions on multi-dimensional data. In the example of the digit classification task, we process 8x8 images, 64 pixel values. These 64 pixes values are ordered in some way such that the value at a particular index always represents the value of the same pixel in the image. The value used to represent a particular pixel is a float, measuring how dark the pixel is.\n",
      "\n",
      "In a mathematical context like machine learning, such an ordered list of floating point values is called a vector. On the surface, a vector, sometimes called a mathematical vector, is just like python's list data structure, with some additional meaning. \n",
      "\n",
      "A vector represents a point in a multi-dimensional space. Consider a simple case, the points used above in the toy classification problem. Each of these points is two dimensional- it has a x-value and a y-value. These x-and-y-values can be represented mathematically as a vector: (x-value, y-value). The value at each index representing the position along that dimension in the \"problem space.\" Similarly, the pixel values used to represent the images in our digit classification task are represented mathematically as a vector (p1, p2, ..., p64). Each pixel corresponds to a dimension in a 64-dimensional space. Just as (x, y) represents a point in 2d space, so to does (p1, p2, ..., p64), and 8x8 images with a given color encoding generally, represent points in 64d space.\n",
      "\n",
      "Python lists of floats are an adequate representation for mathematical vectors, however, because ML systems often involve intense computation and number crunching, scikit-learn uses an alternative representation, numpy arrays. [Numpy](http://www.numpy.org/) is a solid, high-performance library mathematical library. Numpy comes pre-confugured with many common linear algebra algorithms, a topic that may be of interest to those building machine learning systems, but is beyond the scope of these notes. \n",
      "\n",
      "Before, discussing the details of implementing vectors as numpy arrays, we should briefly discuss the notion of a mathematical matrix. A matrix is a fundamental component of the field of mathematics known as linear algebra, and can be used to represent a variety of concepts mathematically. Linear algebra is obviously outside the scope of these notes, so I will offer a simple explanation- for our purposes a mathematical matrix (usually just called a matrix) is a two-dimensional vector, a grid of rows and columns, the value at each entry is a number. Each row and each colum can be treated as a mathmatical vector. In numpy, matematical vectors are represented as arrays with either one row or one column. Collections or vectors are stored as matricies, where each row (usually) represents one of the vectors in the collection, the columns corresponding to the entries along a particular dimension in the input. \n",
      "\n",
      "Note that becasue the labels used as input when training or evaluating supervised learning models are numpy arrays, this implies that the target values for a particular problem must be transformed into a numeric type. For classification problems, this means numbering the classes, replacing the \"name\" of each class with this number when classifying. "
     ]
    },
    {
     "cell_type": "code",
     "collapsed": false,
     "input": [
      "# Generating a random array\n",
      "X = np.random.random((3, 5))  # a 3 x 5 arrayr\n",
      "print X"
     ],
     "language": "python",
     "metadata": {},
     "outputs": [
      {
       "output_type": "stream",
       "stream": "stdout",
       "text": [
        "[[ 0.13814312  0.03775833  0.65613342  0.33628157  0.36398509]\n",
        " [ 0.50795114  0.42238165  0.14972681  0.81205727  0.99968524]\n",
        " [ 0.63671547  0.74404976  0.45974725  0.52775419  0.8901556 ]]\n"
       ]
      }
     ],
     "prompt_number": 9
    },
    {
     "cell_type": "markdown",
     "metadata": {},
     "source": [
      "Above we can see an example matrix with three rows and five colums. For the purposes of scipy, we can think of this as an ordered collection of three vectors, each with five dimensions. Some other basic matrix ops:"
     ]
    },
    {
     "cell_type": "code",
     "collapsed": false,
     "input": [
      "# creating a numpy array from python nested lists\n",
      "Y = np.array([[1,2], [3,4]])\n",
      "print Y\n",
      "\n",
      "\n",
      "# Accessing elements\n",
      "\n",
      "# get a single element\n",
      "print X[0, 0]\n",
      "\n",
      "# get a row vector (a matrix with a single row)\n",
      "print X[1]\n",
      "\n",
      "# get a column vector (a matrix with a single column)\n",
      "print X[:, 1]"
     ],
     "language": "python",
     "metadata": {},
     "outputs": [
      {
       "output_type": "stream",
       "stream": "stdout",
       "text": [
        "[[1 2]\n",
        " [3 4]]\n",
        "0.138143121099\n",
        "[ 0.50795114  0.42238165  0.14972681  0.81205727  0.99968524]\n",
        "[ 0.03775833  0.42238165  0.74404976]\n"
       ]
      }
     ],
     "prompt_number": 10
    },
    {
     "cell_type": "markdown",
     "metadata": {},
     "source": [
      "Some other useful operations on numpy arrays:"
     ]
    },
    {
     "cell_type": "code",
     "collapsed": false,
     "input": [
      "# Transposing an matrix, swap rows with columns\n",
      "print X.T\n",
      "\n",
      "# Change the shape of a matrix\n",
      "X.reshape(15,1)"
     ],
     "language": "python",
     "metadata": {},
     "outputs": [
      {
       "output_type": "stream",
       "stream": "stdout",
       "text": [
        "[[ 0.13814312  0.50795114  0.63671547]\n",
        " [ 0.03775833  0.42238165  0.74404976]\n",
        " [ 0.65613342  0.14972681  0.45974725]\n",
        " [ 0.33628157  0.81205727  0.52775419]\n",
        " [ 0.36398509  0.99968524  0.8901556 ]]\n"
       ]
      },
      {
       "metadata": {},
       "output_type": "pyout",
       "prompt_number": 11,
       "text": [
        "array([[ 0.13814312],\n",
        "       [ 0.03775833],\n",
        "       [ 0.65613342],\n",
        "       [ 0.33628157],\n",
        "       [ 0.36398509],\n",
        "       [ 0.50795114],\n",
        "       [ 0.42238165],\n",
        "       [ 0.14972681],\n",
        "       [ 0.81205727],\n",
        "       [ 0.99968524],\n",
        "       [ 0.63671547],\n",
        "       [ 0.74404976],\n",
        "       [ 0.45974725],\n",
        "       [ 0.52775419],\n",
        "       [ 0.8901556 ]])"
       ]
      }
     ],
     "prompt_number": 11
    },
    {
     "cell_type": "markdown",
     "metadata": {},
     "source": [
      "Numpy has a lot of additional useful functionality, some of which we've used already (for random number generation). You'll continue to see more throughout these notes. \n",
      "\n",
      "Of course most interesting problems aren't represented out of the box as a mathematical vector or matrix. Transformation of raw data into numpy arrays is an interesting problem in machine learning, one which we will discuss in detail below. \n",
      "\n",
      "The data field returned in the object returned when loading datasets through numpy is a numpy array, were each row corresponds to a point in the problem space being considered. The targets object is also a matrix, with one column, and a number of rows equal to the number of examples in data- there is one label per row. "
     ]
    },
    {
     "cell_type": "markdown",
     "metadata": {},
     "source": [
      "More on Classification\n",
      "----------------------\n",
      "\n",
      "Sixty years of machine learning development has lead to a great variety of classification models, each with their own pros and cons. Scikit-learn has an active an interested development community contributing solid, efficient implementations of a [variety of common classification algorithms](http://scikit-learn.org/stable/supervised_learning.html#supervised-learning). The details of each of these algorithms is well beyond the scope of this document. \n",
      "\n",
      "Different types of models have different properties, leading to success in certain situations, but difficulty in others. Some models, for instance, logistic regression, are jacks-of-all-trades, doing reasonably well in many situations. Often times, in order to get the best generalization performance for a problem, one must experiment with different models and parameter settings, testing until the desired performance level is achieved. Rules of thumb and experience can improve this search. The Flowchart below  tries to encapsulate some of this wisdom, and might be consulted, at least when making an initial attempt at a predictive model in scikit-learn. For more information on the individual models, consult the [scikit-learn documentation](http://scikit-learn.org/stable/supervised_learning.html#supervised-learning). "
     ]
    },
    {
     "cell_type": "code",
     "collapsed": false,
     "input": [
      "from IPython.core.display import Image \n",
      "Image(url='http://1.bp.blogspot.com/-ME24ePzpzIM/UQLWTwurfXI/AAAAAAAAANw/W3EETIroA80/s1600/drop_shadows_background.png') "
     ],
     "language": "python",
     "metadata": {},
     "outputs": [
      {
       "html": [
        "<img src=\"http://1.bp.blogspot.com/-ME24ePzpzIM/UQLWTwurfXI/AAAAAAAAANw/W3EETIroA80/s1600/drop_shadows_background.png\"/>"
       ],
       "metadata": {},
       "output_type": "pyout",
       "prompt_number": 12,
       "text": [
        "<IPython.core.display.Image at 0x10e315f50>"
       ]
      }
     ],
     "prompt_number": 12
    },
    {
     "cell_type": "markdown",
     "metadata": {},
     "source": [
      "Different types of classification models use different types of parameters, called hyper-parameters in the machine learning community, passed into their constructor, that impact the evetual training and functionality of the model. Again, to check out the exact options that are available to a particular model type, consult the documentation. Example for [logistic regression here](http://scikit-learn.org/stable/supervised_learning.html#supervised-learning).\n",
      "\n",
      "One of the strengths of scikit-learn is the simple, consistent interface across all models. Aside from the hyper-parameter settings that vary from one model to another, once you know how to train a model and use it to make predictions, you know how to use every model. Below are some of the more important methods that are available to classification models in scikit-learn, note that specific model implementations often have some additional functionality at your disposal:"
     ]
    },
    {
     "cell_type": "code",
     "collapsed": false,
     "input": [
      "from sklearn.neighbors import KNeighborsClassifier\n",
      "\n",
      "# some data to use for an example\n",
      "digits = datasets.load_digits()\n",
      "\n",
      "training_feature_matrix = digits.data[:-1]\n",
      "test_vector = digits.data[-1]\n",
      "\n",
      "training_label_vector = digits.target[:-1]\n",
      "test_label = digits.target[-1]\n",
      "\n",
      "\n",
      "# create a classifier, any will work here.\n",
      "model1 = KNeighborsClassifier(n_neighbors=15)\n",
      "\n",
      "# \"train\" the model, fit it to the vectors of the training data and their respective labels.\n",
      "model1.fit(training_feature_matrix, training_label_vector)\n",
      "\n",
      "print model1"
     ],
     "language": "python",
     "metadata": {},
     "outputs": [
      {
       "output_type": "stream",
       "stream": "stdout",
       "text": [
        "KNeighborsClassifier(algorithm=auto, leaf_size=30, metric=minkowski,\n",
        "           n_neighbors=15, p=2, weights=uniform)\n"
       ]
      }
     ],
     "prompt_number": 13
    },
    {
     "cell_type": "code",
     "collapsed": false,
     "input": [
      "# predict the class labels for a example vector. generalization\n",
      "print model1.predict(test_vector)"
     ],
     "language": "python",
     "metadata": {},
     "outputs": [
      {
       "output_type": "stream",
       "stream": "stdout",
       "text": [
        "[8]\n"
       ]
      }
     ],
     "prompt_number": 14
    },
    {
     "cell_type": "code",
     "collapsed": false,
     "input": [
      "# similar to above, but rather than predict the most likely class\n",
      "# estimate probabilities for membership in various classes:\n",
      "# note, some times probability estimates are very poor!\n",
      "print model1.predict_proba(test_vector)"
     ],
     "language": "python",
     "metadata": {},
     "outputs": [
      {
       "output_type": "stream",
       "stream": "stdout",
       "text": [
        "[[ 0.  0.  0.  0.  0.  0.  0.  0.  1.  0.]]\n"
       ]
      }
     ],
     "prompt_number": 15
    },
    {
     "cell_type": "code",
     "collapsed": false,
     "input": [
      "# compute the number of test examples & labels that are correctly classified by the model\n",
      "# note here score is applied to the training data, usually not what you want to do.\n",
      "print model1.score(training_feature_matrix, training_label_vector)"
     ],
     "language": "python",
     "metadata": {},
     "outputs": [
      {
       "output_type": "stream",
       "stream": "stdout",
       "text": [
        "0.985523385301\n"
       ]
      }
     ],
     "prompt_number": 16
    },
    {
     "cell_type": "markdown",
     "metadata": {},
     "source": [
      "###Comparison of Classifiers\n",
      "\n",
      "http://scikit-learn.org/stable/auto_examples/plot_classifier_comparison.html"
     ]
    },
    {
     "cell_type": "markdown",
     "metadata": {},
     "source": [
      "More on Regression\n",
      "------------------\n",
      "\n",
      "As with classification, there are a variety of [regression model implementations](http://scikit-learn.org/stable/supervised_learning.html#supervised-learning) in scikit-learn. Knowing the right regression model implementation for a particular problem usually involves a bit of background knowledge, experimentation, and evaluation of model performance. As with classification models, scikit-learn gives a clean, consistent interface across all regression models. While specific models do vary in terms of the methods and functionality provided, the basics of training models and making predictions is consistent. Additionally, this interface is basically the same as the interface used with classifiers. The learning curve is shallow. Like classifiers, regression models accept a variety of hyper-parameters that determine their behavior during training. These hyper-parameters vary from model to model, to learn more, consult the documentation. Example below:"
     ]
    },
    {
     "cell_type": "code",
     "collapsed": false,
     "input": [
      "from sklearn.neighbors import KNeighborsRegressor\n",
      "\n",
      "# an example dataset\n",
      "diabetes = datasets.load_diabetes()\n",
      "training_feature_matrix = diabetes.data[:-1]\n",
      "test_vector = diabetes.data[-1]\n",
      "\n",
      "training_label_vector = diabetes.target[:-1]\n",
      "test_label = diabetes.target[-1]\n",
      "\n",
      "# create a regression model, any will do\n",
      "model2 = KNeighborsRegressor(n_neighbors=5)\n",
      "\n",
      "# \"train\" the model, fit it to the vectors of the training data and their respective labels.\n",
      "model2.fit(training_feature_matrix, training_label_vector)\n",
      "\n",
      "print model2"
     ],
     "language": "python",
     "metadata": {},
     "outputs": [
      {
       "output_type": "stream",
       "stream": "stdout",
       "text": [
        "KNeighborsRegressor(algorithm=auto, leaf_size=30, metric=minkowski,\n",
        "          n_neighbors=5, p=2, weights=uniform)\n"
       ]
      }
     ],
     "prompt_number": 26
    },
    {
     "cell_type": "code",
     "collapsed": false,
     "input": [
      "# predict the class labels for a example vector. generalization\n",
      "print model2.predict(test_vector)\n",
      "print test_label"
     ],
     "language": "python",
     "metadata": {},
     "outputs": [
      {
       "output_type": "stream",
       "stream": "stdout",
       "text": [
        "[ 88.4]\n",
        "57.0\n"
       ]
      }
     ],
     "prompt_number": 27
    },
    {
     "cell_type": "code",
     "collapsed": false,
     "input": [
      "# compute an R^2 accuracy score for the model.\n",
      "# R^2 is defined as (1 - u/v), where u is the regression sum of squares ((y_true - y_pred) ** 2).sum()\n",
      "# and v is the residual sum of squares ((y_true - y_true.mean()) ** 2).sum(). \n",
      "# Best possible score is 1.0, lower values are worse.\n",
      "# note here score is applied to the training data, usually not what you want to do.\n",
      "print model2.score(training_feature_matrix, training_label_vector)"
     ],
     "language": "python",
     "metadata": {},
     "outputs": [
      {
       "output_type": "stream",
       "stream": "stdout",
       "text": [
        "0.60379531522\n"
       ]
      }
     ],
     "prompt_number": 28
    },
    {
     "cell_type": "markdown",
     "metadata": {},
     "source": [
      "More on Clustering\n",
      "------------------\n",
      "\n",
      "Even though clustering differs substantially from classification and regression conceptually, scikit-learn offers a similar [variety of clustering algorithms](http://scikit-learn.org/stable/modules/clustering.html), and a similar, consistent interface to get at the most useful methods for clustering models. The different clustering techniques have different properties and, as a result, find different segmentations in the in input data. As with other ML techiques, finding the best approach for a particular problem will involve some experimentation.\n",
      "\n",
      "Note that MeanShift and KMeans take feature matricies as input, just as with classification and regression. On the other hand, AffinityPropagation and SpectralClustering take similarity matrices of shape [n_samples, n_samples]. This is a matrix that stores how similar the different examples are. These measures can be obtained from the functions in the sklearn.metrics.pairwise module. \n",
      "\n",
      "Some of the main methods used consistently across all scikit-learn clustering models below:"
     ]
    },
    {
     "cell_type": "code",
     "collapsed": false,
     "input": [
      "from sklearn.cluster import KMeans \n",
      "# here we'll just use the dataset used above\n",
      "\n",
      "\n",
      "# KMeans is basically the standard clustering technique\n",
      "# In KMeans, as with several other clustering tecnhiques, you must\n",
      "# specify beforehand the number of clusters you wish to find. \n",
      "model3 = KMeans(n_clusters = 5)\n",
      "\n",
      "# find any clusters in the input data\n",
      "model3.fit(training_feature_matrix)\n",
      "\n",
      "print model3"
     ],
     "language": "python",
     "metadata": {},
     "outputs": [
      {
       "output_type": "stream",
       "stream": "stdout",
       "text": [
        "KMeans(copy_x=True, init=k-means++, max_iter=300, n_clusters=5, n_init=10,\n",
        "    n_jobs=1, precompute_distances=True, random_state=None, tol=0.0001,\n",
        "    verbose=0)\n"
       ]
      }
     ],
     "prompt_number": 30
    },
    {
     "cell_type": "code",
     "collapsed": false,
     "input": [
      "# predict cluster membership for data\n",
      "# uses the distance to the most similar cluster\n",
      "print model3.predict(test_vector)"
     ],
     "language": "python",
     "metadata": {},
     "outputs": [
      {
       "output_type": "stream",
       "stream": "stdout",
       "text": [
        "[4]\n"
       ]
      }
     ],
     "prompt_number": 36
    },
    {
     "cell_type": "code",
     "collapsed": false,
     "input": [
      "# compute similarities to the various clusters\n",
      "# returns a vector of similarities to each cluster\n",
      "print model3.transform(test_vector)"
     ],
     "language": "python",
     "metadata": {},
     "outputs": [
      {
       "output_type": "stream",
       "stream": "stdout",
       "text": [
        "[[ 0.27868947  0.27396963  0.22832636  0.31807489  0.20229728]]\n"
       ]
      }
     ],
     "prompt_number": 37
    },
    {
     "cell_type": "markdown",
     "metadata": {},
     "source": [
      "Evaluating Supervised ML Models\n",
      "-------------------------------\n",
      "\n",
      "One of the most crucial aspects of machine learning is evaluating the performance of predictive models, building an estimate as to just how well a model might generalize. The intent of this section is to present a variety of evaluations metrics commonly used when measuring the performance of machine learning systems. Evaluating a supervised learning system almost always involves a set of examples with known labels. A trained model is used to predict the labels for these examples. The predictions and known labels are then compared; various evaluation metrics can be computed from this comparison. \n",
      "\n",
      "Regardless of the actual metric computed, it is important to evaluate the model on data that is distinct from that used during training. A model has \"already seen the answer\" to the training data, to then ask again for the appropriate label during evaluation will give an unrealistic performance estimate. Additionally, it is critical that the data used for evaluation resemble the data the model will see in practice as closely as possible. It is unlikely, for instance, that a model that performs well predicting the winners of highschool basketball games will do well predicting winners in the NBA. \n",
      "\n",
      "Metrics discussed below will assume the original dataset is divided into two sections, training and test. Models will be constructed on the training data and evaluated on the testing data. \n",
      "\n",
      "###Classifier Evaluation\n",
      "Below are some of the evaluation metrics scikit learn provides for assessing the generalization performance of classifiers. \n",
      "\n",
      "- accuracy: `sklearn.metrics.accuracy_score`: the percent of examples correctly classified.\n",
      "- precision: `sklearn.metrics.precision_score`: considers the performance labeling a particular class, set by the additional argument `pos_label`. Measures the the percentage of examples labeled as belonging to that class that have been correctly labeled. \n",
      "- recall:\t`sklearn.metrics.recall_score`: considers the performance labeling a particular class, set by the additional argument `pos_label`. Measures the the percentage of examples actually belonging to that class that have been correctly labeled.\n",
      "- f1: `sklearn.metrics.f1_score`: An weighted average of precision and recall. As before, the class of interest can be set by an additional argument `pos_label`.\n",
      "\n",
      "These functions all take an array of the true labels and an array of predicted labels obtained from a classifiers `.predict` method. The various metrics may take several additional arguments modifying their behavior. To learn more, consult the scikit-learn documentation.  "
     ]
    },
    {
     "cell_type": "code",
     "collapsed": false,
     "input": [
      "from sklearn import cross_validation\n",
      "from sklearn import metrics\n",
      "\n",
      "# split the digits dataset into training and test data randomly\n",
      "# note convention to name labels y and independent variables X\n",
      "X_train, X_test, y_train, y_test = cross_validation.train_test_split(digits.data, digits.target,\n",
      "                                                                     test_size=0.5, random_state=0)\n",
      "\n",
      "# a \"support vector machine\" predictive model\n",
      "model = SVC(gamma=0.001, C = 100.0)\n",
      "model.fit(X_train, y_train)\n",
      "\n",
      "# get the predicted labels for test data\n",
      "y_pred = model.predict(X_test)\n",
      "\n",
      "print \"accuracy: %f\" % metrics.accuracy_score(y_test, y_pred)\n",
      "print \"precision when predicting '5': %f\" % metrics.precision_score(y_test, y_pred, pos_label=5)\n",
      "print \"recall when predicting '6': %f\" % metrics.recall_score(y_test, y_pred, pos_label=6)\n",
      "print \"f1 score when predicting '7': %f\" % metrics.f1_score(y_test, y_pred, pos_label=7)"
     ],
     "language": "python",
     "metadata": {},
     "outputs": [
      {
       "output_type": "stream",
       "stream": "stdout",
       "text": [
        "accuracy: 0.991101\n",
        "precision when predicting '5': 0.991213\n",
        "recall when predicting '6': 0.991101\n",
        "f1 score when predicting '7': 0.991103\n"
       ]
      }
     ],
     "prompt_number": 52
    },
    {
     "cell_type": "markdown",
     "metadata": {},
     "source": [
      "There is a special `classification_report` function that gives some of the main performance metrics:"
     ]
    },
    {
     "cell_type": "code",
     "collapsed": false,
     "input": [
      "print metrics.classification_report(y_test, y_pred)"
     ],
     "language": "python",
     "metadata": {},
     "outputs": [
      {
       "output_type": "stream",
       "stream": "stdout",
       "text": [
        "             precision    recall  f1-score   support\n",
        "\n",
        "          0       1.00      1.00      1.00        89\n",
        "          1       0.97      1.00      0.98        90\n",
        "          2       0.99      0.98      0.98        92\n",
        "          3       1.00      0.99      0.99        93\n",
        "          4       1.00      1.00      1.00        76\n",
        "          5       0.99      0.98      0.99       108\n",
        "          6       0.99      1.00      0.99        89\n",
        "          7       0.99      1.00      0.99        78\n",
        "          8       1.00      0.98      0.99        92\n",
        "          9       0.99      0.99      0.99        92\n",
        "\n",
        "avg / total       0.99      0.99      0.99       899\n",
        "\n"
       ]
      }
     ],
     "prompt_number": 53
    },
    {
     "cell_type": "markdown",
     "metadata": {},
     "source": [
      "Additionally, there are some special metrics that available only for binary classification problems, those problems that are predicting if an example belongs in one of two classes. Both these functions take the same numpy array representing the true labels of examples, a vector of 0's and 1's, however, for predictions, these fuctions take a vector of class membership probabilities for the positive class, confidence values, or binary decisions. In the case of binary decisions, these measurements will be poorly defined. \n",
      "\n",
      "- roc_auc: `sklearn.metrics.roc_auc_score`: If examples are ranked according to the probability of belonging to the \"1 class\" prediction, what is the probability that examples with an actual label of 1 are ranked above examples with an actual label of 0.\n",
      "- average_precision: `sklearn.metrics.average_precision_score`: By varying the decision threshold for membership in the 1's class, the precision and recall for a model also vary, with the precision depending on the recall. Usually, as the precision goes up, the recall goes down. This measures the average precision as recall goes from 0 to 1. \n",
      "\n",
      "These examples are important since one can often configure the class membership decision based on the class membership probabilities or distances. These metrics give evaluations that are agnostic across all decision thresholds. "
     ]
    },
    {
     "cell_type": "code",
     "collapsed": false,
     "input": [
      "# split the digits dataset into training and test data randomly\n",
      "# note convention to name labels y and independent variables X\n",
      "X_train, X_test, y_train, y_test = cross_validation.train_test_split(digits.data, digits.target,\n",
      "                                                                     test_size=0.5, random_state=0)\n",
      "\n",
      "# dataset for a binary problem\n",
      "# assume all images of \"5\" are class 1, else class 0.\n",
      "y_train = [1 if x == 5 else 0 for x in y_train]\n",
      "y_test = [1 if x == 5 else 0 for x in y_test]\n",
      "\n",
      "# show that this is now binary:\n",
      "print y_train[0:10]\n",
      "\n",
      "# compute class probabilities\n",
      "model = SVC(gamma=0.001, C = 100.0, probability=True)\n",
      "model.fit(X_train, y_train)\n",
      "\n",
      "class_predictions = model.predict_proba(X_test)\n",
      "\n",
      "# probs for 0 and 1 class for each example\n",
      "print class_predictions[1:5]\n",
      "\n",
      "# just get the class 1 probs:\n",
      "y_prob = [x[1] for x in class_predictions]\n",
      "\n",
      "print \"AUC for predicting digit 5: %f\" % metrics.roc_auc_score(y_test, y_prob)\n",
      "print \"Average precision for predicting digit 5: %f\" % metrics.average_precision_score(y_test, y_prob)"
     ],
     "language": "python",
     "metadata": {},
     "outputs": [
      {
       "output_type": "stream",
       "stream": "stdout",
       "text": [
        "[0, 0, 0, 0, 0, 0, 0, 1, 0, 0]\n",
        "[[ 0.99755562  0.00244438]\n",
        " [ 0.99869927  0.00130073]\n",
        " [ 0.99686833  0.00313167]\n",
        " [ 0.99807604  0.00192396]]"
       ]
      },
      {
       "output_type": "stream",
       "stream": "stdout",
       "text": [
        "\n",
        "AUC for predicting digit 5: 0.999426\n",
        "Average precision for predicting digit 5: 0.996918\n"
       ]
      }
     ],
     "prompt_number": 63
    },
    {
     "cell_type": "markdown",
     "metadata": {},
     "source": [
      "###Regression Model Evaluation\n",
      "\n",
      "As with classification, there are many metrics for evaluating the performance of regression models. The right choice depends on the details of a particular problem, often its useful to look at several metrics to have a better understanding of performance. Some useful choices:\n",
      "\n",
      "- mean_absolute_error: `sklearn.metrics.mean_absolute_error`: looks at the magnitude in  differences between predicted and actual label values, computing the average across all examples. \n",
      "- mean_squared_error: `sklearn.metrics.mean_squared_error`: computes the average of squared differences between labels and predictions. A greater penalty on bigger errors. \n"
     ]
    },
    {
     "cell_type": "code",
     "collapsed": false,
     "input": [
      "X_train, X_test, y_train, y_test = cross_validation.train_test_split(diabetes.data, diabetes.target,\n",
      "                                                                     test_size=0.5, random_state=0)\n",
      "\n",
      "model = KNeighborsRegressor(n_neighbors=5)\n",
      "model.fit(X_train, y_train)\n",
      "\n",
      "y_pred = model.predict(X_test)\n",
      "\n",
      "print \"MAE: %f\" % metrics.mean_absolute_error(y_test, y_pred)\n",
      "print \"MSE: %f\" % metrics.mean_squared_error(y_test, y_pred)"
     ],
     "language": "python",
     "metadata": {},
     "outputs": [
      {
       "output_type": "stream",
       "stream": "stdout",
       "text": [
        "MAE: 47.685068\n",
        "MSE: 3719.888507\n"
       ]
      }
     ],
     "prompt_number": 74
    },
    {
     "cell_type": "markdown",
     "metadata": {},
     "source": [
      "Cross-Validation\n",
      "----------------\n",
      "\n",
      "In the above examples, we needed to waste half of the available labeled data just to compute evaluation metrics. This leads to a related problem- if there is something weird or unusual about the training or test sample, your performance metrics or even your model itself may be impacted. Additionally, having a single estimate on the perforamce of your model doesn't give you any sense of how actual model performance may vary. Better to get a distribution of performance values. \n",
      "\n",
      "Fortunately, there is a tool that solves all these problems: cross-validation. Cross-validation involves splitting the labeled data into a pre-defined number, k, of slices (called folds by ML people). Then, one at a time, each of these k slices is held out and a model is trained on the remaining k-1 slices of labeled data. The model is then asked to make a prediction on the held out slice. Evaluation is performed by comparing these predictions with the actual example labels. Evaluations can be combined across all interations to estimate a distribution on performance metrics.\n",
      "\n",
      "Cross-validation is a very common tool for computing ML model performance, so common in fact, that the interface is much nicer than the interface for computing evaluation metrics directly, using the function `cross_val_score`. This function takes the model, the training data and the training labels. The number of slices can be specified using the `cv` argument, and the metric you wish to compute can be passed using the `scoring` argument.\n",
      "\n",
      "Finally, note that when building models for a real-world task, a common pattern is to evaluate a model using cross-validation, then simultaniously training a model on all available data, using the latter model for the actual task, given that the cross-validated metrics look good enough. "
     ]
    },
    {
     "cell_type": "code",
     "collapsed": false,
     "input": [
      "model = SVC(gamma=0.001, C = 100.0, probability=True)\n",
      "\n",
      "folds = 10\n",
      "scores = cross_validation.cross_val_score(model, digits.data, digits.target,\n",
      "                                          cv=folds, scoring='f1')\n",
      "print scores\n",
      "print \"F1 Score: %f ( + / - %f )\" % (scores.mean(), scores.std() / 2)"
     ],
     "language": "python",
     "metadata": {},
     "outputs": [
      {
       "output_type": "stream",
       "stream": "stdout",
       "text": [
        "[ 0.98888889  0.99444015  1.          0.99444015  0.99444015  0.98885449\n",
        "  0.97759684  1.          0.98322289  0.98882682]\n",
        "F1 Score: 0.991071 ( + / - 0.003359 )\n"
       ]
      }
     ],
     "prompt_number": 73
    },
    {
     "cell_type": "markdown",
     "metadata": {},
     "source": [
      "Feature Creation: Turning Real Data into Feature Vectors\n",
      "--------------------------------------------------------\n",
      "\n",
      "The toy and artificial datasets packaged with scikit learn have done much of the hard work for you, providing you with an numpy arrays that describe your problem. In practice, the task that you're trying to model will seldom just be a bunch of numbers. The work of the data scientist is then to massage this raw representation into vectors and matricies in order to leverage a ML system. Fortunately, scikit-learn provides a great deal of [flexibility in terms of feature creation](http://scikit-learn.org/0.12/modules/feature_extraction.html)- the creation of numerical vectors from raw data, [covering many common procedures](http://scikit-learn.org/0.12/modules/classes.html#module-sklearn.feature_extraction). Even so, the best models are often the result of clever creation of new features, for instance, features derived from combinations of existing features. Scikit-learn also provides also provides help here. Before we dig into the technical aspects, let's talk about some common cases.\n",
      "\n",
      "- Numbers: Floats and Integers: These don't require any transformation for raw consumption. When mapping the numeric factors representing a problem into vectors, one must maintain column-consistency. If you're measuring people to predict disease, there will be one column for height, and one column for weight.\n",
      "- Binary Values: These are typically converted to 1 or 0, and treated as numbers.\n",
      "- Categorical Values: Typically a one-of-K or a one-hot transformation is performed. Here, if the categorical variable can has K possibilities, K columns are allocated in a numeric vector. One of these columns has a value of 1, and the remainder has a value of 0, depending on the value of the actual categorical variable\n",
      "- Text: There are many options here. The most common is representing text as a \"bag of words\". In this setting, one column is allocated per word. Text is then broken up so that at each of these \"word columns\", there is either a 0, representing the absense of a word or a 1 representing the presense of a word, or maybe a word frequency. \n",
      "\n",
      "\n",
      "Scikit-learn makes these kinds of transformations easy. Lets consider numbers, binary and categorical values. In the common case, where the input data to a machine learning problem is represented by a dictionary data structure. Scikit-learn provides a tool called DictVectorizer that very easily builds mappings from raw inputs to feature mathematical vectors:"
     ]
    },
    {
     "cell_type": "code",
     "collapsed": false,
     "input": [
      "measurements = [\n",
      "                {'city': 'Dubai', 'temperature': 33.},\n",
      "                {'city': 'London', 'temperature': 12.},\n",
      "                {'city': 'San Fransisco', 'temperature': 18.},\n",
      "]\n",
      "\n",
      "from sklearn.feature_extraction import DictVectorizer\n",
      "# sparse = True will potentially save space\n",
      "vec = DictVectorizer(sparse=False)\n",
      "\n",
      "# learn the mapping from raw input to feature vectors\n",
      "vec.fit(measurements)\n",
      "\n",
      "# transform the input to feature vectors\n",
      "input = vec.transform(measurements)\n",
      "print input\n",
      "\n",
      "print vec.get_feature_names()\n",
      "\n",
      "# and back again\n",
      "print vec.inverse_transform(input)\n",
      "\n",
      "\n"
     ],
     "language": "python",
     "metadata": {},
     "outputs": [
      {
       "output_type": "stream",
       "stream": "stdout",
       "text": [
        "[[  1.   0.   0.  33.]\n",
        " [  0.   1.   0.  12.]\n",
        " [  0.   0.   1.  18.]]\n",
        "['city=Dubai', 'city=London', 'city=San Fransisco', 'temperature']\n",
        "[{'city=Dubai': 1.0, 'temperature': 33.0}, {'temperature': 12.0, 'city=London': 1.0}, {'city=San Fransisco': 1.0, 'temperature': 18.0}]\n"
       ]
      }
     ],
     "prompt_number": 1
    },
    {
     "cell_type": "code",
     "collapsed": false,
     "input": [
      "# Let's try on the data used for assessment 1!\n",
      "!wget https://dl.dropboxusercontent.com/u/2143857/user_tag_activity.json"
     ],
     "language": "python",
     "metadata": {},
     "outputs": [
      {
       "output_type": "stream",
       "stream": "stdout",
       "text": [
        "--2013-11-13 16:20:31--  https://dl.dropboxusercontent.com/u/2143857/user_tag_activity.json\r\n",
        "Resolving dl.dropboxusercontent.com... 23.23.134.28\r\n",
        "Connecting to dl.dropboxusercontent.com|23.23.134.28|:443... "
       ]
      },
      {
       "output_type": "stream",
       "stream": "stdout",
       "text": [
        "connected.\r\n"
       ]
      },
      {
       "output_type": "stream",
       "stream": "stdout",
       "text": [
        "HTTP request sent, awaiting response... "
       ]
      },
      {
       "output_type": "stream",
       "stream": "stdout",
       "text": [
        "200 OK\r\n",
        "Length: 104967376 (100M) [text/plain]\r\n",
        "Saving to: \u2018user_tag_activity.json\u2019\r\n",
        "\r\n",
        "\r",
        " 0% [                                       ] 0           --.-K/s              "
       ]
      },
      {
       "output_type": "stream",
       "stream": "stdout",
       "text": [
        "\r",
        " 0% [                                       ] 761,447     3.49MB/s             "
       ]
      },
      {
       "output_type": "stream",
       "stream": "stdout",
       "text": [
        "\r",
        " 1% [                                       ] 1,154,663   2.50MB/s             "
       ]
      },
      {
       "output_type": "stream",
       "stream": "stdout",
       "text": [
        "\r",
        " 1% [                                       ] 1,515,111   2.24MB/s             "
       ]
      },
      {
       "output_type": "stream",
       "stream": "stdout",
       "text": [
        "\r",
        " 1% [                                       ] 1,810,023   2.02MB/s             "
       ]
      },
      {
       "output_type": "stream",
       "stream": "stdout",
       "text": [
        "\r",
        " 1% [                                       ] 2,088,551   1.87MB/s             "
       ]
      },
      {
       "output_type": "stream",
       "stream": "stdout",
       "text": [
        "\r",
        " 2% [                                       ] 2,285,159   1.72MB/s             "
       ]
      },
      {
       "output_type": "stream",
       "stream": "stdout",
       "text": [
        "\r",
        " 2% [                                       ] 2,498,151   1.61MB/s             "
       ]
      },
      {
       "output_type": "stream",
       "stream": "stdout",
       "text": [
        "\r",
        " 2% [>                                      ] 2,727,527   1.54MB/s             "
       ]
      },
      {
       "output_type": "stream",
       "stream": "stdout",
       "text": [
        "\r",
        " 2% [>                                      ] 2,940,519   1.47MB/s             "
       ]
      },
      {
       "output_type": "stream",
       "stream": "stdout",
       "text": [
        "\r",
        " 3% [>                                      ] 3,153,511   1.43MB/s             "
       ]
      },
      {
       "output_type": "stream",
       "stream": "stdout",
       "text": [
        "\r",
        " 3% [>                                      ] 3,366,503   1.39MB/s             "
       ]
      },
      {
       "output_type": "stream",
       "stream": "stdout",
       "text": [
        "\r",
        " 3% [>                                      ] 3,645,031   1.36MB/s             "
       ]
      },
      {
       "output_type": "stream",
       "stream": "stdout",
       "text": [
        "\r",
        " 3% [>                                      ] 3,841,639   1.33MB/s             "
       ]
      },
      {
       "output_type": "stream",
       "stream": "stdout",
       "text": [
        "\r",
        " 3% [>                                      ] 4,071,015   1.31MB/s             "
       ]
      },
      {
       "output_type": "stream",
       "stream": "stdout",
       "text": [
        "\r",
        " 4% [>                                      ] 4,398,695   1.32MB/s  eta 73s    "
       ]
      },
      {
       "output_type": "stream",
       "stream": "stdout",
       "text": [
        "\r",
        " 4% [>                                      ] 4,677,223   1.21MB/s  eta 73s    "
       ]
      },
      {
       "output_type": "stream",
       "stream": "stdout",
       "text": [
        "\r",
        " 4% [>                                      ] 4,955,751   1.19MB/s  eta 73s    "
       ]
      },
      {
       "output_type": "stream",
       "stream": "stdout",
       "text": [
        "\r",
        " 4% [>                                      ] 5,234,279   1.14MB/s  eta 73s    "
       ]
      },
      {
       "output_type": "stream",
       "stream": "stdout",
       "text": [
        "\r",
        " 5% [=>                                     ] 5,529,191   1.15MB/s  eta 73s    "
       ]
      },
      {
       "output_type": "stream",
       "stream": "stdout",
       "text": [
        "\r",
        " 5% [=>                                     ] 5,987,943   1.19MB/s  eta 69s    "
       ]
      },
      {
       "output_type": "stream",
       "stream": "stdout",
       "text": [
        "\r",
        " 5% [=>                                     ] 6,266,471   1.19MB/s  eta 69s    "
       ]
      },
      {
       "output_type": "stream",
       "stream": "stdout",
       "text": [
        "\r",
        " 6% [=>                                     ] 6,528,615   1.20MB/s  eta 69s    "
       ]
      },
      {
       "output_type": "stream",
       "stream": "stdout",
       "text": [
        "\r",
        " 6% [=>                                     ] 6,823,527   1.23MB/s  eta 69s    "
       ]
      },
      {
       "output_type": "stream",
       "stream": "stdout",
       "text": [
        "\r",
        " 6% [=>                                     ] 7,020,135   1.23MB/s  eta 69s    "
       ]
      },
      {
       "output_type": "stream",
       "stream": "stdout",
       "text": [
        "\r",
        " 6% [=>                                     ] 7,249,511   1.23MB/s  eta 71s    "
       ]
      },
      {
       "output_type": "stream",
       "stream": "stdout",
       "text": [
        "\r",
        " 7% [=>                                     ] 7,560,807   1.26MB/s  eta 71s    "
       ]
      },
      {
       "output_type": "stream",
       "stream": "stdout",
       "text": [
        "\r",
        " 7% [=>                                     ] 7,888,487   1.28MB/s  eta 71s    "
       ]
      },
      {
       "output_type": "stream",
       "stream": "stdout",
       "text": [
        "\r",
        " 7% [==>                                    ] 8,134,247   1.30MB/s  eta 71s    "
       ]
      },
      {
       "output_type": "stream",
       "stream": "stdout",
       "text": [
        "\r",
        " 7% [==>                                    ] 8,363,623   1.30MB/s  eta 71s    "
       ]
      },
      {
       "output_type": "stream",
       "stream": "stdout",
       "text": [
        "\r",
        " 8% [==>                                    ] 8,576,615   1.27MB/s  eta 71s    "
       ]
      },
      {
       "output_type": "stream",
       "stream": "stdout",
       "text": [
        "\r",
        " 8% [==>                                    ] 8,789,607   1.25MB/s  eta 71s    "
       ]
      },
      {
       "output_type": "stream",
       "stream": "stdout",
       "text": [
        "\r",
        " 8% [==>                                    ] 9,018,983   1.23MB/s  eta 71s    "
       ]
      },
      {
       "output_type": "stream",
       "stream": "stdout",
       "text": [
        "\r",
        " 8% [==>                                    ] 9,346,663   1.25MB/s  eta 71s    "
       ]
      },
      {
       "output_type": "stream",
       "stream": "stdout",
       "text": [
        "\r",
        " 9% [==>                                    ] 9,608,807   1.23MB/s  eta 71s    "
       ]
      },
      {
       "output_type": "stream",
       "stream": "stdout",
       "text": [
        "\r",
        " 9% [==>                                    ] 9,985,639   1.23MB/s  eta 70s    "
       ]
      },
      {
       "output_type": "stream",
       "stream": "stdout",
       "text": [
        "\r",
        " 9% [==>                                    ] 10,280,551  1.19MB/s  eta 70s    "
       ]
      },
      {
       "output_type": "stream",
       "stream": "stdout",
       "text": [
        "\r",
        "10% [==>                                    ] 10,657,383  1.28MB/s  eta 70s    "
       ]
      },
      {
       "output_type": "stream",
       "stream": "stdout",
       "text": [
        "\r",
        "10% [===>                                   ] 11,083,367  1.32MB/s  eta 70s    "
       ]
      },
      {
       "output_type": "stream",
       "stream": "stdout",
       "text": [
        "\r",
        "11% [===>                                   ] 11,607,655  1.40MB/s  eta 70s    "
       ]
      },
      {
       "output_type": "stream",
       "stream": "stdout",
       "text": [
        "\r",
        "11% [===>                                   ] 12,197,479  1.50MB/s  eta 64s    "
       ]
      },
      {
       "output_type": "stream",
       "stream": "stdout",
       "text": [
        "\r",
        "12% [===>                                   ] 12,770,919  1.61MB/s  eta 64s    "
       ]
      },
      {
       "output_type": "stream",
       "stream": "stdout",
       "text": [
        "\r",
        "12% [===>                                   ] 13,114,983  1.61MB/s  eta 64s    "
       ]
      },
      {
       "output_type": "stream",
       "stream": "stdout",
       "text": [
        "\r",
        "12% [===>                                   ] 13,409,895  1.60MB/s  eta 64s    "
       ]
      },
      {
       "output_type": "stream",
       "stream": "stdout",
       "text": [
        "\r",
        "13% [====>                                  ] 13,672,039  1.63MB/s  eta 64s    "
       ]
      },
      {
       "output_type": "stream",
       "stream": "stdout",
       "text": [
        "\r",
        "13% [====>                                  ] 13,966,951  1.64MB/s  eta 61s    "
       ]
      },
      {
       "output_type": "stream",
       "stream": "stdout",
       "text": [
        "\r",
        "13% [====>                                  ] 14,392,935  1.68MB/s  eta 61s    "
       ]
      },
      {
       "output_type": "stream",
       "stream": "stdout",
       "text": [
        "\r",
        "14% [====>                                  ] 14,769,767  1.76MB/s  eta 61s    "
       ]
      },
      {
       "output_type": "stream",
       "stream": "stdout",
       "text": [
        "\r",
        "14% [====>                                  ] 15,113,831  1.77MB/s  eta 61s    "
       ]
      },
      {
       "output_type": "stream",
       "stream": "stdout",
       "text": [
        "\r",
        "14% [====>                                  ] 15,408,743  1.76MB/s  eta 61s    "
       ]
      },
      {
       "output_type": "stream",
       "stream": "stdout",
       "text": [
        "\r",
        "14% [====>                                  ] 15,720,039  1.77MB/s  eta 59s    "
       ]
      },
      {
       "output_type": "stream",
       "stream": "stdout",
       "text": [
        "\r",
        "15% [====>                                  ] 16,064,103  1.78MB/s  eta 59s    "
       ]
      },
      {
       "output_type": "stream",
       "stream": "stdout",
       "text": [
        "\r",
        "15% [=====>                                 ] 16,260,711  1.73MB/s  eta 59s    "
       ]
      },
      {
       "output_type": "stream",
       "stream": "stdout",
       "text": [
        "\r",
        "15% [=====>                                 ] 16,522,855  1.69MB/s  eta 59s    "
       ]
      },
      {
       "output_type": "stream",
       "stream": "stdout",
       "text": [
        "\r",
        "16% [=====>                                 ] 16,834,151  1.64MB/s  eta 59s    "
       ]
      },
      {
       "output_type": "stream",
       "stream": "stdout",
       "text": [
        "\r",
        "16% [=====>                                 ] 17,210,983  1.61MB/s  eta 58s    "
       ]
      },
      {
       "output_type": "stream",
       "stream": "stdout",
       "text": [
        "\r",
        "16% [=====>                                 ] 17,538,663  1.55MB/s  eta 58s    "
       ]
      },
      {
       "output_type": "stream",
       "stream": "stdout",
       "text": [
        "\r",
        "16% [=====>                                 ] 17,735,271  1.42MB/s  eta 58s    "
       ]
      },
      {
       "output_type": "stream",
       "stream": "stdout",
       "text": [
        "\r",
        "17% [=====>                                 ] 17,997,415  1.40MB/s  eta 58s    "
       ]
      },
      {
       "output_type": "stream",
       "stream": "stdout",
       "text": [
        "\r",
        "17% [=====>                                 ] 18,161,255  1.39MB/s  eta 58s    "
       ]
      },
      {
       "output_type": "stream",
       "stream": "stdout",
       "text": [
        "\r",
        "17% [=====>                                 ] 18,439,783  1.38MB/s  eta 59s    "
       ]
      },
      {
       "output_type": "stream",
       "stream": "stdout",
       "text": [
        "\r",
        "17% [=====>                                 ] 18,816,615  1.38MB/s  eta 59s    "
       ]
      },
      {
       "output_type": "stream",
       "stream": "stdout",
       "text": [
        "\r",
        "18% [======>                                ] 19,045,991  1.34MB/s  eta 59s    "
       ]
      },
      {
       "output_type": "stream",
       "stream": "stdout",
       "text": [
        "\r",
        "18% [======>                                ] 19,373,671  1.32MB/s  eta 59s    "
       ]
      },
      {
       "output_type": "stream",
       "stream": "stdout",
       "text": [
        "\r",
        "18% [======>                                ] 19,766,887  1.36MB/s  eta 59s    "
       ]
      },
      {
       "output_type": "stream",
       "stream": "stdout",
       "text": [
        "\r",
        "19% [======>                                ] 19,979,879  1.31MB/s  eta 58s    "
       ]
      },
      {
       "output_type": "stream",
       "stream": "stdout",
       "text": [
        "\r",
        "19% [======>                                ] 20,242,023  1.29MB/s  eta 58s    "
       ]
      },
      {
       "output_type": "stream",
       "stream": "stdout",
       "text": [
        "\r",
        "19% [======>                                ] 20,487,783  1.27MB/s  eta 58s    "
       ]
      },
      {
       "output_type": "stream",
       "stream": "stdout",
       "text": [
        "\r",
        "19% [======>                                ] 20,684,391  1.26MB/s  eta 58s    "
       ]
      },
      {
       "output_type": "stream",
       "stream": "stdout",
       "text": [
        "\r",
        "19% [======>                                ] 20,880,999  1.23MB/s  eta 58s    "
       ]
      },
      {
       "output_type": "stream",
       "stream": "stdout",
       "text": [
        "\r",
        "20% [======>                                ] 21,044,839  1.18MB/s  eta 58s    "
       ]
      },
      {
       "output_type": "stream",
       "stream": "stdout",
       "text": [
        "\r",
        "20% [======>                                ] 21,175,911  1.10MB/s  eta 58s    "
       ]
      },
      {
       "output_type": "stream",
       "stream": "stdout",
       "text": [
        "\r",
        "20% [======>                                ] 21,306,983  1.07MB/s  eta 58s    "
       ]
      },
      {
       "output_type": "stream",
       "stream": "stdout",
       "text": [
        "\r",
        "20% [=======>                               ] 21,536,359  1.06MB/s  eta 58s    "
       ]
      },
      {
       "output_type": "stream",
       "stream": "stdout",
       "text": [
        "\r",
        "20% [=======>                               ] 21,732,967  1.06MB/s  eta 58s    "
       ]
      },
      {
       "output_type": "stream",
       "stream": "stdout",
       "text": [
        "\r",
        "20% [=======>                               ] 21,864,039  1.01MB/s  eta 60s    "
       ]
      },
      {
       "output_type": "stream",
       "stream": "stdout",
       "text": [
        "\r",
        "20% [=======>                               ] 21,995,111   971KB/s  eta 60s    "
       ]
      },
      {
       "output_type": "stream",
       "stream": "stdout",
       "text": [
        "\r",
        "21% [=======>                               ] 22,126,183   938KB/s  eta 60s    "
       ]
      },
      {
       "output_type": "stream",
       "stream": "stdout",
       "text": [
        "\r",
        "21% [=======>                               ] 22,322,791   933KB/s  eta 60s    "
       ]
      },
      {
       "output_type": "stream",
       "stream": "stdout",
       "text": [
        "\r",
        "21% [=======>                               ] 22,535,783   853KB/s  eta 60s    "
       ]
      },
      {
       "output_type": "stream",
       "stream": "stdout",
       "text": [
        "\r",
        "21% [=======>                               ] 22,732,391   843KB/s  eta 61s    "
       ]
      },
      {
       "output_type": "stream",
       "stream": "stdout",
       "text": [
        "\r",
        "21% [=======>                               ] 23,027,303   873KB/s  eta 61s    "
       ]
      },
      {
       "output_type": "stream",
       "stream": "stdout",
       "text": [
        "\r",
        "22% [=======>                               ] 23,338,599   884KB/s  eta 61s    "
       ]
      },
      {
       "output_type": "stream",
       "stream": "stdout",
       "text": [
        "\r",
        "22% [=======>                               ] 23,617,127   899KB/s  eta 61s    "
       ]
      },
      {
       "output_type": "stream",
       "stream": "stdout",
       "text": [
        "\r",
        "22% [=======>                               ] 23,830,119   906KB/s  eta 61s    "
       ]
      },
      {
       "output_type": "stream",
       "stream": "stdout",
       "text": [
        "\r",
        "22% [=======>                               ] 23,977,575   899KB/s  eta 60s    "
       ]
      },
      {
       "output_type": "stream",
       "stream": "stdout",
       "text": [
        "\r",
        "22% [=======>                               ] 24,125,031   893KB/s  eta 60s    "
       ]
      },
      {
       "output_type": "stream",
       "stream": "stdout",
       "text": [
        "\r",
        "23% [========>                              ] 24,256,103   897KB/s  eta 60s    "
       ]
      },
      {
       "output_type": "stream",
       "stream": "stdout",
       "text": [
        "\r",
        "23% [========>                              ] 24,403,559   905KB/s  eta 60s    "
       ]
      },
      {
       "output_type": "stream",
       "stream": "stdout",
       "text": [
        "\r",
        "23% [========>                              ] 24,583,783   885KB/s  eta 60s    "
       ]
      },
      {
       "output_type": "stream",
       "stream": "stdout",
       "text": [
        "\r",
        "23% [========>                              ] 24,747,623   892KB/s  eta 61s    "
       ]
      },
      {
       "output_type": "stream",
       "stream": "stdout",
       "text": [
        "\r",
        "23% [========>                              ] 24,944,231   902KB/s  eta 61s    "
       ]
      },
      {
       "output_type": "stream",
       "stream": "stdout",
       "text": [
        "\r",
        "23% [========>                              ] 25,157,223   923KB/s  eta 61s    "
       ]
      },
      {
       "output_type": "stream",
       "stream": "stdout",
       "text": [
        "\r",
        "24% [========>                              ] 25,370,215   951KB/s  eta 61s    "
       ]
      },
      {
       "output_type": "stream",
       "stream": "stdout",
       "text": [
        "\r",
        "24% [========>                              ] 25,599,591   958KB/s  eta 61s    "
       ]
      },
      {
       "output_type": "stream",
       "stream": "stdout",
       "text": [
        "\r",
        "24% [========>                              ] 25,878,119   982KB/s  eta 61s    "
       ]
      },
      {
       "output_type": "stream",
       "stream": "stdout",
       "text": [
        "\r",
        "24% [========>                              ] 26,173,031   997KB/s  eta 61s    "
       ]
      },
      {
       "output_type": "stream",
       "stream": "stdout",
       "text": [
        "\r",
        "25% [========>                              ] 26,533,479  1022KB/s  eta 61s    "
       ]
      },
      {
       "output_type": "stream",
       "stream": "stdout",
       "text": [
        "\r",
        "25% [=========>                             ] 26,959,463  1.03MB/s  eta 61s    "
       ]
      },
      {
       "output_type": "stream",
       "stream": "stdout",
       "text": [
        "\r",
        "26% [=========>                             ] 27,352,679  1.07MB/s  eta 61s    "
       ]
      },
      {
       "output_type": "stream",
       "stream": "stdout",
       "text": [
        "\r",
        "26% [=========>                             ] 27,811,431  1.15MB/s  eta 58s    "
       ]
      },
      {
       "output_type": "stream",
       "stream": "stdout",
       "text": [
        "\r",
        "26% [=========>                             ] 28,089,959  1.20MB/s  eta 58s    "
       ]
      },
      {
       "output_type": "stream",
       "stream": "stdout",
       "text": [
        "\r",
        "26% [=========>                             ] 28,270,183  1.21MB/s  eta 58s    "
       ]
      },
      {
       "output_type": "stream",
       "stream": "stdout",
       "text": [
        "\r",
        "27% [=========>                             ] 28,466,791  1.22MB/s  eta 58s    "
       ]
      },
      {
       "output_type": "stream",
       "stream": "stdout",
       "text": [
        "\r",
        "27% [=========>                             ] 28,745,319  1.25MB/s  eta 58s    "
       ]
      },
      {
       "output_type": "stream",
       "stream": "stdout",
       "text": [
        "\r",
        "27% [=========>                             ] 28,991,079  1.29MB/s  eta 57s    "
       ]
      },
      {
       "output_type": "stream",
       "stream": "stdout",
       "text": [
        "\r",
        "27% [=========>                             ] 29,236,839  1.30MB/s  eta 57s    "
       ]
      },
      {
       "output_type": "stream",
       "stream": "stdout",
       "text": [
        "\r",
        "28% [=========>                             ] 29,531,751  1.33MB/s  eta 57s    "
       ]
      },
      {
       "output_type": "stream",
       "stream": "stdout",
       "text": [
        "\r",
        "28% [==========>                            ] 29,777,511  1.34MB/s  eta 57s    "
       ]
      },
      {
       "output_type": "stream",
       "stream": "stdout",
       "text": [
        "\r",
        "28% [==========>                            ] 30,023,271  1.36MB/s  eta 57s    "
       ]
      },
      {
       "output_type": "stream",
       "stream": "stdout",
       "text": [
        "\r",
        "28% [==========>                            ] 30,383,719  1.39MB/s  eta 56s    "
       ]
      },
      {
       "output_type": "stream",
       "stream": "stdout",
       "text": [
        "\r",
        "29% [==========>                            ] 30,695,015  1.39MB/s  eta 56s    "
       ]
      },
      {
       "output_type": "stream",
       "stream": "stdout",
       "text": [
        "\r",
        "29% [==========>                            ] 31,071,847  1.42MB/s  eta 56s    "
       ]
      },
      {
       "output_type": "stream",
       "stream": "stdout",
       "text": [
        "\r",
        "29% [==========>                            ] 31,415,911  1.39MB/s  eta 56s    "
       ]
      },
      {
       "output_type": "stream",
       "stream": "stdout",
       "text": [
        "\r",
        "30% [==========>                            ] 31,743,591  1.38MB/s  eta 56s    "
       ]
      },
      {
       "output_type": "stream",
       "stream": "stdout",
       "text": [
        "\r",
        "30% [==========>                            ] 32,120,423  1.35MB/s  eta 54s    "
       ]
      },
      {
       "output_type": "stream",
       "stream": "stdout",
       "text": [
        "\r",
        "30% [===========>                           ] 32,464,487  1.34MB/s  eta 54s    "
       ]
      },
      {
       "output_type": "stream",
       "stream": "stdout",
       "text": [
        "\r",
        "31% [===========>                           ] 32,792,167  1.37MB/s  eta 54s    "
       ]
      },
      {
       "output_type": "stream",
       "stream": "stdout",
       "text": [
        "\r",
        "31% [===========>                           ] 33,136,231  1.44MB/s  eta 54s    "
       ]
      },
      {
       "output_type": "stream",
       "stream": "stdout",
       "text": [
        "\r",
        "31% [===========>                           ] 33,463,911  1.45MB/s  eta 54s    "
       ]
      },
      {
       "output_type": "stream",
       "stream": "stdout",
       "text": [
        "\r",
        "32% [===========>                           ] 33,939,047  1.50MB/s  eta 52s    "
       ]
      },
      {
       "output_type": "stream",
       "stream": "stdout",
       "text": [
        "\r",
        "32% [===========>                           ] 34,250,343  1.53MB/s  eta 52s    "
       ]
      },
      {
       "output_type": "stream",
       "stream": "stdout",
       "text": [
        "\r",
        "32% [===========>                           ] 34,496,103  1.53MB/s  eta 52s    "
       ]
      },
      {
       "output_type": "stream",
       "stream": "stdout",
       "text": [
        "\r",
        "33% [===========>                           ] 34,856,551  1.54MB/s  eta 52s    "
       ]
      },
      {
       "output_type": "stream",
       "stream": "stdout",
       "text": [
        "\r",
        "33% [============>                          ] 35,151,463  1.57MB/s  eta 52s    "
       ]
      },
      {
       "output_type": "stream",
       "stream": "stdout",
       "text": [
        "\r",
        "33% [============>                          ] 35,429,991  1.55MB/s  eta 51s    "
       ]
      },
      {
       "output_type": "stream",
       "stream": "stdout",
       "text": [
        "\r",
        "34% [============>                          ] 35,839,591  1.57MB/s  eta 51s    "
       ]
      },
      {
       "output_type": "stream",
       "stream": "stdout",
       "text": [
        "\r",
        "34% [============>                          ] 36,118,119  1.56MB/s  eta 51s    "
       ]
      },
      {
       "output_type": "stream",
       "stream": "stdout",
       "text": [
        "\r",
        "34% [============>                          ] 36,347,495  1.51MB/s  eta 51s    "
       ]
      },
      {
       "output_type": "stream",
       "stream": "stdout",
       "text": [
        "\r",
        "35% [============>                          ] 36,757,095  1.53MB/s  eta 51s    "
       ]
      },
      {
       "output_type": "stream",
       "stream": "stdout",
       "text": [
        "\r",
        "35% [============>                          ] 37,117,543  1.54MB/s  eta 50s    "
       ]
      },
      {
       "output_type": "stream",
       "stream": "stdout",
       "text": [
        "\r",
        "35% [============>                          ] 37,412,455  1.52MB/s  eta 50s    "
       ]
      },
      {
       "output_type": "stream",
       "stream": "stdout",
       "text": [
        "\r",
        "35% [============>                          ] 37,559,911  1.45MB/s  eta 50s    "
       ]
      },
      {
       "output_type": "stream",
       "stream": "stdout",
       "text": [
        "\r",
        "35% [============>                          ] 37,658,215  1.39MB/s  eta 50s    "
       ]
      },
      {
       "output_type": "stream",
       "stream": "stdout",
       "text": [
        "\r",
        "35% [=============>                         ] 37,756,519  1.32MB/s  eta 50s    "
       ]
      },
      {
       "output_type": "stream",
       "stream": "stdout",
       "text": [
        "\r",
        "36% [=============>                         ] 37,969,511  1.27MB/s  eta 50s    "
       ]
      },
      {
       "output_type": "stream",
       "stream": "stdout",
       "text": [
        "\r",
        "36% [=============>                         ] 38,280,807  1.24MB/s  eta 50s    "
       ]
      },
      {
       "output_type": "stream",
       "stream": "stdout",
       "text": [
        "\r",
        "36% [=============>                         ] 38,624,871  1.26MB/s  eta 50s    "
       ]
      },
      {
       "output_type": "stream",
       "stream": "stdout",
       "text": [
        "\r",
        "37% [=============>                         ] 38,985,319  1.28MB/s  eta 50s    "
       ]
      },
      {
       "output_type": "stream",
       "stream": "stdout",
       "text": [
        "\r",
        "37% [=============>                         ] 39,362,151  1.29MB/s  eta 50s    "
       ]
      },
      {
       "output_type": "stream",
       "stream": "stdout",
       "text": [
        "\r",
        "37% [=============>                         ] 39,673,447  1.30MB/s  eta 48s    "
       ]
      },
      {
       "output_type": "stream",
       "stream": "stdout",
       "text": [
        "\r",
        "38% [=============>                         ] 40,001,127  1.32MB/s  eta 48s    "
       ]
      },
      {
       "output_type": "stream",
       "stream": "stdout",
       "text": [
        "\r",
        "38% [=============>                         ] 40,296,039  1.29MB/s  eta 48s    "
       ]
      },
      {
       "output_type": "stream",
       "stream": "stdout",
       "text": [
        "\r",
        "38% [==============>                        ] 40,574,567  1.29MB/s  eta 48s    "
       ]
      },
      {
       "output_type": "stream",
       "stream": "stdout",
       "text": [
        "\r",
        "38% [==============>                        ] 40,853,095  1.30MB/s  eta 48s    "
       ]
      },
      {
       "output_type": "stream",
       "stream": "stdout",
       "text": [
        "\r",
        "39% [==============>                        ] 41,131,623  1.26MB/s  eta 47s    "
       ]
      },
      {
       "output_type": "stream",
       "stream": "stdout",
       "text": [
        "\r",
        "39% [==============>                        ] 41,459,303  1.25MB/s  eta 47s    "
       ]
      },
      {
       "output_type": "stream",
       "stream": "stdout",
       "text": [
        "\r",
        "39% [==============>                        ] 41,573,991  1.20MB/s  eta 47s    "
       ]
      },
      {
       "output_type": "stream",
       "stream": "stdout",
       "text": [
        "\r",
        "39% [==============>                        ] 41,721,447  1.23MB/s  eta 47s    "
       ]
      },
      {
       "output_type": "stream",
       "stream": "stdout",
       "text": [
        "\r",
        "39% [==============>                        ] 41,901,671  1.25MB/s  eta 47s    "
       ]
      },
      {
       "output_type": "stream",
       "stream": "stdout",
       "text": [
        "\r",
        "40% [==============>                        ] 42,098,279  1.26MB/s  eta 47s    "
       ]
      },
      {
       "output_type": "stream",
       "stream": "stdout",
       "text": [
        "\r",
        "40% [==============>                        ] 42,376,807  1.27MB/s  eta 47s    "
       ]
      },
      {
       "output_type": "stream",
       "stream": "stdout",
       "text": [
        "\r",
        "40% [==============>                        ] 42,737,255  1.28MB/s  eta 47s    "
       ]
      },
      {
       "output_type": "stream",
       "stream": "stdout",
       "text": [
        "\r",
        "40% [==============>                        ] 43,015,783  1.27MB/s  eta 47s    "
       ]
      },
      {
       "output_type": "stream",
       "stream": "stdout",
       "text": [
        "\r",
        "41% [===============>                       ] 43,343,463  1.24MB/s  eta 47s    "
       ]
      },
      {
       "output_type": "stream",
       "stream": "stdout",
       "text": [
        "\r",
        "41% [===============>                       ] 43,621,991  1.22MB/s  eta 45s    "
       ]
      },
      {
       "output_type": "stream",
       "stream": "stdout",
       "text": [
        "\r",
        "41% [===============>                       ] 43,949,671  1.23MB/s  eta 45s    "
       ]
      },
      {
       "output_type": "stream",
       "stream": "stdout",
       "text": [
        "\r",
        "42% [===============>                       ] 44,359,271  1.26MB/s  eta 45s    "
       ]
      },
      {
       "output_type": "stream",
       "stream": "stdout",
       "text": [
        "\r",
        "42% [===============>                       ] 44,752,487  1.28MB/s  eta 45s    "
       ]
      },
      {
       "output_type": "stream",
       "stream": "stdout",
       "text": [
        "\r",
        "43% [===============>                       ] 45,178,471  1.33MB/s  eta 45s    "
       ]
      },
      {
       "output_type": "stream",
       "stream": "stdout",
       "text": [
        "\r",
        "43% [===============>                       ] 45,588,071  1.37MB/s  eta 43s    "
       ]
      },
      {
       "output_type": "stream",
       "stream": "stdout",
       "text": [
        "\r",
        "43% [================>                      ] 46,079,591  1.42MB/s  eta 43s    "
       ]
      },
      {
       "output_type": "stream",
       "stream": "stdout",
       "text": [
        "\r",
        "44% [================>                      ] 46,538,343  1.47MB/s  eta 43s    "
       ]
      },
      {
       "output_type": "stream",
       "stream": "stdout",
       "text": [
        "\r",
        "44% [================>                      ] 46,898,791  1.58MB/s  eta 43s    "
       ]
      },
      {
       "output_type": "stream",
       "stream": "stdout",
       "text": [
        "\r",
        "45% [================>                      ] 47,242,855  1.63MB/s  eta 43s    "
       ]
      },
      {
       "output_type": "stream",
       "stream": "stdout",
       "text": [
        "\r",
        "45% [================>                      ] 47,570,535  1.66MB/s  eta 41s    "
       ]
      },
      {
       "output_type": "stream",
       "stream": "stdout",
       "text": [
        "\r",
        "45% [================>                      ] 47,865,447  1.67MB/s  eta 41s    "
       ]
      },
      {
       "output_type": "stream",
       "stream": "stdout",
       "text": [
        "\r",
        "45% [================>                      ] 48,176,743  1.66MB/s  eta 41s    "
       ]
      },
      {
       "output_type": "stream",
       "stream": "stdout",
       "text": [
        "\r",
        "46% [=================>                     ] 48,447,079  1.66MB/s  eta 41s    "
       ]
      },
      {
       "output_type": "stream",
       "stream": "stdout",
       "text": [
        "\r",
        "46% [=================>                     ] 48,684,647  1.63MB/s  eta 41s    "
       ]
      },
      {
       "output_type": "stream",
       "stream": "stdout",
       "text": [
        "\r",
        "46% [=================>                     ] 48,995,943  1.65MB/s  eta 40s    "
       ]
      },
      {
       "output_type": "stream",
       "stream": "stdout",
       "text": [
        "\r",
        "46% [=================>                     ] 49,225,319  1.61MB/s  eta 40s    "
       ]
      },
      {
       "output_type": "stream",
       "stream": "stdout",
       "text": [
        "\r",
        "47% [=================>                     ] 49,520,231  1.59MB/s  eta 40s    "
       ]
      },
      {
       "output_type": "stream",
       "stream": "stdout",
       "text": [
        "\r",
        "47% [=================>                     ] 49,946,215  1.60MB/s  eta 40s    "
       ]
      },
      {
       "output_type": "stream",
       "stream": "stdout",
       "text": [
        "\r",
        "47% [=================>                     ] 50,372,199  1.60MB/s  eta 40s    "
       ]
      },
      {
       "output_type": "stream",
       "stream": "stdout",
       "text": [
        "\r",
        "48% [=================>                     ] 50,683,495  1.58MB/s  eta 39s    "
       ]
      },
      {
       "output_type": "stream",
       "stream": "stdout",
       "text": [
        "\r",
        "48% [=================>                     ] 50,994,791  1.52MB/s  eta 39s    "
       ]
      },
      {
       "output_type": "stream",
       "stream": "stdout",
       "text": [
        "\r",
        "48% [==================>                    ] 51,256,935  1.47MB/s  eta 39s    "
       ]
      },
      {
       "output_type": "stream",
       "stream": "stdout",
       "text": [
        "\r",
        "49% [==================>                    ] 51,502,695  1.41MB/s  eta 39s    "
       ]
      },
      {
       "output_type": "stream",
       "stream": "stdout",
       "text": [
        "\r",
        "49% [==================>                    ] 51,682,919  1.37MB/s  eta 39s    "
       ]
      },
      {
       "output_type": "stream",
       "stream": "stdout",
       "text": [
        "\r",
        "49% [==================>                    ] 51,895,911  1.33MB/s  eta 38s    "
       ]
      },
      {
       "output_type": "stream",
       "stream": "stdout",
       "text": [
        "\r",
        "49% [==================>                    ] 52,125,287  1.30MB/s  eta 38s    "
       ]
      },
      {
       "output_type": "stream",
       "stream": "stdout",
       "text": [
        "\r",
        "49% [==================>                    ] 52,321,895  1.27MB/s  eta 38s    "
       ]
      },
      {
       "output_type": "stream",
       "stream": "stdout",
       "text": [
        "\r",
        "50% [==================>                    ] 52,502,119  1.23MB/s  eta 38s    "
       ]
      },
      {
       "output_type": "stream",
       "stream": "stdout",
       "text": [
        "\r",
        "50% [==================>                    ] 52,665,959  1.20MB/s  eta 38s    "
       ]
      },
      {
       "output_type": "stream",
       "stream": "stdout",
       "text": [
        "\r",
        "50% [==================>                    ] 52,846,183  1.16MB/s  eta 38s    "
       ]
      },
      {
       "output_type": "stream",
       "stream": "stdout",
       "text": [
        "\r",
        "50% [==================>                    ] 52,977,255  1.13MB/s  eta 38s    "
       ]
      },
      {
       "output_type": "stream",
       "stream": "stdout",
       "text": [
        "\r",
        "50% [==================>                    ] 53,075,559  1.08MB/s  eta 38s    "
       ]
      },
      {
       "output_type": "stream",
       "stream": "stdout",
       "text": [
        "\r",
        "50% [==================>                    ] 53,173,863   990KB/s  eta 38s    "
       ]
      },
      {
       "output_type": "stream",
       "stream": "stdout",
       "text": [
        "\r",
        "50% [==================>                    ] 53,206,631   881KB/s  eta 38s    "
       ]
      },
      {
       "output_type": "stream",
       "stream": "stdout",
       "text": [
        "\r",
        "50% [==================>                    ] 53,272,167   801KB/s  eta 38s    "
       ]
      },
      {
       "output_type": "stream",
       "stream": "stdout",
       "text": [
        "\r",
        "50% [==================>                    ] 53,403,239   764KB/s  eta 38s    "
       ]
      },
      {
       "output_type": "stream",
       "stream": "stdout",
       "text": [
        "\r",
        "51% [==================>                    ] 53,632,615   753KB/s  eta 38s    "
       ]
      },
      {
       "output_type": "stream",
       "stream": "stdout",
       "text": [
        "\r",
        "51% [===================>                   ] 53,960,295   765KB/s  eta 38s    "
       ]
      },
      {
       "output_type": "stream",
       "stream": "stdout",
       "text": [
        "\r",
        "51% [===================>                   ] 54,320,743   808KB/s  eta 38s    "
       ]
      },
      {
       "output_type": "stream",
       "stream": "stdout",
       "text": [
        "\r",
        "52% [===================>                   ] 54,730,343   874KB/s  eta 37s    "
       ]
      },
      {
       "output_type": "stream",
       "stream": "stdout",
       "text": [
        "\r",
        "52% [===================>                   ] 55,107,175   917KB/s  eta 37s    "
       ]
      },
      {
       "output_type": "stream",
       "stream": "stdout",
       "text": [
        "\r",
        "52% [===================>                   ] 55,565,927   987KB/s  eta 37s    "
       ]
      },
      {
       "output_type": "stream",
       "stream": "stdout",
       "text": [
        "\r",
        "53% [===================>                   ] 55,959,143  1.02MB/s  eta 37s    "
       ]
      },
      {
       "output_type": "stream",
       "stream": "stdout",
       "text": [
        "\r",
        "53% [===================>                   ] 56,385,127  1.10MB/s  eta 37s    "
       ]
      },
      {
       "output_type": "stream",
       "stream": "stdout",
       "text": [
        "\r",
        "54% [====================>                  ] 56,761,959  1.16MB/s  eta 35s    "
       ]
      },
      {
       "output_type": "stream",
       "stream": "stdout",
       "text": [
        "\r",
        "54% [====================>                  ] 57,040,487  1.18MB/s  eta 35s    "
       ]
      },
      {
       "output_type": "stream",
       "stream": "stdout",
       "text": [
        "\r",
        "54% [====================>                  ] 57,319,015  1.26MB/s  eta 35s    "
       ]
      },
      {
       "output_type": "stream",
       "stream": "stdout",
       "text": [
        "\r",
        "54% [====================>                  ] 57,564,775  1.28MB/s  eta 35s    "
       ]
      },
      {
       "output_type": "stream",
       "stream": "stdout",
       "text": [
        "\r",
        "55% [====================>                  ] 57,941,607  1.36MB/s  eta 35s    "
       ]
      },
      {
       "output_type": "stream",
       "stream": "stdout",
       "text": [
        "\r",
        "55% [====================>                  ] 58,203,751  1.51MB/s  eta 34s    "
       ]
      },
      {
       "output_type": "stream",
       "stream": "stdout",
       "text": [
        "\r",
        "55% [====================>                  ] 58,531,431  1.56MB/s  eta 34s    "
       ]
      },
      {
       "output_type": "stream",
       "stream": "stdout",
       "text": [
        "\r",
        "56% [====================>                  ] 58,875,495  1.59MB/s  eta 34s    "
       ]
      },
      {
       "output_type": "stream",
       "stream": "stdout",
       "text": [
        "\r",
        "56% [=====================>                 ] 59,301,479  1.64MB/s  eta 34s    "
       ]
      },
      {
       "output_type": "stream",
       "stream": "stdout",
       "text": [
        "\r",
        "56% [=====================>                 ] 59,776,615  1.67MB/s  eta 34s    "
       ]
      },
      {
       "output_type": "stream",
       "stream": "stdout",
       "text": [
        "\r",
        "57% [=====================>                 ] 60,350,055  1.72MB/s  eta 32s    "
       ]
      },
      {
       "output_type": "stream",
       "stream": "stdout",
       "text": [
        "\r",
        "57% [=====================>                 ] 60,874,343  1.77MB/s  eta 32s    "
       ]
      },
      {
       "output_type": "stream",
       "stream": "stdout",
       "text": [
        "\r",
        "58% [=====================>                 ] 61,398,631  1.80MB/s  eta 32s    "
       ]
      },
      {
       "output_type": "stream",
       "stream": "stdout",
       "text": [
        "\r",
        "58% [=====================>                 ] 61,840,999  1.80MB/s  eta 32s    "
       ]
      },
      {
       "output_type": "stream",
       "stream": "stdout",
       "text": [
        "\r",
        "59% [======================>                ] 62,201,447  1.79MB/s  eta 32s    "
       ]
      },
      {
       "output_type": "stream",
       "stream": "stdout",
       "text": [
        "\r",
        "59% [======================>                ] 62,561,895  1.77MB/s  eta 30s    "
       ]
      },
      {
       "output_type": "stream",
       "stream": "stdout",
       "text": [
        "\r",
        "59% [======================>                ] 62,946,919  1.79MB/s  eta 30s    "
       ]
      },
      {
       "output_type": "stream",
       "stream": "stdout",
       "text": [
        "\r",
        "60% [======================>                ] 63,331,943  1.82MB/s  eta 30s    "
       ]
      },
      {
       "output_type": "stream",
       "stream": "stdout",
       "text": [
        "\r",
        "60% [======================>                ] 63,790,695  1.91MB/s  eta 30s    "
       ]
      },
      {
       "output_type": "stream",
       "stream": "stdout",
       "text": [
        "\r",
        "61% [======================>                ] 64,249,447  1.94MB/s  eta 30s    "
       ]
      },
      {
       "output_type": "stream",
       "stream": "stdout",
       "text": [
        "\r",
        "61% [======================>                ] 64,593,511  1.93MB/s  eta 29s    "
       ]
      },
      {
       "output_type": "stream",
       "stream": "stdout",
       "text": [
        "\r",
        "61% [=======================>               ] 64,896,615  1.95MB/s  eta 29s    "
       ]
      },
      {
       "output_type": "stream",
       "stream": "stdout",
       "text": [
        "\r",
        "62% [=======================>               ] 65,216,103  1.95MB/s  eta 29s    "
       ]
      },
      {
       "output_type": "stream",
       "stream": "stdout",
       "text": [
        "\r",
        "62% [=======================>               ] 65,592,935  1.93MB/s  eta 29s    "
       ]
      },
      {
       "output_type": "stream",
       "stream": "stdout",
       "text": [
        "\r",
        "62% [=======================>               ] 65,936,999  1.90MB/s  eta 29s    "
       ]
      },
      {
       "output_type": "stream",
       "stream": "stdout",
       "text": [
        "\r",
        "63% [=======================>               ] 66,420,327  1.91MB/s  eta 27s    "
       ]
      },
      {
       "output_type": "stream",
       "stream": "stdout",
       "text": [
        "\r",
        "63% [=======================>               ] 66,756,199  1.85MB/s  eta 27s    "
       ]
      },
      {
       "output_type": "stream",
       "stream": "stdout",
       "text": [
        "\r",
        "63% [=======================>               ] 67,116,647  1.78MB/s  eta 27s    "
       ]
      },
      {
       "output_type": "stream",
       "stream": "stdout",
       "text": [
        "\r",
        "64% [========================>              ] 67,526,247  1.75MB/s  eta 27s    "
       ]
      },
      {
       "output_type": "stream",
       "stream": "stdout",
       "text": [
        "\r",
        "64% [========================>              ] 67,903,079  1.76MB/s  eta 27s    "
       ]
      },
      {
       "output_type": "stream",
       "stream": "stdout",
       "text": [
        "\r",
        "65% [========================>              ] 68,345,447  1.77MB/s  eta 26s    "
       ]
      },
      {
       "output_type": "stream",
       "stream": "stdout",
       "text": [
        "\r",
        "65% [========================>              ] 68,935,271  1.83MB/s  eta 26s    "
       ]
      },
      {
       "output_type": "stream",
       "stream": "stdout",
       "text": [
        "\r",
        "66% [========================>              ] 69,443,175  1.88MB/s  eta 26s    "
       ]
      },
      {
       "output_type": "stream",
       "stream": "stdout",
       "text": [
        "\r",
        "66% [========================>              ] 69,885,543  1.86MB/s  eta 26s    "
       ]
      },
      {
       "output_type": "stream",
       "stream": "stdout",
       "text": [
        "\r",
        "66% [=========================>             ] 70,245,991  1.84MB/s  eta 26s    "
       ]
      },
      {
       "output_type": "stream",
       "stream": "stdout",
       "text": [
        "\r",
        "67% [=========================>             ] 70,458,983  1.76MB/s  eta 24s    "
       ]
      },
      {
       "output_type": "stream",
       "stream": "stdout",
       "text": [
        "\r",
        "67% [=========================>             ] 70,671,975  1.74MB/s  eta 24s    "
       ]
      },
      {
       "output_type": "stream",
       "stream": "stdout",
       "text": [
        "\r",
        "67% [=========================>             ] 70,770,279  1.69MB/s  eta 24s    "
       ]
      },
      {
       "output_type": "stream",
       "stream": "stdout",
       "text": [
        "\r",
        "67% [=========================>             ] 70,934,119  1.62MB/s  eta 24s    "
       ]
      },
      {
       "output_type": "stream",
       "stream": "stdout",
       "text": [
        "\r",
        "67% [=========================>             ] 71,081,575  1.56MB/s  eta 24s    "
       ]
      },
      {
       "output_type": "stream",
       "stream": "stdout",
       "text": [
        "\r",
        "67% [=========================>             ] 71,261,799  1.47MB/s  eta 24s    "
       ]
      },
      {
       "output_type": "stream",
       "stream": "stdout",
       "text": [
        "\r",
        "68% [=========================>             ] 71,392,871  1.38MB/s  eta 24s    "
       ]
      },
      {
       "output_type": "stream",
       "stream": "stdout",
       "text": [
        "\r",
        "68% [=========================>             ] 71,491,175  1.32MB/s  eta 24s    "
       ]
      },
      {
       "output_type": "stream",
       "stream": "stdout",
       "text": [
        "\r",
        "68% [=========================>             ] 71,605,863  1.22MB/s  eta 24s    "
       ]
      },
      {
       "output_type": "stream",
       "stream": "stdout",
       "text": [
        "\r",
        "68% [=========================>             ] 71,736,935  1.14MB/s  eta 24s    "
       ]
      },
      {
       "output_type": "stream",
       "stream": "stdout",
       "text": [
        "\r",
        "68% [=========================>             ] 71,851,623  1.03MB/s  eta 24s    "
       ]
      },
      {
       "output_type": "stream",
       "stream": "stdout",
       "text": [
        "\r",
        "68% [=========================>             ] 71,982,695   938KB/s  eta 24s    "
       ]
      },
      {
       "output_type": "stream",
       "stream": "stdout",
       "text": [
        "\r",
        "68% [=========================>             ] 72,080,999   829KB/s  eta 24s    "
       ]
      },
      {
       "output_type": "stream",
       "stream": "stdout",
       "text": [
        "\r",
        "68% [=========================>             ] 72,162,919   675KB/s  eta 24s    "
       ]
      },
      {
       "output_type": "stream",
       "stream": "stdout",
       "text": [
        "\r",
        "68% [=========================>             ] 72,261,223   613KB/s  eta 24s    "
       ]
      },
      {
       "output_type": "stream",
       "stream": "stdout",
       "text": [
        "\r",
        "68% [=========================>             ] 72,375,911   587KB/s  eta 24s    "
       ]
      },
      {
       "output_type": "stream",
       "stream": "stdout",
       "text": [
        "\r",
        "69% [=========================>             ] 72,539,751   579KB/s  eta 24s    "
       ]
      },
      {
       "output_type": "stream",
       "stream": "stdout",
       "text": [
        "\r",
        "69% [=========================>             ] 72,654,439   557KB/s  eta 24s    "
       ]
      },
      {
       "output_type": "stream",
       "stream": "stdout",
       "text": [
        "\r",
        "69% [==========================>            ] 72,752,743   544KB/s  eta 24s    "
       ]
      },
      {
       "output_type": "stream",
       "stream": "stdout",
       "text": [
        "\r",
        "69% [==========================>            ] 72,916,583   550KB/s  eta 24s    "
       ]
      },
      {
       "output_type": "stream",
       "stream": "stdout",
       "text": [
        "\r",
        "69% [==========================>            ] 73,064,039   551KB/s  eta 23s    "
       ]
      },
      {
       "output_type": "stream",
       "stream": "stdout",
       "text": [
        "\r",
        "69% [==========================>            ] 73,227,879   548KB/s  eta 23s    "
       ]
      },
      {
       "output_type": "stream",
       "stream": "stdout",
       "text": [
        "\r",
        "69% [==========================>            ] 73,440,871   581KB/s  eta 23s    "
       ]
      },
      {
       "output_type": "stream",
       "stream": "stdout",
       "text": [
        "\r",
        "70% [==========================>            ] 73,604,711   601KB/s  eta 23s    "
       ]
      },
      {
       "output_type": "stream",
       "stream": "stdout",
       "text": [
        "\r",
        "70% [==========================>            ] 73,801,319   627KB/s  eta 23s    "
       ]
      },
      {
       "output_type": "stream",
       "stream": "stdout",
       "text": [
        "\r",
        "70% [==========================>            ] 73,965,159   634KB/s  eta 23s    "
       ]
      },
      {
       "output_type": "stream",
       "stream": "stdout",
       "text": [
        "\r",
        "70% [==========================>            ] 74,145,383   655KB/s  eta 23s    "
       ]
      },
      {
       "output_type": "stream",
       "stream": "stdout",
       "text": [
        "\r",
        "70% [==========================>            ] 74,325,607   676KB/s  eta 23s    "
       ]
      },
      {
       "output_type": "stream",
       "stream": "stdout",
       "text": [
        "\r",
        "71% [==========================>            ] 74,554,983   710KB/s  eta 23s    "
       ]
      },
      {
       "output_type": "stream",
       "stream": "stdout",
       "text": [
        "\r",
        "71% [==========================>            ] 74,866,279   775KB/s  eta 23s    "
       ]
      },
      {
       "output_type": "stream",
       "stream": "stdout",
       "text": [
        "\r",
        "71% [==========================>            ] 75,210,343   854KB/s  eta 22s    "
       ]
      },
      {
       "output_type": "stream",
       "stream": "stdout",
       "text": [
        "\r",
        "71% [===========================>           ] 75,521,639   904KB/s  eta 22s    "
       ]
      },
      {
       "output_type": "stream",
       "stream": "stdout",
       "text": [
        "\r",
        "72% [===========================>           ] 75,800,167   933KB/s  eta 22s    "
       ]
      },
      {
       "output_type": "stream",
       "stream": "stdout",
       "text": [
        "\r",
        "72% [===========================>           ] 76,111,463  1021KB/s  eta 22s    "
       ]
      },
      {
       "output_type": "stream",
       "stream": "stdout",
       "text": [
        "\r",
        "72% [===========================>           ] 76,422,759  1.04MB/s  eta 22s    "
       ]
      },
      {
       "output_type": "stream",
       "stream": "stdout",
       "text": [
        "\r",
        "73% [===========================>           ] 76,734,055  1.08MB/s  eta 21s    "
       ]
      },
      {
       "output_type": "stream",
       "stream": "stdout",
       "text": [
        "\r",
        "73% [===========================>           ] 76,930,663  1.11MB/s  eta 21s    "
       ]
      },
      {
       "output_type": "stream",
       "stream": "stdout",
       "text": [
        "\r",
        "73% [===========================>           ] 77,209,191  1.13MB/s  eta 21s    "
       ]
      },
      {
       "output_type": "stream",
       "stream": "stdout",
       "text": [
        "\r",
        "73% [===========================>           ] 77,520,487  1.16MB/s  eta 21s    "
       ]
      },
      {
       "output_type": "stream",
       "stream": "stdout",
       "text": [
        "\r",
        "74% [===========================>           ] 77,864,551  1.21MB/s  eta 21s    "
       ]
      },
      {
       "output_type": "stream",
       "stream": "stdout",
       "text": [
        "\r",
        "74% [============================>          ] 78,208,615  1.27MB/s  eta 20s    "
       ]
      },
      {
       "output_type": "stream",
       "stream": "stdout",
       "text": [
        "\r",
        "74% [============================>          ] 78,470,759  1.29MB/s  eta 20s    "
       ]
      },
      {
       "output_type": "stream",
       "stream": "stdout",
       "text": [
        "\r",
        "74% [============================>          ] 78,700,135  1.32MB/s  eta 20s    "
       ]
      },
      {
       "output_type": "stream",
       "stream": "stdout",
       "text": [
        "\r",
        "75% [============================>          ] 78,929,511  1.32MB/s  eta 20s    "
       ]
      },
      {
       "output_type": "stream",
       "stream": "stdout",
       "text": [
        "\r",
        "75% [============================>          ] 79,158,887  1.32MB/s  eta 20s    "
       ]
      },
      {
       "output_type": "stream",
       "stream": "stdout",
       "text": [
        "\r",
        "75% [============================>          ] 79,289,959  1.23MB/s  eta 19s    "
       ]
      },
      {
       "output_type": "stream",
       "stream": "stdout",
       "text": [
        "\r",
        "75% [============================>          ] 79,388,263  1.17MB/s  eta 19s    "
       ]
      },
      {
       "output_type": "stream",
       "stream": "stdout",
       "text": [
        "\r",
        "75% [============================>          ] 79,552,103  1.14MB/s  eta 19s    "
       ]
      },
      {
       "output_type": "stream",
       "stream": "stdout",
       "text": [
        "\r",
        "76% [============================>          ] 79,814,247  1.14MB/s  eta 19s    "
       ]
      },
      {
       "output_type": "stream",
       "stream": "stdout",
       "text": [
        "\r",
        "76% [============================>          ] 79,994,471  1.10MB/s  eta 19s    "
       ]
      },
      {
       "output_type": "stream",
       "stream": "stdout",
       "text": [
        "\r",
        "76% [============================>          ] 80,240,231  1.06MB/s  eta 18s    "
       ]
      },
      {
       "output_type": "stream",
       "stream": "stdout",
       "text": [
        "\r",
        "76% [============================>          ] 80,600,679  1.10MB/s  eta 18s    "
       ]
      },
      {
       "output_type": "stream",
       "stream": "stdout",
       "text": [
        "\r",
        "77% [=============================>         ] 80,928,359  1.14MB/s  eta 18s    "
       ]
      },
      {
       "output_type": "stream",
       "stream": "stdout",
       "text": [
        "\r",
        "77% [=============================>         ] 81,337,959  1.17MB/s  eta 18s    "
       ]
      },
      {
       "output_type": "stream",
       "stream": "stdout",
       "text": [
        "\r",
        "77% [=============================>         ] 81,747,559  1.20MB/s  eta 18s    "
       ]
      },
      {
       "output_type": "stream",
       "stream": "stdout",
       "text": [
        "\r",
        "78% [=============================>         ] 82,239,079  1.23MB/s  eta 17s    "
       ]
      },
      {
       "output_type": "stream",
       "stream": "stdout",
       "text": [
        "\r",
        "78% [=============================>         ] 82,812,519  1.32MB/s  eta 17s    "
       ]
      },
      {
       "output_type": "stream",
       "stream": "stdout",
       "text": [
        "\r",
        "79% [=============================>         ] 83,353,191  1.42MB/s  eta 17s    "
       ]
      },
      {
       "output_type": "stream",
       "stream": "stdout",
       "text": [
        "\r",
        "79% [==============================>        ] 83,910,247  1.51MB/s  eta 17s    "
       ]
      },
      {
       "output_type": "stream",
       "stream": "stdout",
       "text": [
        "\r",
        "80% [==============================>        ] 84,500,071  1.63MB/s  eta 17s    "
       ]
      },
      {
       "output_type": "stream",
       "stream": "stdout",
       "text": [
        "\r",
        "81% [==============================>        ] 85,073,511  1.75MB/s  eta 14s    "
       ]
      },
      {
       "output_type": "stream",
       "stream": "stdout",
       "text": [
        "\r",
        "81% [==============================>        ] 85,433,959  1.80MB/s  eta 14s    "
       ]
      },
      {
       "output_type": "stream",
       "stream": "stdout",
       "text": [
        "\r",
        "81% [==============================>        ] 85,630,567  1.87MB/s  eta 14s    "
       ]
      },
      {
       "output_type": "stream",
       "stream": "stdout",
       "text": [
        "\r",
        "81% [==============================>        ] 85,761,639  1.82MB/s  eta 14s    "
       ]
      },
      {
       "output_type": "stream",
       "stream": "stdout",
       "text": [
        "\r",
        "81% [==============================>        ] 85,909,095  1.76MB/s  eta 14s    "
       ]
      },
      {
       "output_type": "stream",
       "stream": "stdout",
       "text": [
        "\r",
        "81% [==============================>        ] 86,056,551  1.77MB/s  eta 14s    "
       ]
      },
      {
       "output_type": "stream",
       "stream": "stdout",
       "text": [
        "\r",
        "82% [===============================>       ] 86,253,159  1.73MB/s  eta 14s    "
       ]
      },
      {
       "output_type": "stream",
       "stream": "stdout",
       "text": [
        "\r",
        "82% [===============================>       ] 86,466,151  1.69MB/s  eta 14s    "
       ]
      },
      {
       "output_type": "stream",
       "stream": "stdout",
       "text": [
        "\r",
        "82% [===============================>       ] 86,810,215  1.70MB/s  eta 14s    "
       ]
      },
      {
       "output_type": "stream",
       "stream": "stdout",
       "text": [
        "\r",
        "82% [===============================>       ] 87,105,127  1.66MB/s  eta 14s    "
       ]
      },
      {
       "output_type": "stream",
       "stream": "stdout",
       "text": [
        "\r",
        "83% [===============================>       ] 87,318,119  1.60MB/s  eta 13s    "
       ]
      },
      {
       "output_type": "stream",
       "stream": "stdout",
       "text": [
        "\r",
        "83% [===============================>       ] 87,645,799  1.56MB/s  eta 13s    "
       ]
      },
      {
       "output_type": "stream",
       "stream": "stdout",
       "text": [
        "\r",
        "83% [===============================>       ] 88,055,399  1.48MB/s  eta 13s    "
       ]
      },
      {
       "output_type": "stream",
       "stream": "stdout",
       "text": [
        "\r",
        "84% [===============================>       ] 88,399,463  1.43MB/s  eta 13s    "
       ]
      },
      {
       "output_type": "stream",
       "stream": "stdout",
       "text": [
        "\r",
        "84% [===============================>       ] 88,743,527  1.39MB/s  eta 13s    "
       ]
      },
      {
       "output_type": "stream",
       "stream": "stdout",
       "text": [
        "\r",
        "84% [================================>      ] 89,087,591  1.27MB/s  eta 12s    "
       ]
      },
      {
       "output_type": "stream",
       "stream": "stdout",
       "text": [
        "\r",
        "85% [================================>      ] 89,448,039  1.25MB/s  eta 12s    "
       ]
      },
      {
       "output_type": "stream",
       "stream": "stdout",
       "text": [
        "\r",
        "85% [================================>      ] 89,923,175  1.29MB/s  eta 12s    "
       ]
      },
      {
       "output_type": "stream",
       "stream": "stdout",
       "text": [
        "\r",
        "86% [================================>      ] 90,381,927  1.40MB/s  eta 12s    "
       ]
      },
      {
       "output_type": "stream",
       "stream": "stdout",
       "text": [
        "\r",
        "86% [================================>      ] 90,889,831  1.51MB/s  eta 12s    "
       ]
      },
      {
       "output_type": "stream",
       "stream": "stdout",
       "text": [
        "\r",
        "87% [================================>      ] 91,414,119  1.62MB/s  eta 10s    "
       ]
      },
      {
       "output_type": "stream",
       "stream": "stdout",
       "text": [
        "\r",
        "87% [=================================>     ] 91,971,175  1.76MB/s  eta 10s    "
       ]
      },
      {
       "output_type": "stream",
       "stream": "stdout",
       "text": [
        "\r",
        "88% [=================================>     ] 92,528,231  1.86MB/s  eta 10s    "
       ]
      },
      {
       "output_type": "stream",
       "stream": "stdout",
       "text": [
        "\r",
        "88% [=================================>     ] 93,003,367  1.91MB/s  eta 10s    "
       ]
      },
      {
       "output_type": "stream",
       "stream": "stdout",
       "text": [
        "\r",
        "89% [=================================>     ] 93,445,735  1.93MB/s  eta 10s    "
       ]
      },
      {
       "output_type": "stream",
       "stream": "stdout",
       "text": [
        "\r",
        "89% [=================================>     ] 93,789,799  1.99MB/s  eta 8s     "
       ]
      },
      {
       "output_type": "stream",
       "stream": "stdout",
       "text": [
        "\r",
        "89% [=================================>     ] 94,142,055  2.00MB/s  eta 8s     "
       ]
      },
      {
       "output_type": "stream",
       "stream": "stdout",
       "text": [
        "\r",
        "90% [==================================>    ] 94,477,927  1.99MB/s  eta 8s     "
       ]
      },
      {
       "output_type": "stream",
       "stream": "stdout",
       "text": [
        "\r",
        "90% [==================================>    ] 94,690,919  1.94MB/s  eta 8s     "
       ]
      },
      {
       "output_type": "stream",
       "stream": "stdout",
       "text": [
        "\r",
        "90% [==================================>    ] 94,903,911  1.91MB/s  eta 8s     "
       ]
      },
      {
       "output_type": "stream",
       "stream": "stdout",
       "text": [
        "\r",
        "90% [==================================>    ] 95,247,975  1.89MB/s  eta 7s     "
       ]
      },
      {
       "output_type": "stream",
       "stream": "stdout",
       "text": [
        "\r",
        "91% [==================================>    ] 95,526,503  1.87MB/s  eta 7s     "
       ]
      },
      {
       "output_type": "stream",
       "stream": "stdout",
       "text": [
        "\r",
        "91% [==================================>    ] 95,805,031  1.83MB/s  eta 7s     "
       ]
      },
      {
       "output_type": "stream",
       "stream": "stdout",
       "text": [
        "\r",
        "91% [==================================>    ] 96,083,559  1.80MB/s  eta 7s     "
       ]
      },
      {
       "output_type": "stream",
       "stream": "stdout",
       "text": [
        "\r",
        "91% [==================================>    ] 96,263,783  1.67MB/s  eta 7s     "
       ]
      },
      {
       "output_type": "stream",
       "stream": "stdout",
       "text": [
        "\r",
        "91% [==================================>    ] 96,476,775  1.58MB/s  eta 6s     "
       ]
      },
      {
       "output_type": "stream",
       "stream": "stdout",
       "text": [
        "\r",
        "92% [==================================>    ] 96,624,231  1.49MB/s  eta 6s     "
       ]
      },
      {
       "output_type": "stream",
       "stream": "stdout",
       "text": [
        "\r",
        "92% [==================================>    ] 96,820,839  1.40MB/s  eta 6s     "
       ]
      },
      {
       "output_type": "stream",
       "stream": "stdout",
       "text": [
        "\r",
        "92% [===================================>   ] 97,001,063  1.25MB/s  eta 6s     "
       ]
      },
      {
       "output_type": "stream",
       "stream": "stdout",
       "text": [
        "\r",
        "92% [===================================>   ] 97,082,983  1.16MB/s  eta 6s     "
       ]
      },
      {
       "output_type": "stream",
       "stream": "stdout",
       "text": [
        "\r",
        "92% [===================================>   ] 97,230,439  1.08MB/s  eta 6s     "
       ]
      },
      {
       "output_type": "stream",
       "stream": "stdout",
       "text": [
        "\r",
        "92% [===================================>   ] 97,541,735  1.06MB/s  eta 6s     "
       ]
      },
      {
       "output_type": "stream",
       "stream": "stdout",
       "text": [
        "\r",
        "93% [===================================>   ] 97,951,335  1.08MB/s  eta 6s     "
       ]
      },
      {
       "output_type": "stream",
       "stream": "stdout",
       "text": [
        "\r",
        "93% [===================================>   ] 98,311,783  1.09MB/s  eta 6s     "
       ]
      },
      {
       "output_type": "stream",
       "stream": "stdout",
       "text": [
        "\r",
        "94% [===================================>   ] 98,688,615  1.15MB/s  eta 6s     "
       ]
      },
      {
       "output_type": "stream",
       "stream": "stdout",
       "text": [
        "\r",
        "94% [===================================>   ] 99,098,215  1.19MB/s  eta 4s     "
       ]
      },
      {
       "output_type": "stream",
       "stream": "stdout",
       "text": [
        "\r",
        "94% [===================================>   ] 99,458,663  1.20MB/s  eta 4s     "
       ]
      },
      {
       "output_type": "stream",
       "stream": "stdout",
       "text": [
        "\r",
        "95% [====================================>  ] 99,982,951  1.27MB/s  eta 4s     "
       ]
      },
      {
       "output_type": "stream",
       "stream": "stdout",
       "text": [
        "\r",
        "95% [====================================>  ] 100,376,167 1.31MB/s  eta 4s     "
       ]
      },
      {
       "output_type": "stream",
       "stream": "stdout",
       "text": [
        "\r",
        "96% [====================================>  ] 100,916,839 1.38MB/s  eta 4s     "
       ]
      },
      {
       "output_type": "stream",
       "stream": "stdout",
       "text": [
        "\r",
        "96% [====================================>  ] 101,408,359 1.50MB/s  eta 3s     "
       ]
      },
      {
       "output_type": "stream",
       "stream": "stdout",
       "text": [
        "\r",
        "97% [====================================>  ] 101,949,031 1.61MB/s  eta 3s     "
       ]
      },
      {
       "output_type": "stream",
       "stream": "stdout",
       "text": [
        "\r",
        "97% [=====================================> ] 102,440,551 1.68MB/s  eta 3s     "
       ]
      },
      {
       "output_type": "stream",
       "stream": "stdout",
       "text": [
        "\r",
        "98% [=====================================> ] 102,981,223 1.83MB/s  eta 3s     "
       ]
      },
      {
       "output_type": "stream",
       "stream": "stdout",
       "text": [
        "\r",
        "98% [=====================================> ] 103,554,663 1.95MB/s  eta 3s     "
       ]
      },
      {
       "output_type": "stream",
       "stream": "stdout",
       "text": [
        "\r",
        "99% [=====================================> ] 104,095,335 2.07MB/s  eta 1s     "
       ]
      },
      {
       "output_type": "stream",
       "stream": "stdout",
       "text": [
        "\r",
        "99% [=====================================> ] 104,636,007 2.19MB/s  eta 1s     "
       ]
      },
      {
       "output_type": "stream",
       "stream": "stdout",
       "text": [
        "\r",
        "100%[======================================>] 104,967,376 2.20MB/s   in 73s    \r\n",
        "\r\n",
        "2013-11-13 16:21:44 (1.36 MB/s) - \u2018user_tag_activity.json\u2019 saved [104967376/104967376]\r\n",
        "\r\n"
       ]
      }
     ],
     "prompt_number": 96
    },
    {
     "cell_type": "code",
     "collapsed": false,
     "input": [
      "import json\n",
      "\n",
      "file = open('user_tag_activity.json', 'r')\n",
      "data = []\n",
      "\n",
      "labels = []\n",
      "\n",
      "count = 0\n",
      "\n",
      "for line in file:\n",
      "    if count >= 500:\n",
      "        break\n",
      "    count = count + 1\n",
      "    map = json.loads(line.strip())\n",
      "    label = 1 if map[\"accepted\"] == \"1\" else 0\n",
      "    labels.append(label)\n",
      "    \n",
      "    map_two = {}\n",
      "    for k,v in map.iteritems(): \n",
      "        if k != \"accepted\":\n",
      "            map_two[k] = str(v)\n",
      "    data.append(map_two)\n",
      "\n",
      "file.close()"
     ],
     "language": "python",
     "metadata": {},
     "outputs": [],
     "prompt_number": 2
    },
    {
     "cell_type": "code",
     "collapsed": false,
     "input": [
      "vec = DictVectorizer(sparse=False)\n",
      "# get labels: \n",
      "\n",
      "vec.fit(data)\n",
      "print vec.get_feature_names()\n",
      "\n",
      "# let's build data to try to predict if a response is accepted\n",
      "# specify the features that will be considered\n",
      "features = vec.transform(data)\n",
      "\n",
      "print features[0:3]\n",
      "\n",
      "# construct labels for examples\n",
      "\n",
      "\n",
      "print labels[0:3]"
     ],
     "language": "python",
     "metadata": {},
     "outputs": [],
     "prompt_number": "*"
    },
    {
     "cell_type": "markdown",
     "metadata": {},
     "source": [
      "For dealing with text features, scikit-learn has several options for constructing feature vectors. One of the most powerful is `TfidfVectorizer`:"
     ]
    },
    {
     "cell_type": "code",
     "collapsed": false,
     "input": [
      "# categorizing the 20 newsgroups dataset\n",
      "from sklearn.feature_extraction.text import TfidfVectorizer\n",
      "from sklearn.linear_model import SGDClassifier\n",
      "from sklearn import datasets\n",
      "from sklearn import metrics\n",
      "\n",
      "categories = [\n",
      "        'alt.atheism',\n",
      "        'talk.religion.misc',\n",
      "        'comp.graphics',\n",
      "        'sci.space',\n",
      "]\n",
      "\n",
      "data_train = datasets.fetch_20newsgroups(subset='train', categories=categories,\n",
      "                               shuffle=True, random_state=42)\n",
      "\n",
      "data_test = datasets.fetch_20newsgroups(subset='test', categories=categories,\n",
      "                              shuffle=True, random_state=42)\n",
      "\n",
      "print \"%d documents (training set)\" % len(data_train.data)\n",
      "print \"%d documents (testing set)\" % len(data_test.data)\n",
      "print \"%d categories\" % len(categories)\n",
      "\n",
      "# split a training set and a test set\n",
      "y_train, y_test = data_train.target, data_test.target\n",
      "\n",
      "vectorizer = TfidfVectorizer(sublinear_tf=True, max_df=0.5,\n",
      "                             stop_words='english')\n",
      "vectorizer.fit(data_train.data) # the raw text\n",
      "\n",
      "X_train = vectorizer.transform(data_train.data).toarray()\n",
      "X_test = vectorizer.transform(data_test.data).toarray()\n",
      "\n",
      "print X_train[0:5]\n",
      "\n",
      "model = SGDClassifier()\n",
      "model.fit(X_train, y_train)\n",
      "\n",
      "y_pred = model.predict(X_test)\n",
      "print y_pred"
     ],
     "language": "python",
     "metadata": {},
     "outputs": [
      {
       "output_type": "stream",
       "stream": "stdout",
       "text": [
        "2034 documents (training set)\n",
        "1353 documents (testing set)\n",
        "4 categories\n",
        "[[ 0.  0.  0. ...,  0.  0.  0.]\n",
        " [ 0.  0.  0. ...,  0.  0.  0.]\n",
        " [ 0.  0.  0. ...,  0.  0.  0.]\n",
        " [ 0.  0.  0. ...,  0.  0.  0.]\n",
        " [ 0.  0.  0. ...,  0.  0.  0.]]"
       ]
      },
      {
       "output_type": "stream",
       "stream": "stdout",
       "text": [
        "\n",
        "[2 1 1 ..., 3 1 1]"
       ]
      },
      {
       "output_type": "stream",
       "stream": "stdout",
       "text": [
        "\n"
       ]
      }
     ],
     "prompt_number": 16
    },
    {
     "cell_type": "markdown",
     "metadata": {},
     "source": [
      "Finding the Best Model Parameters: Grid Search\n",
      "----------------------------------------------\n",
      "\n",
      "(http://scikit-learn.org/stable/modules/grid_search.html)"
     ]
    },
    {
     "cell_type": "markdown",
     "metadata": {},
     "source": [
      "Learning Curves\n",
      "---------------\n",
      "\n",
      "(http://www.astroml.org/sklearn_tutorial/practical.html#learning-curves)"
     ]
    }
   ],
   "metadata": {}
  }
 ]
}