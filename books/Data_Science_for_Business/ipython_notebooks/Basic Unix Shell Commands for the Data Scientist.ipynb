{
 "metadata": {
  "name": ""
 },
 "nbformat": 3,
 "nbformat_minor": 0,
 "worksheets": [
  {
   "cells": [
    {
     "cell_type": "markdown",
     "metadata": {},
     "source": [
      "Overview\n",
      "--------\n",
      "Modern data science is impossible without some understanding of the Unix command line.  Unix is a family of computer operating systems including the Mac\u2019s OS X and Linux (technically, Linux is a Unix clone); Windows has Unix emulators, which allow running Unix commands.  We will use the terms Unix and Linux interchangeably to mean operating systems that use the unix shell commands--our present topic.\n",
      "\n",
      "As one\u2019s proficiency with the unix shell increases, so too does efficiency in completing and automating many tasks. This document is a tutorial in some of the basic unix command-line utilities used for data gathering, searching, cleaning and summarizing. Generally, unix commands are very efficient, and can be used to process data that is quite large, beyond what can be loaded into your computer\u2019s main memory, and can easily handle workloads far exceeding the capabilities of tools like Excel.\n",
      "\n",
      "Once you have access to the terminal, try it out! Type `pwd`. This will tell you your current directory. If you want to know the contents of this directory, type `ls -A`. We'll go on to get into some real meat. Before we get started, let's first get some useful data to process.\n",
      "\n",
      "Data\n",
      "----\n",
      "\n",
      "Many of the shell scripting examples below are performed on the following example data ([downloadable here](https://raw.githubusercontent.com/jattenberg/PDS-Spring-2014/master/data/sample.txt)):"
     ]
    },
    {
     "cell_type": "raw",
     "metadata": {},
     "source": [
      "123\t1346699925\t11122\tfoo bar\n",
      "222\t1346699955\t11145\tbiz baz\n",
      "140\t1346710000\t11122\thee haw\n",
      "234\t1346700000\t11135\tbip bop\n",
      "146\t1346699999\t11123\tfoo bar\n",
      "99\t1346750000\t11135\tbip bop\n",
      "99\t1346750000\t11135\tbip bop"
     ]
    },
    {
     "cell_type": "markdown",
     "metadata": {},
     "source": [
      "The columns in this tab-separated data correspond to [order id] [time of order] [user id] [ordered item], something similar to what might be encountered in practice. If you wish, you can copy-paste the data written above into a text editor, making sure there is a newline following each of the ordered item columns (the columns with alphabetic characters).\n",
      "\n",
      "Alternately, the sample data file is hosted online. You can use terminal commands to copy this remote file. Simply type:\n",
      "`wget https://raw.githubusercontent.com/jattenberg/PDS-Spring-2014/master/data/sample.txt` like so:"
     ]
    },
    {
     "cell_type": "code",
     "collapsed": false,
     "input": [
      "!wget https://raw.githubusercontent.com/jattenberg/PDS-Spring-2014/master/data/sample.txt"
     ],
     "language": "python",
     "metadata": {},
     "outputs": [
      {
       "output_type": "stream",
       "stream": "stdout",
       "text": [
        "--2014-05-21 20:33:55--  https://raw.githubusercontent.com/jattenberg/PDS-Spring-2014/master/data/sample.txt\r\n",
        "Resolving raw.githubusercontent.com... "
       ]
      },
      {
       "output_type": "stream",
       "stream": "stdout",
       "text": [
        "23.235.46.133\r\n",
        "Connecting to raw.githubusercontent.com|23.235.46.133|:443... connected.\r\n"
       ]
      },
      {
       "output_type": "stream",
       "stream": "stdout",
       "text": [
        "HTTP request sent, awaiting response... "
       ]
      },
      {
       "output_type": "stream",
       "stream": "stdout",
       "text": [
        "200 OK\r\n",
        "Length: 201 [text/plain]\r\n",
        "Saving to: \u2018sample.txt\u2019\r\n",
        "\r\n",
        "\r",
        " 0% [                                       ] 0           --.-K/s              \r",
        "100%[======================================>] 201         --.-K/s   in 0s      \r\n",
        "\r\n",
        "2014-05-21 20:33:55 (12.0 MB/s) - \u2018sample.txt\u2019 saved [201/201]\r\n",
        "\r\n"
       ]
      }
     ],
     "prompt_number": 1
    },
    {
     "cell_type": "markdown",
     "metadata": {},
     "source": [
      "This will pull the file to the active directory in the current terminal, creating a new file called \u201csample.txt\u201d. Note in some systems, wget may not be installed. in this case, you can try: `curl https://raw.githubusercontent.com/jattenberg/PDS-Spring-2014/master/data/sample.txt -o sample.txt`"
     ]
    },
    {
     "cell_type": "markdown",
     "metadata": {},
     "source": [
      "Command-line Utilities\n",
      "----------------------\n",
      "\n",
      "This section gives some crucial unix utilities, ordered roughly according to their usefulness to the data scientist. This list is by no means exhaustive, and the ordering is not perfect; different tasks have different demands. Fortunately, unix has been around for a while and has an extremely active user base, developing a wide range of utilities for common data processing, networking, system management, and automation tasks.\n",
      "\n",
      "\n",
      "Once you are [familiar with programming](https://docs.google.com/a/stern.nyu.edu/document/pub?id=1p6vowsEuiezLbWnFKgse70a8LxfsrRixqPF5nBg8F3A), you will be able to write your own scripts that can perform tasks which you are unable to accomplish using existing unix utilities. The tradeoff between writing hand-coded scripts and existing unix utilities is an increase in flexibility at the expense of increased development time, and therefore a reduction in the speed of iteration.\n",
      "\n",
      "We will talk about sending the output of one command to another below (\u201cpipes\u201d), but an important command-line operator is the \u201credirection\u201d operator \u201c`>`\u201d.  With \u201c`>`\u201d you can send the result of your command-line processing to a file.  So if you\u2019re using grep (described next) to find all the lines that contain \u201cfoo\u201d, you can create a new file with just these lines using redirection:\n",
      "\n",
      "`grep \u2018foo\u2019 orig_file.txt > new_file.txt`\n",
      "\n",
      "Very useful. What follows is a list of some of the more useful linux utilities\n",
      "\n",
      "###`grep`:\n",
      "A utility for pattern matching. grep is by far the most useful unix utility. While grep is conceptually very simple, an effective developer or data scientist will no doubt find themselves using grep dozens of times a day. grep is typically called like this: `grep [options] [pattern] [files]`. With no options specified, this simply looks for the specified pattern in the given files, printing to the console only those lines that match the given pattern. Example:"
     ]
    },
    {
     "cell_type": "code",
     "collapsed": false,
     "input": [
      "!grep 'foo bar' sample.txt"
     ],
     "language": "python",
     "metadata": {},
     "outputs": [
      {
       "output_type": "stream",
       "stream": "stdout",
       "text": [
        "123\t1346699925\t11122\tfoo bar\r\n",
        "146\t1346699999\t11123\tfoo bar\r\n"
       ]
      }
     ],
     "prompt_number": 4
    },
    {
     "cell_type": "markdown",
     "metadata": {},
     "source": [
      "This in itself can be very useful, scraping large volumes of data to find what you\u2019re looking for. \n",
      "\n",
      "The power of grep really shows when different command options are specified. Below are just a sample of the more useful grep options:\n",
      "\n",
      "+ `-v`: Inverted matching. In this setting, grep will return all the input lines that do not match the specified pattern. Example"
     ]
    },
    {
     "cell_type": "code",
     "collapsed": false,
     "input": [
      "!grep -v 'foo bar' sample.txt"
     ],
     "language": "python",
     "metadata": {},
     "outputs": [
      {
       "output_type": "stream",
       "stream": "stdout",
       "text": [
        "222\t1346699955\t11145\tbiz baz\r\n",
        "140\t1346710000\t11122\thee haw\r\n",
        "234\t1346700000\t11135\tbip bop\r\n",
        "99\t1346750000\t11135\tbip bop\r\n",
        "99\t1346750000\t11135\tbip bop\r\n"
       ]
      }
     ],
     "prompt_number": 5
    },
    {
     "cell_type": "markdown",
     "metadata": {},
     "source": [
      "+ `-R`: Recursive matching. Here grep descends sub folders, applying the pattern on all files encountered. Very useful if you\u2019re looking to see if any logs have lines that you\u2019re interested in, or to find the source code file containing the function you\u2019re interested in. Example:"
     ]
    },
    {
     "cell_type": "code",
     "collapsed": false,
     "input": [
      "!cd .. #this will bring you to \u201cup\u201d one folder\n",
      "!grep -R 'hee haw' . # here . refers to the current directory.\n",
      "                     # includes matches from ipython nb files!"
     ],
     "language": "python",
     "metadata": {},
     "outputs": [
      {
       "output_type": "stream",
       "stream": "stdout",
       "text": [
        "./.ipynb_checkpoints/Basic Unix Shell Commands for the Data Scientist-checkpoint.ipynb:      \"140\\t1346710000\\t11122\\thee haw\\n\",\r\n",
        "./.ipynb_checkpoints/Basic Unix Shell Commands for the Data Scientist-checkpoint.ipynb:        \"140\\t1346710000\\t11122\\thee haw\\r\\n\",\r\n",
        "./Basic Unix Shell Commands for the Data Scientist.ipynb:      \"140\\t1346710000\\t11122\\thee haw\\n\",\r\n",
        "./Basic Unix Shell Commands for the Data Scientist.ipynb:        \"140\\t1346710000\\t11122\\thee haw\\r\\n\",\r\n",
        "./sample.txt:140\t1346710000\t11122\thee haw\r\n"
       ]
      }
     ],
     "prompt_number": 1
    },
    {
     "cell_type": "markdown",
     "metadata": {},
     "source": [
      "+ `-P`: [Perl Regular Expressions](http://www.cs.tut.fi/~jkorpela/perl/regexp.html) Here patterns are perl regular expressions. This gives the user the ability to match extremely flexible patterns. Example:"
     ]
    },
    {
     "cell_type": "code",
     "collapsed": false,
     "input": [
      "!grep -P '23\\t+foo' sample.txt"
     ],
     "language": "python",
     "metadata": {},
     "outputs": [],
     "prompt_number": 4
    },
    {
     "cell_type": "markdown",
     "metadata": {},
     "source": [
      "###`sort`\n",
      "\n",
      "An extremely efficient implementation of [external merge sort](http://dzmitryhuba.blogspot.com/2010/08/external-merge-sort.html). In a nutshell, this means the sort utility can order a dataset far larger than can fit in a system\u2019s main memory. While sorting extremely large files does drastically increase the runtime, smaller files are sorted quickly. Typically called like: `sort [options] [file]`. Example:"
     ]
    },
    {
     "cell_type": "code",
     "collapsed": false,
     "input": [
      "!sort sample.txt"
     ],
     "language": "python",
     "metadata": {},
     "outputs": [
      {
       "output_type": "stream",
       "stream": "stdout",
       "text": [
        "123\t1346699925\t11122\tfoo bar\r\n",
        "140\t1346710000\t11122\thee haw\r\n",
        "146\t1346699999\t11123\tfoo bar\r\n",
        "222\t1346699955\t11145\tbiz baz\r\n",
        "234\t1346700000\t11135\tbip bop\r\n",
        "99\t1346750000\t11135\tbip bop\r\n",
        "99\t1346750000\t11135\tbip bop\r\n"
       ]
      }
     ],
     "prompt_number": 5
    },
    {
     "cell_type": "markdown",
     "metadata": {},
     "source": [
      "Useful both as a component of larger shell scripts, and independently, as a tool to, say, quickly find the most active users, or to see the most frequently loaded pages on a domain. Some useful options:\n",
      "+ `-r`: reverse order. Sort the input in descending order:"
     ]
    },
    {
     "cell_type": "code",
     "collapsed": false,
     "input": [
      "!sort -r sample.txt"
     ],
     "language": "python",
     "metadata": {},
     "outputs": [
      {
       "output_type": "stream",
       "stream": "stdout",
       "text": [
        "99\t1346750000\t11135\tbip bop\r\n",
        "99\t1346750000\t11135\tbip bop\r\n",
        "234\t1346700000\t11135\tbip bop\r\n",
        "222\t1346699955\t11145\tbiz baz\r\n",
        "146\t1346699999\t11123\tfoo bar\r\n",
        "140\t1346710000\t11122\thee haw\r\n",
        "123\t1346699925\t11122\tfoo bar\r\n"
       ]
      }
     ],
     "prompt_number": 6
    },
    {
     "cell_type": "markdown",
     "metadata": {},
     "source": [
      "+ `-n`: numeric order. Sort the input in numerical order as opposed to the default lexicographical order:"
     ]
    },
    {
     "cell_type": "code",
     "collapsed": false,
     "input": [
      "!sort -n sample.txt"
     ],
     "language": "python",
     "metadata": {},
     "outputs": [
      {
       "output_type": "stream",
       "stream": "stdout",
       "text": [
        "99\t1346750000\t11135\tbip bop\r\n",
        "99\t1346750000\t11135\tbip bop\r\n",
        "123\t1346699925\t11122\tfoo bar\r\n",
        "140\t1346710000\t11122\thee haw\r\n",
        "146\t1346699999\t11123\tfoo bar\r\n",
        "222\t1346699955\t11145\tbiz baz\r\n",
        "234\t1346700000\t11135\tbip bop\r\n"
       ]
      }
     ],
     "prompt_number": 7
    },
    {
     "cell_type": "markdown",
     "metadata": {},
     "source": [
      "+ `-k n`: sort the input according to the values in the n-th column. Useful for columnar  data. See also the -t option to specify the text used to specify columns:"
     ]
    },
    {
     "cell_type": "code",
     "collapsed": false,
     "input": [
      "!sort -k 2 sample.txt"
     ],
     "language": "python",
     "metadata": {},
     "outputs": [
      {
       "output_type": "stream",
       "stream": "stdout",
       "text": [
        "123\t1346699925\t11122\tfoo bar\r\n",
        "222\t1346699955\t11145\tbiz baz\r\n",
        "146\t1346699999\t11123\tfoo bar\r\n",
        "234\t1346700000\t11135\tbip bop\r\n",
        "140\t1346710000\t11122\thee haw\r\n",
        "99\t1346750000\t11135\tbip bop\r\n",
        "99\t1346750000\t11135\tbip bop\r\n"
       ]
      }
     ],
     "prompt_number": 8
    },
    {
     "cell_type": "markdown",
     "metadata": {},
     "source": [
      "###`uniq`\n",
      "\n",
      "Remove sequential duplicates: prints only those unique sequential lines from a file. Example:"
     ]
    },
    {
     "cell_type": "code",
     "collapsed": false,
     "input": [
      "!uniq sample.txt"
     ],
     "language": "python",
     "metadata": {},
     "outputs": [
      {
       "output_type": "stream",
       "stream": "stdout",
       "text": [
        "123\t1346699925\t11122\tfoo bar\r\n",
        "222\t1346699955\t11145\tbiz baz\r\n",
        "140\t1346710000\t11122\thee haw\r\n",
        "234\t1346700000\t11135\tbip bop\r\n",
        "146\t1346699999\t11123\tfoo bar\r\n",
        "99\t1346750000\t11135\tbip bop\r\n"
       ]
      }
     ],
     "prompt_number": 9
    },
    {
     "cell_type": "markdown",
     "metadata": {},
     "source": [
      "Used with the `-c` option, uniq will report the number of duplicates of each line in the sequence. Example:"
     ]
    },
    {
     "cell_type": "code",
     "collapsed": false,
     "input": [
      "!uniq -c sample.txt"
     ],
     "language": "python",
     "metadata": {},
     "outputs": [
      {
       "output_type": "stream",
       "stream": "stdout",
       "text": [
        "   1 123\t1346699925\t11122\tfoo bar\r\n",
        "   1 222\t1346699955\t11145\tbiz baz\r\n",
        "   1 140\t1346710000\t11122\thee haw\r\n",
        "   1 234\t1346700000\t11135\tbip bop\r\n",
        "   1 146\t1346699999\t11123\tfoo bar\r\n",
        "   2 99\t1346750000\t11135\tbip bop\r\n"
       ]
      }
     ],
     "prompt_number": 10
    },
    {
     "cell_type": "markdown",
     "metadata": {},
     "source": [
      "###`cut`:\n",
      "Used to select or \u201ccut\u201d certain fields (usually columns) from input. Cut is typically used with the `-f` option to specify a comma-separated list of columns to be emitted. Example:"
     ]
    },
    {
     "cell_type": "code",
     "collapsed": false,
     "input": [
      "!cut -f2,4 sample.txt"
     ],
     "language": "python",
     "metadata": {},
     "outputs": [
      {
       "output_type": "stream",
       "stream": "stdout",
       "text": [
        "1346699925\tfoo bar\r\n",
        "1346699955\tbiz baz\r\n",
        "1346710000\thee haw\r\n",
        "1346700000\tbip bop\r\n",
        "1346699999\tfoo bar\r\n",
        "1346750000\tbip bop\r\n",
        "1346750000\tbip bop\r\n"
       ]
      }
     ],
     "prompt_number": 11
    },
    {
     "cell_type": "markdown",
     "metadata": {},
     "source": [
      "An important option with the cut utility is `-d`, which is used to specify the string used to separate the fields in the input. While the default value of tab is appropriate for our sample file, if spaces were used instead of tabs, we could change the above command to: `cut -d\" \" -f2,4 sample.txt`\n",
      "\n",
      "###`cat`:\n",
      "\n",
      "Concatenate the contents of the specified files to standard output. Example:"
     ]
    },
    {
     "cell_type": "code",
     "collapsed": false,
     "input": [
      "!cat sample.txt"
     ],
     "language": "python",
     "metadata": {},
     "outputs": [
      {
       "output_type": "stream",
       "stream": "stdout",
       "text": [
        "123\t1346699925\t11122\tfoo bar\r\n",
        "222\t1346699955\t11145\tbiz baz\r\n",
        "140\t1346710000\t11122\thee haw\r\n",
        "234\t1346700000\t11135\tbip bop\r\n",
        "146\t1346699999\t11123\tfoo bar\r\n",
        "99\t1346750000\t11135\tbip bop\r\n",
        "99\t1346750000\t11135\tbip bop\r\n"
       ]
      }
     ],
     "prompt_number": 12
    },
    {
     "cell_type": "markdown",
     "metadata": {},
     "source": [
      "###`ls`:\n",
      "\n",
      "Lists the contents of a directory or provide information about the specified file. Typical usage: \n",
      "\n",
      "`ls [options] [files or directories]`\n",
      "\n",
      "By default, ls simply lists the contents of the current directory. There are several options that when used in conjunction with ls give more detailed information about the files or directories being queried. Here are a sample:\n",
      "\n",
      "+ `-A`: list all of the contents of the queried directory, even hidden files.\n",
      "+ `-l`: detailed format, display additional info for all files and directories.\n",
      "+ `-R`: recursively list the contents of any subdirectories.\n",
      "+ `-t`: sort files by the time of the last modification.\n",
      "+ `-S`: sort files by size.\n",
      "+ `-r`: reverse any sort order.\n",
      "+ `-h`: when used in conjunction with `-l`, gives a more human-readable output.\n",
      "\n",
      "###`cd`:\n",
      "\n",
      "Change the current directory. Usage: `cd [directory to move to]`\n",
      "\n",
      "###`head`/`tail`:\n",
      "\n",
      "Output the first (last) lines of a file. Typically used like:"
     ]
    },
    {
     "cell_type": "code",
     "collapsed": false,
     "input": [
      "!head -n 5 sample.txt"
     ],
     "language": "python",
     "metadata": {},
     "outputs": [
      {
       "output_type": "stream",
       "stream": "stdout",
       "text": [
        "123\t1346699925\t11122\tfoo bar\r\n",
        "222\t1346699955\t11145\tbiz baz\r\n",
        "140\t1346710000\t11122\thee haw\r\n",
        "234\t1346700000\t11135\tbip bop\r\n",
        "146\t1346699999\t11123\tfoo bar\r\n"
       ]
      }
     ],
     "prompt_number": 15
    },
    {
     "cell_type": "code",
     "collapsed": false,
     "input": [
      "!tail -n 5 sample.txt"
     ],
     "language": "python",
     "metadata": {},
     "outputs": [
      {
       "output_type": "stream",
       "stream": "stdout",
       "text": [
        "140\t1346710000\t11122\thee haw\r\n",
        "234\t1346700000\t11135\tbip bop\r\n",
        "146\t1346699999\t11123\tfoo bar\r\n",
        "99\t1346750000\t11135\tbip bop\r\n",
        "99\t1346750000\t11135\tbip bop\r\n"
       ]
      }
     ],
     "prompt_number": 16
    },
    {
     "cell_type": "markdown",
     "metadata": {},
     "source": [
      "The `-n` option specifies the number of lines to be output, the default value is 10. `tail`, when used with the `-f` option, will output the end of a file as it is written to. This is useful is a program is writing output or logging progress to a file, and you want to read it as it is happening.\n",
      "\n",
      "###`less`:\n",
      "\n",
      "Navigate through the contents of a file or through the output of another script or utility. When invoked like: `less [some big file]`. `less` enters an interactive mode. In this mode, several keys help you navigate the input file. Some key commands are:\n",
      "\n",
      "+ `(space)`: space navigates forward one screen.\n",
      "+ `(enter)`: enter navigates forward one line.\n",
      "+ `b`: navigates backwards one screen\n",
      "+ `y`: navigates backwards one line.\n",
      "+ `/[pattern]`: search forwards for the next occurrence of `[pattern]`\n",
      "+ `?[pattern]`: search backwards for the previous occurrence of `[pattern]`\n",
      "\n",
      "Where `[pattern]` can be a basic string or a regular expression.\n",
      "\n",
      "###`wc`: \n",
      "Compute word, line, and byte counts for specified files or output of other scripts. Particularly useful when used in concert with other utilities such as grep, sort, and uniq. Example usage:"
     ]
    },
    {
     "cell_type": "code",
     "collapsed": false,
     "input": [
      "!wc sample.txt"
     ],
     "language": "python",
     "metadata": {},
     "outputs": [
      {
       "output_type": "stream",
       "stream": "stdout",
       "text": [
        "       7      35     201 sample.txt\r\n"
       ]
      }
     ],
     "prompt_number": 17
    },
    {
     "cell_type": "markdown",
     "metadata": {},
     "source": [
      "Indicating the number of lines, words, and bytes in the file respectively. There are some useful flags for wc that will help you answer specific questions quickly:\n",
      "\n",
      "+ `-l`: get the number of lines from the input. Example:"
     ]
    },
    {
     "cell_type": "code",
     "collapsed": false,
     "input": [
      "!wc -l sample.txt"
     ],
     "language": "python",
     "metadata": {},
     "outputs": [
      {
       "output_type": "stream",
       "stream": "stdout",
       "text": [
        "       7 sample.txt\r\n"
       ]
      }
     ],
     "prompt_number": 18
    },
    {
     "cell_type": "markdown",
     "metadata": {},
     "source": [
      "+ `-w`: get the number of words in the input. Example:"
     ]
    },
    {
     "cell_type": "code",
     "collapsed": false,
     "input": [
      "!wc -w sample.txt"
     ],
     "language": "python",
     "metadata": {},
     "outputs": [
      {
       "output_type": "stream",
       "stream": "stdout",
       "text": [
        "      35 sample.txt\r\n"
       ]
      }
     ],
     "prompt_number": 19
    },
    {
     "cell_type": "markdown",
     "metadata": {},
     "source": [
      "+ `-m`: the number of characters in the input. Example:"
     ]
    },
    {
     "cell_type": "code",
     "collapsed": false,
     "input": [
      "!wc -m sample.txt"
     ],
     "language": "python",
     "metadata": {},
     "outputs": [
      {
       "output_type": "stream",
       "stream": "stdout",
       "text": [
        "     201 sample.txt\r\n"
       ]
      }
     ],
     "prompt_number": 21
    },
    {
     "cell_type": "markdown",
     "metadata": {},
     "source": [
      "+ `-c`: the number of bytes in the input. Example:"
     ]
    },
    {
     "cell_type": "code",
     "collapsed": false,
     "input": [
      "!wc -c sample.txt"
     ],
     "language": "python",
     "metadata": {},
     "outputs": [
      {
       "output_type": "stream",
       "stream": "stdout",
       "text": [
        "     201 sample.txt\r\n"
       ]
      }
     ],
     "prompt_number": 22
    },
    {
     "cell_type": "markdown",
     "metadata": {},
     "source": [
      "Here, the number of bytes and characters are the same; all characters used are just one byte.\n",
      "\n",
      "Pipes\n",
      "-----\n",
      "\n",
      "Pipes provide a way of connecting the output of one unix program or utility to the input of another, through standard input and output. Unix pipes give you the power to compose various utilities into a data flow and use your creativity to solve problems. Utilities are connected together (\"piped\" together) via the pipe operator, `|`. For instance, if you want to know how many records in the sample data file do not contain \"foo bar\", you can compose a data flow like this:"
     ]
    },
    {
     "cell_type": "code",
     "collapsed": false,
     "input": [
      "!cat sample.txt | grep -v 'foo bar' | wc -l"
     ],
     "language": "python",
     "metadata": {},
     "outputs": [
      {
       "output_type": "stream",
       "stream": "stdout",
       "text": [
        "       5\r\n"
       ]
      }
     ],
     "prompt_number": 24
    },
    {
     "cell_type": "markdown",
     "metadata": {},
     "source": [
      "Using `wc` at the end of a pipe to count the number of matching output records is a common pattern. Recalling that `uniq` removes any sequential duplicates, we can count the number of unique users making purchases in our file by composing a data flow like this:"
     ]
    },
    {
     "cell_type": "code",
     "collapsed": false,
     "input": [
      "!cat sample.txt | cut -f3 | sort | uniq  | wc -l"
     ],
     "language": "python",
     "metadata": {},
     "outputs": [
      {
       "output_type": "stream",
       "stream": "stdout",
       "text": [
        "       4\r\n"
       ]
      }
     ],
     "prompt_number": 25
    },
    {
     "cell_type": "markdown",
     "metadata": {},
     "source": [
      "Or, if you want count how many transactions each user has appeared in:"
     ]
    },
    {
     "cell_type": "code",
     "collapsed": false,
     "input": [
      "!cat sample.txt | cut -f3 | sort | uniq -c"
     ],
     "language": "python",
     "metadata": {},
     "outputs": [
      {
       "output_type": "stream",
       "stream": "stdout",
       "text": [
        "   2 11122\r\n",
        "   1 11123\r\n",
        "   3 11135\r\n",
        "   1 11145\r\n"
       ]
      }
     ],
     "prompt_number": 26
    },
    {
     "cell_type": "markdown",
     "metadata": {},
     "source": [
      "To now order the users by number of transactions made, you can try something like:"
     ]
    },
    {
     "cell_type": "code",
     "collapsed": false,
     "input": [
      "!cat sample.txt | cut -f3 | sort | uniq -c | sort -nr"
     ],
     "language": "python",
     "metadata": {},
     "outputs": [
      {
       "output_type": "stream",
       "stream": "stdout",
       "text": [
        "   3 11135\r\n",
        "   2 11122\r\n",
        "   1 11145\r\n",
        "   1 11123\r\n"
       ]
      }
     ],
     "prompt_number": 27
    },
    {
     "cell_type": "markdown",
     "metadata": {},
     "source": [
      "Notice here, that the `-r` and `-n` flags for the sort command are combined. This is common shorthand and is acceptable for any unix utility."
     ]
    },
    {
     "cell_type": "markdown",
     "metadata": {},
     "source": [
      "More Useful Command Line Utilities:\n",
      "-----------------------------------\n",
      "\n",
      "+ [`xargs`](http://linux.die.net/man/1/xargs): used for building and executing terminal commands. Often used to read input from a pipe, and perform the same command on each line read from the pipe. For instance, if we want to look up all of the .txt files in a directory and concatenate them, we can use xargs:"
     ]
    },
    {
     "cell_type": "code",
     "collapsed": false,
     "input": [
      "!ls . | grep '.txt' | xargs cat"
     ],
     "language": "python",
     "metadata": {},
     "outputs": [
      {
       "output_type": "stream",
       "stream": "stdout",
       "text": [
        "123\t1346699925\t11122\tfoo bar\r\n",
        "222\t1346699955\t11145\tbiz baz\r\n",
        "140\t1346710000\t11122\thee haw\r\n",
        "234\t1346700000\t11135\tbip bop\r\n",
        "146\t1346699999\t11123\tfoo bar\r\n",
        "99\t1346750000\t11135\tbip bop\r\n",
        "99\t1346750000\t11135\tbip bop\r\n"
       ]
      }
     ],
     "prompt_number": 29
    },
    {
     "cell_type": "markdown",
     "metadata": {},
     "source": [
      "+ [`find`](http://linux.die.net/man/1/find): search directories for matching files. Useful when you know the name of a file (or part of the name), but do not know the file\u2019s location in a directory. Example:"
     ]
    },
    {
     "cell_type": "code",
     "collapsed": false,
     "input": [
      "!find . -name 'sample.txt'"
     ],
     "language": "python",
     "metadata": {},
     "outputs": [
      {
       "output_type": "stream",
       "stream": "stdout",
       "text": [
        "./sample.txt\r\n"
       ]
      }
     ],
     "prompt_number": 34
    },
    {
     "cell_type": "markdown",
     "metadata": {},
     "source": [
      "+ [`sed`](http://linux.die.net/man/1/sed): A feature-rich stream editor. Useful for performing simple transformations on an input stream- input from a pipe or from a file. For instance, if we want to replace the space in the fourth column of our sample input with an underscore, we can use `sed`:"
     ]
    },
    {
     "cell_type": "code",
     "collapsed": false,
     "input": [
      "!cat sample.txt | sed 's/ /_/'"
     ],
     "language": "python",
     "metadata": {},
     "outputs": [
      {
       "output_type": "stream",
       "stream": "stdout",
       "text": [
        "123\t1346699925\t11122\tfoo_bar\r\n",
        "222\t1346699955\t11145\tbiz_baz\r\n",
        "140\t1346710000\t11122\thee_haw\r\n",
        "234\t1346700000\t11135\tbip_bop\r\n",
        "146\t1346699999\t11123\tfoo_bar\r\n",
        "99\t1346750000\t11135\tbip_bop\r\n",
        "99\t1346750000\t11135\tbip_bop\r\n"
       ]
      }
     ],
     "prompt_number": 35
    },
    {
     "cell_type": "markdown",
     "metadata": {},
     "source": [
      "+ [`screen`](http://linux.die.net/man/1/screen): Manager for terminal screens. Can be used to \u201cre-attach\u201d terminal sessions so you can continue your work after logging out, etc. Particularly useful when working on a remote server.\n",
      "+ [`top`](http://linux.die.net/man/1/top): displays currently running tasks and their resource utilization.\n",
      "+ [`fmt`](http://linux.die.net/man/1/fmt) a simple text formatter, often used for limiting the width of lines in a file. Typically useage uses a `-width` flag, where width is a positive integer denoting the number of words to go on each output line, where words are sequences of non-whitespace characters. For instance, if we want to get all the individual \"words\" for our sample input file, one word per line, we can use (using `head` to limit output):"
     ]
    },
    {
     "cell_type": "code",
     "collapsed": false,
     "input": [
      "!fmt -1 sample.txt | head"
     ],
     "language": "python",
     "metadata": {},
     "outputs": [
      {
       "output_type": "stream",
       "stream": "stdout",
       "text": [
        "123\r\n",
        "1346699925\r\n",
        "11122\r\n",
        "foo\r\n",
        "bar\r\n",
        "222\r\n",
        "1346699955\r\n",
        "11145\r\n",
        "biz\r\n",
        "baz\r\n"
       ]
      }
     ],
     "prompt_number": 36
    },
    {
     "cell_type": "markdown",
     "metadata": {},
     "source": [
      "Pick your Text Editor\n",
      "---------------------\n",
      "\n",
      "There are a rich set of editors available in the terminal that are useful for exploring and modifying files in addition to writing source code for programming languages. nano is the simplest common text editor, vim and emacs are both far more complex and far more feature-rich. Choosing vim or emacs entails climbing a learning curve- there are many special key combinations that do useful things and special modes optimized for certain common tasks. However, this power, once mastered can greatly increase your effectiveness as a programmer, greatly reducing your time between iterations.\n",
      "\n",
      "For experienced programmers, choosing an editor is almost like choosing a religion: one is right and all others are wrong. Some programmers are very vocal about this. However, in the end of the day, all editors do the same things, albeit offering different paths to get there. When you feel you\u2019re ready to try out a new text editor, my advice is pick one that your friends or colleagues are familiar with. They can get you on your feet quickly with a few useful tips, and get you unstuck when you run into trouble\n",
      "\n",
      "+ [Sublime](http://www.sublimetext.com/2)\n",
      "+ [`vim`](http://www.vim.org/)\n",
      "+ [`emacs`](http://www.gnu.org/software/emacs/)\n",
      "+ [`nano`](http://www.nano-editor.org/)\n",
      "+ [notepad++](http://notepad-plus-plus.org/)\n",
      "+ [textwrangler](http://www.barebones.com/products/textwrangler/)"
     ]
    }
   ],
   "metadata": {}
  }
 ]
}