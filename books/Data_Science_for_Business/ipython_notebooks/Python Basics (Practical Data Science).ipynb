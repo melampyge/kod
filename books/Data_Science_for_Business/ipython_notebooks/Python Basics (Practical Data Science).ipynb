{
 "metadata": {
  "name": ""
 },
 "nbformat": 3,
 "nbformat_minor": 0,
 "worksheets": [
  {
   "cells": [
    {
     "cell_type": "markdown",
     "metadata": {},
     "source": [
      "Comments\n",
      "--------\n",
      "Comments are notes in your source code that aren't exectued when your code is run. These are useful for reminding yourself what your code does, and for notifying others to your intentions. Python has single line and multiline comments."
     ]
    },
    {
     "cell_type": "code",
     "collapsed": false,
     "input": [
      "# this is a single line comment\n",
      "print \"trying out some comments\"\n",
      "\n",
      "\"\"\"and here\n",
      "is a multi-line comment\"\"\"\n",
      "\n",
      "\n",
      "print \"python ftw\""
     ],
     "language": "python",
     "metadata": {},
     "outputs": [
      {
       "output_type": "stream",
       "stream": "stdout",
       "text": [
        "trying out some comments\n",
        "python ftw\n"
       ]
      }
     ],
     "prompt_number": 1
    },
    {
     "cell_type": "markdown",
     "metadata": {},
     "source": [
      "Variables\n",
      "---------\n",
      "\n",
      "Variables are aliases for data. This allows the developer to use the name for a particular value rather than the value it self. This makes the code more readable, and allows various optimizations to make a program run more efficiently.\n",
      "\n",
      "In python, a variable can be named almost anything, according to the whims of the programmer. You can use any letter, the special characters \"\\_\" and every number provided you do not start with it. White spaces and signs with special meanings in Python, as \"+\" and \"-\" are not allowed. Variable names are case-sensitive. The common pattern is to separate words in variable names with underscores \"\\_\".\n",
      "\n",
      "Variables are declared by stating the variable name and assigning to it using the \"=\" operator. At any time, you can reassign a value to a variable."
     ]
    },
    {
     "cell_type": "code",
     "collapsed": false,
     "input": [
      "a_variable = \"yay!\"\n",
      "another_variable = \"woo!\"\n",
      "\n",
      "print a_variable\n",
      "\n",
      "a_variable = \"uh oh!\" # reassigning\n",
      "\n",
      "print a_variable\n",
      "\n",
      "a_variable = another_variable # reassigning again\n",
      "\n",
      "print a_variable"
     ],
     "language": "python",
     "metadata": {},
     "outputs": [
      {
       "output_type": "stream",
       "stream": "stdout",
       "text": [
        "yay!\n",
        "uh oh!\n",
        "woo!\n"
       ]
      }
     ],
     "prompt_number": 2
    },
    {
     "cell_type": "markdown",
     "metadata": {},
     "source": [
      "Primitive Data Types\n",
      "--------------------\n",
      "\n",
      "These are the basic data types that constitute all of the more complex data structures in python.\n",
      "\n",
      "###String:\n",
      "Textual data, characters and sequences of characters. Can be specified by surrounding some text with single `'` or double `\"` quotes. "
     ]
    },
    {
     "cell_type": "code",
     "collapsed": false,
     "input": [
      "str_1 = \"hello\"\n",
      "str_2 = \"world\"\n",
      "print str_1 + \" \" + str_2 + \"!\" # note that + concatenates strings\n",
      "\n",
      "str_3 = \"\"\"\n",
      "this is a multiline\n",
      "string!\n",
      "\"\"\"\n",
      "\n",
      "print str_3"
     ],
     "language": "python",
     "metadata": {},
     "outputs": [
      {
       "output_type": "stream",
       "stream": "stdout",
       "text": [
        "hello world!\n",
        "\n",
        "this is a multiline\n",
        "string!\n",
        "\n"
       ]
      }
     ],
     "prompt_number": 3
    },
    {
     "cell_type": "markdown",
     "metadata": {},
     "source": [
      "###Integer:\n",
      "Positive and negative whole numbers"
     ]
    },
    {
     "cell_type": "code",
     "collapsed": false,
     "input": [
      "int_1 = 1\n",
      "int_2 = -2\n",
      "int_3 = 100\n",
      "\n",
      "print int_1 + int_2 + int_3 # for integers, + is just \"plus\""
     ],
     "language": "python",
     "metadata": {},
     "outputs": [
      {
       "output_type": "stream",
       "stream": "stdout",
       "text": [
        "99\n"
       ]
      }
     ],
     "prompt_number": 4
    },
    {
     "cell_type": "markdown",
     "metadata": {},
     "source": [
      "###Floating Point Numbers:\n",
      "Decimal numbers, representations of fractions, and \"real-valued numbers\""
     ]
    },
    {
     "cell_type": "code",
     "collapsed": false,
     "input": [
      "float_1 = 1.2\n",
      "float_2 = -4.0\n",
      "float_3 = 10.0\n",
      "\n",
      "print float_1 + float_2 + float_3"
     ],
     "language": "python",
     "metadata": {},
     "outputs": [
      {
       "output_type": "stream",
       "stream": "stdout",
       "text": [
        "7.2\n"
       ]
      }
     ],
     "prompt_number": 5
    },
    {
     "cell_type": "markdown",
     "metadata": {},
     "source": [
      "###Booleans:\n",
      "\n",
      "Booleans represent the truth or success of a statement, and are commonly used for branching and checking status in code. "
     ]
    },
    {
     "cell_type": "code",
     "collapsed": false,
     "input": [
      "bool_1 = True \n",
      "bool_2 = False\n",
      "\n",
      "print bool_1\n",
      "print bool_2"
     ],
     "language": "python",
     "metadata": {},
     "outputs": [
      {
       "output_type": "stream",
       "stream": "stdout",
       "text": [
        "True\n",
        "False\n"
       ]
      }
     ],
     "prompt_number": 6
    },
    {
     "cell_type": "markdown",
     "metadata": {},
     "source": [
      "Operations on Primitive Data Types\n",
      "----------------------------------\n",
      "\n",
      "Python provides a variety of operations for performing common tasks on the primitive data types presented above. Of course, this list isn't complete, and the core functionality provided by python is greatly extended by library code, some of which will be discussed below. Note that operations can be performed either on \"literal primitives\" or on variables storing some primitive. \n",
      "\n",
      "###Operations on Strings \n",
      "We've already seen one of the most common string operators, `+`, used for string concatenation. Below are some of the more commonly used string operations:\n",
      "\n",
      "+ `+` : concatenate two strings\n",
      "+ `len(str)`: length of a string, number of characters\n",
      "+ `str.upper()`: returns an uppercase version of a string\n",
      "+ `str.lower()`: returns a lowercase version of a string\n",
      "+ `haystack.index(needle)`: searches haystack for needle, prints the position of the first occurrence, indexed from 0. Note, throws an error if needle isn't found.\n",
      "+ `str_1.count(str_2)`: counts the number of occurrences of one string in another.\n",
      "+ `haystack.startswith(needle)`: does a the haystack string start with the needle string?\n",
      "+ `haystack.endswith(needle)`: does a the haystack string end with the needle string?\n",
      "+ `str_1.split(str_2)`: split the first string at every occurrence of the second string. Outputs a list (see below).\n",
      "+ `==`: are the two operand strings the same?\n",
      "+ `str.strip()`: remove any whitespace from the left or right of the string, including newlines. \n",
      "\n",
      "A better list of string operations is [available here](http://docs.python.org/2/library/string.html)."
     ]
    },
    {
     "cell_type": "code",
     "collapsed": false,
     "input": [
      "print \"concatenation:\"\n",
      "print str_1 + \" \" + str_2\n",
      "print str_1 + \" everybody\"\n",
      "\n",
      "print \"length:\"\n",
      "print len(str_1)\n",
      "print len(str_1 + \" \" + str_2)\n",
      "\n",
      "print \"string casing:\"\n",
      "print str_1.upper()\n",
      "print \"HELLO\".lower()\n",
      "\n",
      "print \"string indexing:\"\n",
      "print \"hello\".index(\"ll\")\n",
      "print \"hello\".upper().index(\"LL\")\n",
      "\n",
      "print \"string count:\"\n",
      "print str_1.count(\"l\")\n",
      "print str_1.count(\"ll\")\n",
      "\n",
      "print \"starts with & endswith:\"\n",
      "print \"hello\".startswith(\"he\")\n",
      "print \"hello\".endswith(\"world\")\n",
      "\n",
      "print \"split:\"\n",
      "print \"practical data science\".split(\" \")\n",
      "print \"hello\".split(\" \")\n",
      "\n",
      "print \"equality:\"\n",
      "print str_1 == \"hello\"\n",
      "print str_1 == \"HELLO\""
     ],
     "language": "python",
     "metadata": {},
     "outputs": [
      {
       "output_type": "stream",
       "stream": "stdout",
       "text": [
        "concatenation:\n",
        "hello world\n",
        "hello everybody\n",
        "length:\n",
        "5\n",
        "11\n",
        "string casing:\n",
        "HELLO\n",
        "hello\n",
        "string indexing:\n",
        "2\n",
        "2\n",
        "string count:\n",
        "2\n",
        "1\n",
        "starts with & endswith:\n",
        "True\n",
        "False\n",
        "split:\n",
        "['practical', 'data', 'science']\n",
        "['hello']\n",
        "equality:\n",
        "True\n",
        "False\n"
       ]
      }
     ],
     "prompt_number": 7
    },
    {
     "cell_type": "markdown",
     "metadata": {},
     "source": [
      "###Operations on Numeric Types:\n",
      "There are a bunch of common mathematical operations available on numeric types in python. If an operation is being performed on two integers, then the output will also be an integer. If one of the operands is a float, then the remaining operand will be cast into a float, and the result will likewise be a float.\n",
      "\n",
      "+ `+`: plus, add two numbers\n",
      "+ `-`: minus, subtract two numbers. If put before a single numeric value, takes the negative of that value. \n",
      "+ `*`: multiply two numbers\n",
      "+ `/`: divide the first operand by the second.\n",
      "+ `%`: modulous, what is the remainder when the first number is divided by the second?"
     ]
    },
    {
     "cell_type": "code",
     "collapsed": false,
     "input": [
      "print \"addition:\"\n",
      "print 1+1\n",
      "print 1.5 + 1\n",
      "\n",
      "print \"subtraction:\"\n",
      "print 1-1\n",
      "print 1-1.0\n",
      "\n",
      "print \"negation:\"\n",
      "x = 5\n",
      "print -x\n",
      "\n",
      "print \"multiplication:\"\n",
      "print 3*3\n",
      "print 2*2.0\n",
      "\n",
      "print \"division:\"\n",
      "print 5/2 # integer division!\n",
      "print 5/2.0\n",
      "\n",
      "print \"modulous:\"\n",
      "print 5%2\n",
      "print 5.5%2\n"
     ],
     "language": "python",
     "metadata": {},
     "outputs": [
      {
       "output_type": "stream",
       "stream": "stdout",
       "text": [
        "addition:\n",
        "2\n",
        "2.5\n",
        "subtraction:\n",
        "0\n",
        "0.0\n",
        "negation:\n",
        "-5\n",
        "multiplication:\n",
        "9\n",
        "4.0\n",
        "division:\n",
        "2\n",
        "2.5\n",
        "modulous:\n",
        "1\n",
        "1.5\n"
       ]
      }
     ],
     "prompt_number": 8
    },
    {
     "cell_type": "markdown",
     "metadata": {},
     "source": [
      "There are also a bunch of comparison operators on numeric values:\n",
      "\n",
      "+ `==`: equality of values\n",
      "+ `<`: less than\n",
      "+ `<=`: less than or equal to\n",
      "+ `>`: greater than\n",
      "+ `>=`: greater than or equal to\n",
      "+ `!=`: not equal to, different than\n",
      "\n",
      "These all return a boolean with a value that depends on the outcome of the comparison. "
     ]
    },
    {
     "cell_type": "code",
     "collapsed": false,
     "input": [
      "print \"equals:\"\n",
      "print 1 == 2\n",
      "print 1 == 1\n",
      "print 1 == 1.0\n",
      "\n",
      "print \"comparison:\"\n",
      "print 1 > 0\n",
      "print 1 > 1\n",
      "print 1.0 > 1\n",
      "print 1 >= 1\n",
      "print 1.0 != 1"
     ],
     "language": "python",
     "metadata": {},
     "outputs": [
      {
       "output_type": "stream",
       "stream": "stdout",
       "text": [
        "equals:\n",
        "False\n",
        "True\n",
        "True\n",
        "comparison:\n",
        "True\n",
        "False\n",
        "False\n",
        "True\n",
        "False\n"
       ]
      }
     ],
     "prompt_number": 9
    },
    {
     "cell_type": "markdown",
     "metadata": {},
     "source": [
      "###Boolean Operations:\n",
      "\n",
      "Frequently, one wants to combine or modify boolean values. Python has several operations for just this purpose:\n",
      "\n",
      "+ `not a`: returns the opposite value of `a`.\n",
      "+ `a and b`: returns true if and only if both `a` and `b` are true.\n",
      "+ `a or b`: returns true either `a` or `b` are true, or both.\n",
      "\n",
      "Like mathematical expressions, boolean expressions can be nested using parentheses. "
     ]
    },
    {
     "cell_type": "markdown",
     "metadata": {},
     "source": [
      "###String Formatting:\n",
      "Often one wants to embed other information into strings, sometimes with special formatting constraints. In python, one may insert special formatting characters into strings that convey what type of data should be inserted and where, and how the \"stringified\" form should be formatted. For instance, one may wish to insert an integer into a string:"
     ]
    },
    {
     "cell_type": "code",
     "collapsed": false,
     "input": [
      "print \"To be or not %d be\" % 2"
     ],
     "language": "python",
     "metadata": {},
     "outputs": [
      {
       "output_type": "stream",
       "stream": "stdout",
       "text": [
        "To be or not 2 be\n"
       ]
      }
     ],
     "prompt_number": 10
    },
    {
     "cell_type": "markdown",
     "metadata": {},
     "source": [
      "Note the `%d` formatting (or conversion) specifier in the string. This is stating that you wish to insert an integer value (more on these conversion specifiers below). Then the value you wish to insert into the string is separated by a `%` character placed after the string. If you wish to insert more than one value into the string being formatted, they can be placed in a comma separated list, surrounded by parentheses after the `%`:"
     ]
    },
    {
     "cell_type": "code",
     "collapsed": false,
     "input": [
      "print \"%d be or not %d be\" % (2, 2)"
     ],
     "language": "python",
     "metadata": {},
     "outputs": [
      {
       "output_type": "stream",
       "stream": "stdout",
       "text": [
        "2 be or not 2 be\n"
       ]
      }
     ],
     "prompt_number": 11
    },
    {
     "cell_type": "markdown",
     "metadata": {},
     "source": [
      "In detail, a conversion specifier contains two or more characters which must occur in order with the following components:\n",
      "\n",
      "+ The `%` character which marks the start of the specifier\n",
      "+ An optional minimum field width. The value being read is padded to be at least this width\n",
      "+ An optional precision value, given as a \"`.`\" followed by the number of digits precision. \n",
      "+ Conversion specifier flag specified below. \n",
      "\n",
      "For a more detailed treatment on string formatting options, [see here](http://docs.python.org/release/2.5.2/lib/typesseq-strings.html).\n",
      "\n",
      "Some common conversion flag characters are:\n",
      "\n",
      "+ `d`: Signed integer decimal.\t\n",
      "+ `i`: Signed integer decimal.\t\n",
      "+ `e`: Floating point exponential format (lowercase).\n",
      "+ `E`: Floating point exponential format (uppercase).\n",
      "+ `f`: Floating point decimal format.\n",
      "+ `c`: Single character (accepts integer or single character string).\t\n",
      "+ `r`: String (converts any python object using repr()).\n",
      "+ `s`: String (converts any python object using str()).\n"
     ]
    },
    {
     "cell_type": "code",
     "collapsed": false,
     "input": [
      "print \"%d %s or not %04.1f %c\" % (2, \"be\", 2, 'b')"
     ],
     "language": "python",
     "metadata": {},
     "outputs": [
      {
       "output_type": "stream",
       "stream": "stdout",
       "text": [
        "2 be or not 02.0 b\n"
       ]
      }
     ],
     "prompt_number": 12
    },
    {
     "cell_type": "markdown",
     "metadata": {},
     "source": [
      "Data Structures\n",
      "---------------\n",
      "\n",
      "We have covered in detail much of the basics of python's primitive data types. Its now useful to consider how these basic types can be collected in ways that are meaningful and useful for a variety of tasks. Data structures are a fundamental component of programming, a collection of elements of data that adhere to certain properties, depending on the type. In these notes, we'll present three basic data structures, the list, the set, and the dictionary. Python data structures are very rich, and beyond the scope of this simple primer. Please see [the documentation](http://docs.python.org/2/tutorial/datastructures.html) for a more complete view.\n",
      "\n",
      "###List:\n",
      "A list, sometimes called and array or a vector is an ordered collection of values. The value of a particular element in a list is retrieved by querying for a specific index into an array. Lists allow duplicate values, but but indicies are unique. In python, like most programming languages, list indices start at 0, that is, to get the first element in a list, request the element at index 0. Lists provide very fast access to elements at specific positions, but are inefficient at \"membership queries,\" determining if an element is in the array. \n",
      "\n",
      "In python, lists are specified by square brackets, `[ ]`, containing zero or more values, separated by commas. Lists are the most common data structure, and are often generated as a result of other functions, for instance, `a_string.split(\" \")`.\n",
      "\n",
      "To query a specific value from a list, pass in the requested index into square brackets following the name of the list. Negative indices can be used to traverse the list from the right."
     ]
    },
    {
     "cell_type": "code",
     "collapsed": false,
     "input": [
      "a_list = [1, 2, 3]\n",
      "another_list = [\"a\", \"b\", \"c\"]\n",
      "empty_list = []\n",
      "mixed_list = [1, \"a\"]\n",
      "\n",
      "print another_list[1]\n",
      "print a_list[-1] # indexing from the right"
     ],
     "language": "python",
     "metadata": {},
     "outputs": [
      {
       "output_type": "stream",
       "stream": "stdout",
       "text": [
        "b\n",
        "3\n"
       ]
      }
     ],
     "prompt_number": 13
    },
    {
     "cell_type": "markdown",
     "metadata": {},
     "source": [
      "Some common functionality of lists:\n",
      "\n",
      "+ `list.append(x)`: add an element ot the end of a list\n",
      "+ `list_1.extend(list_2)`: add all elements in the second list to the end of the first list\n",
      "+ `list.insert(index, x)`: insert element x into the list at the specified index. Elements to the right of this index are shifted over\n",
      "+ `list.pop(index)`: remove the element at the specified position\n",
      "+ `list.index(x)`: looks through the list to find the specified element, returning it's position if it's found, else throws an error\n",
      "+ `list.count(x)`: counts the number of occurrences of the input element\n",
      "+ `list.sort()`: sorts the list of items\n",
      "+ `list.reverse()`: reverses the order of the list"
     ]
    },
    {
     "cell_type": "markdown",
     "metadata": {},
     "source": [
      "###Set:\n",
      "\n",
      "A set is a data structure where all elements are unique. Sets are unordered. In fact, the order of the elements observed when printing a set might change at different points during a programs execution, depending on the state of python's internal representation of the set. Sets are ideal for membership queries, for instance, is a user amongst those users who have received a promotion? \n",
      "\n",
      "Sets are specified by curly braces, `{ }`, containing one or more comma separated values. To specify an empty list, you can use the alternative construct, `set()`."
     ]
    },
    {
     "cell_type": "code",
     "collapsed": false,
     "input": [
      "some_set = {1, 2, 3, 4}\n",
      "another_set = {4, 5, 6}\n",
      "empty_set = set()"
     ],
     "language": "python",
     "metadata": {},
     "outputs": [],
     "prompt_number": 14
    },
    {
     "cell_type": "markdown",
     "metadata": {},
     "source": [
      "The easiest way to check for membership in a set is to use the `in` keyword, checking if a needle is \"`in`\" the haystack set."
     ]
    },
    {
     "cell_type": "code",
     "collapsed": false,
     "input": [
      "print 1 in some_set\n",
      "print 0 in some_set"
     ],
     "language": "python",
     "metadata": {},
     "outputs": [
      {
       "output_type": "stream",
       "stream": "stdout",
       "text": [
        "True\n",
        "False\n"
       ]
      }
     ],
     "prompt_number": 15
    },
    {
     "cell_type": "markdown",
     "metadata": {},
     "source": [
      "Some other common set functionality:\n",
      "\n",
      "+ `set_a.add(x)`: add an element to a set\n",
      "+ `set_a.remove(x)`: remove an element from a set\n",
      "+ `set_a - set_b`: elements in a but not in b\n",
      "+ `set_a | set_b`: elements in a or b\n",
      "+ `set_a & set_b`: elements in both a and b\n",
      "+ `set_a ^ set_b`: elements in a or b but not both\n"
     ]
    },
    {
     "cell_type": "markdown",
     "metadata": {},
     "source": [
      "###Dictionaries:\n",
      "\n",
      "Dictionaries, sometimes called dicts, maps, or, rarely, hashes are data structures containing key-value pairs. Dictionaries have a set of unique keys and are used to retrieve the value information associated with these keys. For instance, a dictionary might be used to store for each user, that user's location, or for a product id, the description associated with that product. Lookup into a dictionary is very efficient, and because these data structures are very common, they are frequently used and encountered in practice. \n",
      "\n",
      "Dictionaries are specified by curly braces, `{ }`, containing zero or more comma separated key-value pairs, where the keys and values are separated by a colon, `:`. Like a list, values for a particular key are retrieved by passing the query key into square brackets."
     ]
    },
    {
     "cell_type": "code",
     "collapsed": false,
     "input": [
      "a_dict = {\"a\":1, \"b\":2, \"c\":3}\n",
      "another_dict = {\"c\":5, \"d\":6}\n",
      "empty_dict = {}\n",
      "print a_dict[\"b\"]"
     ],
     "language": "python",
     "metadata": {},
     "outputs": [
      {
       "output_type": "stream",
       "stream": "stdout",
       "text": [
        "2\n"
       ]
      }
     ],
     "prompt_number": 16
    },
    {
     "cell_type": "markdown",
     "metadata": {},
     "source": [
      "Like the set, the easiest way to check if a particular key is in a map is through the `in` keyword:"
     ]
    },
    {
     "cell_type": "code",
     "collapsed": false,
     "input": [
      "print \"a\" in a_dict\n",
      "print \"b\" in another_dict"
     ],
     "language": "python",
     "metadata": {},
     "outputs": [
      {
       "output_type": "stream",
       "stream": "stdout",
       "text": [
        "True\n",
        "False\n"
       ]
      }
     ],
     "prompt_number": 17
    },
    {
     "cell_type": "markdown",
     "metadata": {},
     "source": [
      "Some common operations on dictionaries:\n",
      "\n",
      "+ `dict.keys()`: returns a list containing the keys of a dictionary\n",
      "+ `dict.values()`: returns a list containing the values in a dictionary\n",
      "+ `dict.pop(x)`: removes the key and its associated value from the dictionary"
     ]
    },
    {
     "cell_type": "markdown",
     "metadata": {},
     "source": [
      "###Combining (Nesting) Data Structures:\n",
      "\n",
      "There are many opportunities to combine data types in python. Lists can be populated by arbitrary data structures. Similarly, you can use any type as the value in a dictionary. However, the elements of sets, and the keys of dictionaries need to have some special properties that allow the mechanics of the data structure to determine how to store the element.\n",
      "\n",
      "Aside: to use a particular element in a set or as a key in a dictionary, it must define a [hash function](http://en.wikipedia.org/wiki/Hash_function), `__hash__`. In a nutshell, a hash function maps a data element to a number in a predefined range, based on the characteristics of that element. Because the contents of a data structure might change, so too would the value of their associated `__hash__` function, causing problems for the algorithms powering sets and dictionaries."
     ]
    },
    {
     "cell_type": "code",
     "collapsed": false,
     "input": [
      "print \"lists of lists\"\n",
      "lol = [[1, 2, 3], [4, 5, 6]]\n",
      "lol_2 = [[4, 5, 6], [7, 8, 9]]\n",
      "print lol\n",
      "\n",
      "print \"lists of lists of lists\"\n",
      "lolol = [lol, lol_2]\n",
      "print lolol\n",
      "\n",
      "print \"retrieving data from this data structure\"\n",
      "print lolol[0]\n",
      "print lolol[0][0]\n",
      "print lolol[0][0][0]\n",
      "\n",
      "print \"data structures as values in a dictionary\"\n",
      "dlol = {\"lol\":lol, \"lol_2\":lol_2}\n",
      "print dlol\n",
      "\n",
      "print \"retrieving data from this dictionary\"\n",
      "print dlol[\"lol\"]\n",
      "print dlol[\"lol\"][0]\n",
      "print dlol[\"lol\"][0][0]"
     ],
     "language": "python",
     "metadata": {},
     "outputs": [
      {
       "output_type": "stream",
       "stream": "stdout",
       "text": [
        "lists of lists\n",
        "[[1, 2, 3], [4, 5, 6]]\n",
        "lists of lists of lists\n",
        "[[[1, 2, 3], [4, 5, 6]], [[4, 5, 6], [7, 8, 9]]]\n",
        "retrieving data from this data structure\n",
        "[[1, 2, 3], [4, 5, 6]]\n",
        "[1, 2, 3]\n",
        "1\n",
        "data structures as values in a dictionary\n",
        "{'lol': [[1, 2, 3], [4, 5, 6]], 'lol_2': [[4, 5, 6], [7, 8, 9]]}\n",
        "retrieving data from this dictionary\n",
        "[[1, 2, 3], [4, 5, 6]]\n",
        "[1, 2, 3]\n",
        "1\n"
       ]
      }
     ],
     "prompt_number": 18
    },
    {
     "cell_type": "markdown",
     "metadata": {},
     "source": [
      "Control Structures\n",
      "------------------\n",
      "\n",
      "We've spent some time going into detail about some of the data types and structures available in python. It's now time to talk about how to navigate through some of this data, and use data to make decisions. Traversing over data and making decisions based upon data are a common aspect of every programming language, known as control flow. Python provides a rich control flow, with a lot of conveniences for the power users. Here, we're just going to talk about the basics, to learn more, please [consult the documentation](http://docs.python.org/2/tutorial/controlflow.html). \n",
      "\n",
      "A common theme throughout this discussion of control structures is the notion of a \"block of code.\" Blocks of code are demarcated by a specific level of indentation, typically separated from the surrounding code by some control structure elements, immediately preceeded by a colon, `:`. We'll see examples below. \n",
      "\n",
      "Finally, note that control structures can be nested arbitrarily, depending on the tasks you're trying to accomplish. \n",
      "\n",
      "###if Statements:\n",
      "\n",
      "If statements are perhaps the most widely used of all control structures. An if statement consists of a code block and an argument. The if statement evaluates the boolean value of it's argument, executing the code block if that argument is true. "
     ]
    },
    {
     "cell_type": "code",
     "collapsed": false,
     "input": [
      "if True:\n",
      "    print \"duh\"\n",
      "    \n",
      "if 1+1 == 2:\n",
      "    print \"easy\"\n",
      "    \n",
      "if 2+2 == 5:\n",
      "    print \"really?\"\n",
      "    \n",
      "items = {1, 2, 3}\n",
      "if 2 in items:\n",
      "    print \"found it!\""
     ],
     "language": "python",
     "metadata": {},
     "outputs": [
      {
       "output_type": "stream",
       "stream": "stdout",
       "text": [
        "duh\n",
        "easy\n",
        "found it!\n"
       ]
      }
     ],
     "prompt_number": 19
    },
    {
     "cell_type": "markdown",
     "metadata": {},
     "source": [
      "Each argument in the above if statements is a boolean expression. Often you want to have alternatives, blocks of code that get evaluated in the event that the argument to an if statement is false. This is where elif (else if) and else come in. \n",
      "\n",
      "An elif is evaluated if all preceeding if or elif arguments have evaluted to false. The else statement is the last resort, assigning the code that gets exectued if no if or elif above it is true. These statements are optional, and can be added to an if statement in any order, with at most one code block being evaluated. An else will always have it's code be exectued, if nothing above it is true."
     ]
    },
    {
     "cell_type": "code",
     "collapsed": false,
     "input": [
      "if 1+2 == 2:\n",
      "    print \"whoa\"\n",
      "    x = 5+1\n",
      "    print \"done\"\n",
      "elif 1+1 == 0:\n",
      "    print \"that explains it\"\n",
      "elif 5+5 == 9:\n",
      "    print \"somethign\"\n",
      "    if \"ssomething\":\n",
      "        print \"hi\"\n",
      "    else:\n",
      "        print \"what I expected\"\n",
      "    \n",
      "x = {1,2,3}\n",
      "if 5 in x:\n",
      "    print \"found it\"\n",
      "else:\n",
      "    print \"didn't find it\"\n",
      "    x.add(5)\n",
      "print x\n",
      "\n",
      "if False:\n",
      "    print \"shouln't happen\"\n",
      "elif False:\n",
      "    print \"should happen\""
     ],
     "language": "python",
     "metadata": {},
     "outputs": [
      {
       "output_type": "stream",
       "stream": "stdout",
       "text": [
        "what I expected\n",
        "didn't find it\n",
        "set([1, 2, 3, 5])\n",
        "should happen\n"
       ]
      }
     ],
     "prompt_number": 20
    },
    {
     "cell_type": "markdown",
     "metadata": {},
     "source": [
      "###for Statements:\n",
      "\n",
      "for statements are a convenient way to iterate through the values contained in a data structure. Going through the elements in a data structure one at a time, this element is assigned to variable. The code block associated with the for statement (or for loop) is then evaluated with this value."
     ]
    },
    {
     "cell_type": "code",
     "collapsed": false,
     "input": [
      "set = {1, 2, 3, 4}\n",
      "for foobar in set:\n",
      "    print foobar\n",
      "    \n",
      "print \"a more complex block\"\n",
      "for num in set:\n",
      "    if num >= 3:\n",
      "        print num+5\n",
      "\n",
      "print \"this also works for lists\"\n",
      "list = [1,2,3]\n",
      "for num in list:\n",
      "    if num >= 2:\n",
      "        print num+5\n",
      "\n",
      "print \"dictionaries let you iterate through keys, values, or both\"\n",
      "dict = {\"a\":1, \"b\":2}\n",
      "\n",
      "for k in dict.keys():\n",
      "    value = dict[k]\n",
      "    print k\n",
      "for v in dict.values():\n",
      "    \n",
      "    print v\n",
      "for k,v in dict.iteritems():\n",
      "    if v == dict[k]:\n",
      "        print \"whew!\"\n"
     ],
     "language": "python",
     "metadata": {},
     "outputs": [
      {
       "output_type": "stream",
       "stream": "stdout",
       "text": [
        "1\n",
        "2\n",
        "3\n",
        "4\n",
        "a more complex block\n",
        "8\n",
        "9\n",
        "this also works for lists\n",
        "7\n",
        "8\n",
        "dictionaries let you iterate through keys, values, or both\n",
        "a\n",
        "b\n",
        "1\n",
        "2\n",
        "whew!\n",
        "whew!\n"
       ]
      }
     ],
     "prompt_number": 21
    },
    {
     "cell_type": "markdown",
     "metadata": {},
     "source": [
      "###Break and Continue:\n",
      "\n",
      "These two statements are used to modify iteration of loops. Break is used to exit the inner most loop in which it appears. Continue the current pass through the loop, going on to the next iteration."
     ]
    },
    {
     "cell_type": "code",
     "collapsed": false,
     "input": [
      "x = [1,2,3,4,5]\n",
      "for num in x:\n",
      "    print num\n",
      "    if num > 2:\n",
      "        break\n",
      "        \n",
      "y = [\"a\", \"b\", \"c\", \"d\"]\n",
      "for letter in y:\n",
      "    if letter == \"a\":\n",
      "        continue\n",
      "    print letter"
     ],
     "language": "python",
     "metadata": {},
     "outputs": [
      {
       "output_type": "stream",
       "stream": "stdout",
       "text": [
        "1\n",
        "2\n",
        "3\n",
        "b\n",
        "c\n",
        "d\n"
       ]
      }
     ],
     "prompt_number": 22
    },
    {
     "cell_type": "code",
     "collapsed": false,
     "input": [
      "list_of_all_custs = []\n",
      "custs_with_purch = []\n",
      "\n",
      "for cust in list_of_all_custs:\n",
      "    if cust.has_purchase():\n",
      "        cust_with_purhc.append(cust)\n",
      "    if len(cust_with_purch) > 100:\n",
      "        break"
     ],
     "language": "python",
     "metadata": {},
     "outputs": [
      {
       "ename": "NameError",
       "evalue": "name 'list_of_all_custs' is not defined",
       "output_type": "pyerr",
       "traceback": [
        "\u001b[0;31m---------------------------------------------------------------------------\u001b[0m\n\u001b[0;31mNameError\u001b[0m                                 Traceback (most recent call last)",
        "\u001b[0;32m<ipython-input-10-f1677eab2ba5>\u001b[0m in \u001b[0;36m<module>\u001b[0;34m()\u001b[0m\n\u001b[0;32m----> 1\u001b[0;31m \u001b[0mlist_of_all_custs\u001b[0m\u001b[0;34m\u001b[0m\u001b[0m\n\u001b[0m",
        "\u001b[0;31mNameError\u001b[0m: name 'list_of_all_custs' is not defined"
       ]
      }
     ],
     "prompt_number": 10
    },
    {
     "cell_type": "markdown",
     "metadata": {},
     "source": [
      "###Ranges of Integers:\n",
      "\n",
      "Often it is convenient to define (and iterate through) ranges of integers. Python has a convenient range function that allows you to do just this."
     ]
    },
    {
     "cell_type": "code",
     "collapsed": false,
     "input": [
      "print range(3) # start at zero, < the specified ceiling value\n",
      "print range(-5, 5) #from the left value, < right value\n",
      "print range(-5, 5, 2) #from the left value, to the middle value, incrementing by the right value\n",
      "\n",
      "for x in range(-5, 5):\n",
      "    if x > 0:\n",
      "        print \"%d is positive\" % x"
     ],
     "language": "python",
     "metadata": {},
     "outputs": [
      {
       "output_type": "stream",
       "stream": "stdout",
       "text": [
        "[0, 1, 2]\n",
        "[-5, -4, -3, -2, -1, 0, 1, 2, 3, 4]\n",
        "[-5, -3, -1, 1, 3]\n",
        "1 is positive\n",
        "2 is positive\n",
        "3 is positive\n",
        "4 is positive\n"
       ]
      }
     ],
     "prompt_number": 23
    },
    {
     "cell_type": "markdown",
     "metadata": {},
     "source": [
      "User Defined Functions\n",
      "----------------------\n",
      "\n",
      "Functions assign a name to a block of code the way variables assign names to bits of data. This seeminly benign naming of things is incredibly powerful; alloing one to reuse common functionality over and over. Well-tested functions form building blocks for large, complex systems. As you progress through python, you'll find yourself using powerful functions defined in some of python's vast libraries of code. \n",
      "\n",
      "Function definitions begin with the `def` keyword, followed by the name you wish to assign to a function. Following this name are parentheses, `( )`, containing zero or more variable names, those values that are passed into the function. There is then a colon, followed by a code block defining the actions of the function:"
     ]
    },
    {
     "cell_type": "code",
     "collapsed": false,
     "input": [
      "def print_hi():\n",
      "    print \"hi!\"\n",
      "\n",
      "def hi_you(name):\n",
      "    print \"hi %s!\" % name\n",
      "\n",
      "def square(num):\n",
      "    squared = num*num\n",
      "    return squared\n",
      "\n",
      "print_hi()\n",
      "hi_you(\"josh\")\n",
      "print square(100)"
     ],
     "language": "python",
     "metadata": {},
     "outputs": [
      {
       "output_type": "stream",
       "stream": "stdout",
       "text": [
        "hi!\n",
        "hi josh!\n",
        "10000\n"
       ]
      }
     ],
     "prompt_number": 24
    },
    {
     "cell_type": "markdown",
     "metadata": {},
     "source": [
      "Note that the fucntion `square` has a special keyword return. The argument to return is passed to whatever piece of code is calling the function. In this case, the square of the number that was input. \n",
      "\n",
      "Variables set inside of functions are said to be scoped to those functions: changes, including any new variables created, are only accessible while in the function code block (with some exceptions). If \"outside\" variables are modified inside a function's context, the contents of that variable are first copied.\n",
      "\n",
      "Similarly, changes or modifications to a function's arguments aren't reflected once the scope is returned; The variable will continue to point to the original thing. However, it is possible to modify the thing that is passed, assuming that it is mutable."
     ]
    },
    {
     "cell_type": "code",
     "collapsed": false,
     "input": [
      "# inside a function's context, changes to a variable defined outside that\n",
      "# context aren't reflected once the context is returned\n",
      "\n",
      "name = \"josh\"\n",
      "def do_something():\n",
      "    name = \"not josh\"\n",
      "    print \"something!\"\n",
      "\n",
      "do_something()\n",
      "print name\n",
      "\n",
      "# but outside variables can be read!\n",
      "def do_something_else():\n",
      "    print name\n",
      "do_something_else()\n",
      "\n",
      "def do_something_new(some_name):\n",
      "    some_name = \"nothing\"\n",
      "    print some_name\n",
      "\n",
      "do_something_new(name)\n",
      "print name\n",
      "    \n",
      "# mutable objects can be modified\n",
      "a_list = [1,2,3]\n",
      "def add_sum(some_list):\n",
      "    s = sum(some_list)\n",
      "    some_list.append(s)\n",
      "    some_list = []\n",
      "    return s\n",
      "\n",
      "tot = add_sum(a_list)\n",
      "print tot\n",
      "print a_list\n",
      "\n",
      "# try again!\n",
      "tot = add_sum(a_list)\n",
      "print tot\n",
      "print a_list\n",
      "\n"
     ],
     "language": "python",
     "metadata": {},
     "outputs": [
      {
       "output_type": "stream",
       "stream": "stdout",
       "text": [
        "something!\n",
        "josh\n",
        "josh\n",
        "nothing\n",
        "josh\n",
        "6\n",
        "[1, 2, 3, 6]\n",
        "12\n",
        "[1, 2, 3, 6, 12]\n"
       ]
      }
     ],
     "prompt_number": 12
    },
    {
     "cell_type": "code",
     "collapsed": false,
     "input": [
      "# variables created in a function aren't accessible \n",
      "# outside that function's context\n",
      "def do_something_new():\n",
      "    thing = \"123\"\n",
      "    print \"Hi!\"\n",
      "do_something_new()\n",
      "print thing"
     ],
     "language": "python",
     "metadata": {},
     "outputs": [
      {
       "ename": "NameError",
       "evalue": "name 'thing' is not defined",
       "output_type": "pyerr",
       "traceback": [
        "\u001b[0;31m---------------------------------------------------------------------------\u001b[0m\n\u001b[0;31mNameError\u001b[0m                                 Traceback (most recent call last)",
        "\u001b[0;32m<ipython-input-26-79d666b041f8>\u001b[0m in \u001b[0;36m<module>\u001b[0;34m()\u001b[0m\n\u001b[1;32m      5\u001b[0m     \u001b[0;32mprint\u001b[0m \u001b[0;34m\"Hi!\"\u001b[0m\u001b[0;34m\u001b[0m\u001b[0m\n\u001b[1;32m      6\u001b[0m \u001b[0mdo_something_new\u001b[0m\u001b[0;34m(\u001b[0m\u001b[0;34m)\u001b[0m\u001b[0;34m\u001b[0m\u001b[0m\n\u001b[0;32m----> 7\u001b[0;31m \u001b[0;32mprint\u001b[0m \u001b[0mthing\u001b[0m\u001b[0;34m\u001b[0m\u001b[0m\n\u001b[0m",
        "\u001b[0;31mNameError\u001b[0m: name 'thing' is not defined"
       ]
      },
      {
       "output_type": "stream",
       "stream": "stdout",
       "text": [
        "Hi!\n"
       ]
      }
     ],
     "prompt_number": 26
    },
    {
     "cell_type": "code",
     "collapsed": false,
     "input": [
      "def times_two(input):\n",
      "    input = 2*input\n",
      "    return input\n",
      "\n",
      "four = 4\n",
      "print times_two(four)\n",
      "print four"
     ],
     "language": "python",
     "metadata": {},
     "outputs": [
      {
       "output_type": "stream",
       "stream": "stdout",
       "text": [
        "8\n",
        "4\n"
       ]
      }
     ],
     "prompt_number": 1
    },
    {
     "cell_type": "markdown",
     "metadata": {},
     "source": [
      "Files and Printing\n",
      "------------------\n",
      "\n",
      "You'll often be reading data from a file, or writing the output of your python scripts back into a file. Python makes this very easy. You need to open a file in the appropriate mode, using the `open` function, then you can read or write to accomplish your task. The `open` function takes two arguments, the name of the file, and the mode. The mode is a single letter string that specifies if you're going to be reading from a file, writing to a file, or appending to the end of an existing file. The function returns a file object that performs the various tasks you'll be performing: `a_file = open(filename, mode)`. The modes are:\n",
      "\n",
      "+ `'r'`: open a file for reading\n",
      "+ `'w'`: open a file for writing. Caution: this will overwrite any previously existing file\n",
      "+ `'a'`: append. Write to the end of a file. \n",
      "\n",
      "When reading, you typically want to iterate through the lines in a file using a for loop, as above. Some other common methods for dealing with files are: \n",
      "\n",
      "+ `file.read()`: read the entire contents of a file into a string\n",
      "+ `file.readline()`: read one line of a file\n",
      "+ `file.write(some_string)`: writes to the file, note this doesn't automatically include any new lines. Also note that sometimes writes are buffered- python will wait until you have several writes pending, and perform them all at once\n",
      "+ `file.flush()`: write out any buffered writes\n",
      "+ `file.close()`: close the open file. This will free up some computer resources occupied by keeping a file open.\n",
      "+ `file.seek(position)`: moves to a specific position within a file. Note that position is specified in bytes. \n",
      "\n",
      "Here is an example using files:"
     ]
    },
    {
     "cell_type": "code",
     "collapsed": false,
     "input": [
      "file = open(\"temp.txt\", \"w\")\n",
      "list = [\"a\", \"b\", \"c\", \"d\"]\n",
      "set = {1, 2, 3, 4}\n",
      "\n",
      "for x in list:\n",
      "    file.write(\"letter: %s\\n\" % x)\n",
      "for n in set:\n",
      "    file.write(\"number: %d\\n\" % n)\n",
      "file.flush()\n",
      "file.close()\n",
      "\n",
      "file_2 = open(\"temp.txt\", \"r\")\n",
      "for line in file_2:\n",
      "    print line # note that this doesn't strip off the newlines\n",
      "file_2.close()\n",
      "\n",
      "file_3 = open(\"temp.txt\", \"r\")\n",
      "\n",
      "print file_3.read()\n",
      "file_3.close()\n",
      "\n",
      "\n",
      "# filter rows\n",
      "file_4 = open(\"temp.txt\", \"r\")\n",
      "for line in file_4:\n",
      "    if line.count(\"a\") > 0:\n",
      "        continue\n",
      "    print line.strip() # remove the extra newline.\n",
      "file_4.close()\n",
      "\n",
      "# filter columns\n",
      "file_5 = open(\"temp.txt\", \"r\")\n",
      "for line in file_5:\n",
      "    columns = line.strip().split(\" \")\n",
      "    if columns[1] != \"b\":\n",
      "        print columns # prints out the list\n",
      "    print \" \".join(columns) # prints it out as a string\n",
      "file_5.close()"
     ],
     "language": "python",
     "metadata": {},
     "outputs": [
      {
       "output_type": "stream",
       "stream": "stdout",
       "text": [
        "letter: a\n",
        "\n",
        "letter: b\n",
        "\n",
        "letter: c\n",
        "\n",
        "letter: d\n",
        "\n",
        "number: 1\n",
        "\n",
        "number: 2\n",
        "\n",
        "number: 3\n",
        "\n",
        "number: 4\n",
        "\n",
        "letter: a\n",
        "letter: b\n",
        "letter: c\n",
        "letter: d\n",
        "number: 1\n",
        "number: 2\n",
        "number: 3\n",
        "number: 4\n",
        "\n",
        "letter: b\n",
        "letter: c\n",
        "letter: d\n",
        "number: 1\n",
        "number: 2\n",
        "number: 3\n",
        "number: 4\n",
        "['letter:', 'a']\n",
        "letter: a\n",
        "letter: b\n",
        "['letter:', 'c']\n",
        "letter: c\n",
        "['letter:', 'd']\n",
        "letter: d\n",
        "['number:', '1']\n",
        "number: 1\n",
        "['number:', '2']\n",
        "number: 2\n",
        "['number:', '3']\n",
        "number: 3\n",
        "['number:', '4']\n",
        "number: 4\n"
       ]
      }
     ],
     "prompt_number": 13
    },
    {
     "cell_type": "markdown",
     "metadata": {},
     "source": [
      "Simple Data Processing with Python\n",
      "----------------------------------\n",
      "[See example problem](https://github.com/jattenberg/PDS-Spring-2014/blob/master/examples/simple_data_processing_py.md)!"
     ]
    },
    {
     "cell_type": "markdown",
     "metadata": {},
     "source": [
      "Importing Libraries\n",
      "-------------------\n",
      "\n",
      "One of the greatest strengths of the python programming language is its rich set of libraries- pre-written code that implements a variety of functionality. For the data scientist, python's libraries (also called \"modules\") are particularly valuable. With a little bit of research into the details of python's libraries, a lot of common data mining tasks are little more than a function call away. Libraries exist for doing data cleaning, analysis, visualization, machine learning and statistics. \n",
      "\n",
      "In order to have access to a libraries functionality in a block of code, you must first import it. Importing a library tells python that while executing your code, it should not only consider the code and functions that you have written, but code and functions in the libraries that you have imported.\n",
      "\n",
      "There are several ways to import modules in python, some have ebetter properties than others. Below we see the preferred general way to import modules. In documentation, you may see other ways to import libraries (`from a_library import foo`). There is no risk to just copying this pattern if it is known to work. \n",
      "\n",
      "Imagine I want to import a library called `some_python_library`. This can be done using the import commands. All code below that import statement has access to the library contents.\n",
      "\n",
      "+ `import some_python_library`: imports the module `some_python_library`, and creates a reference to that module in the current namespace. Or in other words, after you\u2019ve run this statement, you can use `some_python_library.name` to refer to things defined in module `some_python_library`.\n",
      "\n",
      "+ `import some_python_library as plib`: imports the module `some_python_library` and sets an alias for that library that may be easier to refer to. To refer to a thing defined in the library `some_python_library`, use `plib.name`. \n",
      "\n",
      "In practice you'll see the second pattern used very frequently; `pandas` referred to as `pd`, `numpy` referred to as `np`, etc. "
     ]
    },
    {
     "cell_type": "code",
     "collapsed": false,
     "input": [
      "import math\n",
      "number = 2\n",
      "print math.sqrt(number)"
     ],
     "language": "python",
     "metadata": {},
     "outputs": [
      {
       "output_type": "stream",
       "stream": "stdout",
       "text": [
        "1.41421356237\n"
       ]
      }
     ],
     "prompt_number": 3
    },
    {
     "cell_type": "code",
     "collapsed": false,
     "input": [
      "import math as m\n",
      "print m.log(number)"
     ],
     "language": "python",
     "metadata": {},
     "outputs": [
      {
       "output_type": "stream",
       "stream": "stdout",
       "text": [
        "0.69314718056\n"
       ]
      }
     ],
     "prompt_number": 4
    },
    {
     "cell_type": "markdown",
     "metadata": {},
     "source": [
      "Example: Matplotlib\n",
      "-------------------\n",
      "\n",
      "Matplotlib is one of the first python libraries a budding data scientist is likely to encounter. Matplotlib is a feature-rich plotting framework, capable of most plots you'll likely need. The interface to the matplotlib module mimics the plotting functionality in Matlab, another language and environment for scientific computing. If you're familiar with Matlab plots, matplotlib will seem very familiar. Even the plots look almost identical. \n",
      "\n",
      "Here, we'll cover some basic functionality of matplotlib, line and bar plots and histograms. As with most content convered in this course, this is just scratching the surface. For more info, including many great examples, please consult the [official matplotlib documentation](http://matplotlib.org/). A typical pattern for me when plotting things in python is to find an example that closely mirrors what I'm trying to do, copy this, and tweak until i get things right.\n",
      "\n",
      "Note: to get plots to appear inline in ipython notebooks, you must invoke the \"magic function\" `%matplotlib inline`. To have a stand-alone python app plot in a new window, use `plt.show()`.\n",
      "\n",
      "In most cases, the input to matplotlib plotting functions is arrays of numerical types,  floats or integers. "
     ]
    },
    {
     "cell_type": "code",
     "collapsed": false,
     "input": [
      "# used to embed plots inside an ipython notebook\n",
      "%matplotlib inline \n",
      "import matplotlib.pyplot as plt\n",
      "\n",
      "# really simple example:\n",
      "y = [1,2,3,4,5,4,3,2,1]\n",
      "x = [1,2,3,4,5,6,7,8,9]\n",
      "plt.plot(x, y)"
     ],
     "language": "python",
     "metadata": {},
     "outputs": [
      {
       "metadata": {},
       "output_type": "pyout",
       "prompt_number": 5,
       "text": [
        "[<matplotlib.lines.Line2D at 0x10726d990>]"
       ]
      },
      {
       "metadata": {},
       "output_type": "display_data",
       "png": "[encoded data removed]",
       "text": [
        "<matplotlib.figure.Figure at 0x1035a0910>"
       ]
      }
     ],
     "prompt_number": 5
    },
    {
     "cell_type": "code",
     "collapsed": false,
     "input": [
      "import numpy as np\n",
      "\n",
      "X = np.linspace(0, 10, 10000)\n",
      "Y = []\n",
      "\n",
      "for x in X:\n",
      "    y = math.sin(x)\n",
      "    Y.append(y)\n",
      "    \n",
      "plt.plot(X, Y, 'r-.')\n",
      "plt.title('The Sine Wave')\n",
      "plt.xlabel('X')\n",
      "plt.ylabel('sin(X)')"
     ],
     "language": "python",
     "metadata": {},
     "outputs": [
      {
       "metadata": {},
       "output_type": "pyout",
       "prompt_number": 6,
       "text": [
        "<matplotlib.text.Text at 0x107270450>"
       ]
      },
      {
       "metadata": {},
       "output_type": "display_data",
       "png": "[encoded data removed]",
       "text": [
        "<matplotlib.figure.Figure at 0x10727a0d0>"
       ]
      }
     ],
     "prompt_number": 6
    },
    {
     "cell_type": "markdown",
     "metadata": {},
     "source": [
      "Notice that most of the functionality in matplotlib that we're using is in the sub-module `matplotlib.pyplot`. \n",
      "\n",
      "The third argument in the plot function is a formatting specifier. This defines some properties for a line to be displayed. Some details:\n",
      "Color characters:\n",
      "\n",
      "+ `b`: blue\n",
      "\n",
      "+ `k`: black\n",
      "\n",
      "+ `r`: red\n",
      "\n",
      "+ `c`: cyan\n",
      "\n",
      "+ `m`: magenta\n",
      "\n",
      "+ `y`: yellow\n",
      "\n",
      "+ `g`: green\n",
      "\n",
      "+ `w`: white\n",
      "\n",
      "Some line/marker formatting specifiers:\n",
      "\n",
      "+ `-`: solid line style\n",
      "\n",
      "+ `--`: dashed line style\n",
      "\n",
      "+ `-.`: dash-dot line style\n",
      "\n",
      "+ `:`:  dotted line style\n",
      "\n",
      "+ `.`: point marker\n",
      "\n",
      "+ `,`: pixel marker\n",
      "\n",
      "+ `o`: circle marker\n",
      "\n",
      "+ `+`: plus marker\n",
      "\n",
      "+ `x`: x marker\n",
      "\n",
      "There are many other options for plots that can be specified. See [documentation](http://matplotlib.org/api/pyplot_api.html#matplotlib.pyplot.plot) for more info.\n",
      "\n",
      "It is possible to plot multiple plots on the same y-axis. In order to do this, the Y data passed into the plot function must be a list of lists, each with the same length as the X data that is input:"
     ]
    },
    {
     "cell_type": "code",
     "collapsed": false,
     "input": [
      "Y = []\n",
      "for x in X:\n",
      "    y = [math.sin(x), math.cos(x)]\n",
      "    Y.append(y)\n",
      "\n",
      "plt.plot(X, Y)\n",
      "plt.legend(['sin(x)', 'cos(x)'])"
     ],
     "language": "python",
     "metadata": {},
     "outputs": [
      {
       "metadata": {},
       "output_type": "pyout",
       "prompt_number": 7,
       "text": [
        "<matplotlib.legend.Legend at 0x107617dd0>"
       ]
      },
      {
       "metadata": {},
       "output_type": "display_data",
       "png": "[encoded data removed]",
       "text": [
        "<matplotlib.figure.Figure at 0x107617690>"
       ]
      }
     ],
     "prompt_number": 7
    },
    {
     "cell_type": "markdown",
     "metadata": {},
     "source": [
      "It is also possible to just plot Y data without corresponding X values. In this case, the index in the array is assumed to be X."
     ]
    },
    {
     "cell_type": "code",
     "collapsed": false,
     "input": [
      "plt.plot(Y)\n",
      "plt.xlabel('index')\n",
      "plt.ylabel('f(x)')\n",
      "plt.legend(['sin(x)', 'cos(x)'])"
     ],
     "language": "python",
     "metadata": {},
     "outputs": [
      {
       "metadata": {},
       "output_type": "pyout",
       "prompt_number": 8,
       "text": [
        "<matplotlib.legend.Legend at 0x107795610>"
       ]
      },
      {
       "metadata": {},
       "output_type": "display_data",
       "png": "[encoded data removed]",
       "text": [
        "<matplotlib.figure.Figure at 0x1077956d0>"
       ]
      }
     ],
     "prompt_number": 8
    },
    {
     "cell_type": "markdown",
     "metadata": {},
     "source": [
      "Alternately, multiple calls to plot can be made with differing data. Doing so overlays the subsequent plots, creating the same effect."
     ]
    },
    {
     "cell_type": "code",
     "collapsed": false,
     "input": [
      "Y = []\n",
      "Z = []\n",
      "for x in X:\n",
      "    Y.append(math.sin(x))\n",
      "    Z.append(math.cos(x))\n",
      "    \n",
      "plt.plot(X, Y, 'b-.')\n",
      "plt.plot(X, Z, 'r--')\n",
      "plt.legend(['sin(x)', 'cos(x)'])"
     ],
     "language": "python",
     "metadata": {},
     "outputs": [
      {
       "metadata": {},
       "output_type": "pyout",
       "prompt_number": 9,
       "text": [
        "<matplotlib.legend.Legend at 0x1077a8910>"
       ]
      },
      {
       "metadata": {},
       "output_type": "display_data",
       "png": "[encoded data removed]",
       "text": [
        "<matplotlib.figure.Figure at 0x1077a8790>"
       ]
      }
     ],
     "prompt_number": 9
    },
    {
     "cell_type": "markdown",
     "metadata": {},
     "source": [
      "Bar plots are often a good way to compare data in categories. This is an easy matter with matplotlib, the interface is almost identical to the that used when making line plots. "
     ]
    },
    {
     "cell_type": "code",
     "collapsed": false,
     "input": [
      "vals = [7, 6.2, 3, 5, 9]\n",
      "xval = [1, 2, 3, 4, 5]\n",
      "plt.bar(xval, vals)\n"
     ],
     "language": "python",
     "metadata": {},
     "outputs": [
      {
       "metadata": {},
       "output_type": "pyout",
       "prompt_number": 72,
       "text": [
        "<Container object of 5 artists>"
       ]
      },
      {
       "metadata": {},
       "output_type": "display_data",
       "png": "[encoded data removed]",
       "text": [
        "<matplotlib.figure.Figure at 0x108f61f10>"
       ]
      }
     ],
     "prompt_number": 72
    },
    {
     "cell_type": "markdown",
     "metadata": {},
     "source": [
      "Histograms are extremely useful for analyzing data. Histograms partition numerical data into a discrete number of buckets (called bins), and return the number of values within each bucket. Typically this is displayed as a bar plot."
     ]
    },
    {
     "cell_type": "code",
     "collapsed": false,
     "input": [
      "Y = []\n",
      "for x in range(0,100000):\n",
      "    Y.append(np.random.randn())\n",
      "    \n",
      "plt.hist(Y, 50)"
     ],
     "language": "python",
     "metadata": {},
     "outputs": [
      {
       "metadata": {},
       "output_type": "pyout",
       "prompt_number": 75,
       "text": [
        "(array([  3.00000000e+00,   7.00000000e+00,   1.20000000e+01,\n",
        "         1.50000000e+01,   3.40000000e+01,   4.30000000e+01,\n",
        "         5.80000000e+01,   1.10000000e+02,   1.99000000e+02,\n",
        "         2.50000000e+02,   3.97000000e+02,   6.12000000e+02,\n",
        "         8.20000000e+02,   1.18300000e+03,   1.57200000e+03,\n",
        "         2.02100000e+03,   2.49500000e+03,   3.03000000e+03,\n",
        "         3.77600000e+03,   4.27300000e+03,   4.93900000e+03,\n",
        "         5.36000000e+03,   5.95400000e+03,   6.34400000e+03,\n",
        "         6.47000000e+03,   6.34400000e+03,   6.19000000e+03,\n",
        "         5.94100000e+03,   5.50000000e+03,   4.96300000e+03,\n",
        "         4.40600000e+03,   3.75200000e+03,   3.17700000e+03,\n",
        "         2.56400000e+03,   1.97100000e+03,   1.51800000e+03,\n",
        "         1.15200000e+03,   8.04000000e+02,   5.77000000e+02,\n",
        "         4.23000000e+02,   2.93000000e+02,   1.69000000e+02,\n",
        "         1.24000000e+02,   6.20000000e+01,   4.00000000e+01,\n",
        "         2.50000000e+01,   1.50000000e+01,   9.00000000e+00,\n",
        "         2.00000000e+00,   2.00000000e+00]),\n",
        " array([ -4.05314674e+00,  -3.89099218e+00,  -3.72883762e+00,\n",
        "        -3.56668305e+00,  -3.40452849e+00,  -3.24237393e+00,\n",
        "        -3.08021937e+00,  -2.91806481e+00,  -2.75591025e+00,\n",
        "        -2.59375568e+00,  -2.43160112e+00,  -2.26944656e+00,\n",
        "        -2.10729200e+00,  -1.94513744e+00,  -1.78298288e+00,\n",
        "        -1.62082831e+00,  -1.45867375e+00,  -1.29651919e+00,\n",
        "        -1.13436463e+00,  -9.72210068e-01,  -8.10055506e-01,\n",
        "        -6.47900944e-01,  -4.85746383e-01,  -3.23591821e-01,\n",
        "        -1.61437259e-01,   7.17302497e-04,   1.62871864e-01,\n",
        "         3.25026426e-01,   4.87180987e-01,   6.49335549e-01,\n",
        "         8.11490111e-01,   9.73644672e-01,   1.13579923e+00,\n",
        "         1.29795380e+00,   1.46010836e+00,   1.62226292e+00,\n",
        "         1.78441748e+00,   1.94657204e+00,   2.10872660e+00,\n",
        "         2.27088117e+00,   2.43303573e+00,   2.59519029e+00,\n",
        "         2.75734485e+00,   2.91949941e+00,   3.08165397e+00,\n",
        "         3.24380854e+00,   3.40596310e+00,   3.56811766e+00,\n",
        "         3.73027222e+00,   3.89242678e+00,   4.05458134e+00]),\n",
        " <a list of 50 Patch objects>)"
       ]
      },
      {
       "metadata": {},
       "output_type": "display_data",
       "png": "[encoded data removed]",
       "text": [
        "<matplotlib.figure.Figure at 0x10a8044d0>"
       ]
      }
     ],
     "prompt_number": 75
    },
    {
     "cell_type": "markdown",
     "metadata": {},
     "source": [
      "Simple Gathering and Plotting with Python\n",
      "-----------------------------------------\n",
      "[See example problem](https://github.com/jattenberg/PDS-Spring-2014/blob/master/examples/simple_plotting_with_python.md)!"
     ]
    },
    {
     "cell_type": "markdown",
     "metadata": {},
     "source": [
      "Python Programming Example\n",
      "--------------------------\n",
      "[See assignment 3](https://github.com/jattenberg/PDS-Spring-2014/blob/master/assignments/python_1.md)!"
     ]
    }
   ],
   "metadata": {}
  }
 ]
}