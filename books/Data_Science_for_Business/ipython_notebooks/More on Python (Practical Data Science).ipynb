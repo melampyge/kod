{
 "metadata": {
  "name": ""
 },
 "nbformat": 3,
 "nbformat_minor": 0,
 "worksheets": [
  {
   "cells": [
    {
     "cell_type": "markdown",
     "metadata": {},
     "source": [
      "Class Objects\n",
      "-------------\n",
      "\n",
      "Python is what is known as an object-oriented programming language. This means python allows a programmer to define special custom data structures called classes that not only can contain their own data elements, but special fucntions called methods that can potentially alter a class instance's internal state. \n",
      "\n",
      "Classes are defined through the keyword `class`, followed by the name of the class, which, by convention, is capitalized. This is followed by a code block that specifies the methods that define a class. Note that classes are a rich and complex topic in python. However, much of the functionality a data scientist may wish to use, in particular, python's machine learning libraries, will be accessed through class objects. Please see the [official documentation](http://docs.python.org/2/tutorial/classes.html) for more info."
     ]
    },
    {
     "cell_type": "code",
     "collapsed": false,
     "input": [
      "# defining a class\n",
      "class TestClass:\n",
      "    def im_a_class(self):\n",
      "        print \"hi! i'm a class!\"\n",
      "\n",
      "    def hello(self, name):\n",
      "        print \"hello %s!\" % name"
     ],
     "language": "python",
     "metadata": {},
     "outputs": [],
     "prompt_number": 1
    },
    {
     "cell_type": "markdown",
     "metadata": {},
     "source": [
      "Note that the method functions inside the class definition take a special extra parameter, `self`. This tells the method that it is assigned to an example of a class, and when it is invoked, it potentially operates on that example, but not other examples of that class.\n",
      "\n",
      "Concrete examples of classes are called class objects. These are created using a special function called a class constructor. In python, unless the programmer specifies otherwise, all classes are assigned a class constructor that doesn't take any arguments, and doesn't do anything beyond create a new example class object. These constructor functions are invoked by calling the class name as if you were calling a function, that is, using the class name with parentheses afterwards.\n",
      "\n",
      "Methods associated with a class can be invoked by the special dot operator (`.`). Here, you take a class object, a concrete example of a class, often assigned to a variable, then use the dot character (`.`), then the method you wish to call. This method operates only on the class object to the left of the dot. The arguments passed to these methods ignore the special `self`, keyword mentioned above, you only need to pass in what is to the right of this keyword, if anything."
     ]
    },
    {
     "cell_type": "code",
     "collapsed": false,
     "input": [
      "a_test_class = TestClass()\n",
      "a_test_class.im_a_class()\n",
      "\n",
      "\n",
      "a_test_class.hello(\"josh\")"
     ],
     "language": "python",
     "metadata": {},
     "outputs": [
      {
       "output_type": "stream",
       "stream": "stdout",
       "text": [
        "hi! i'm a class!\n",
        "hello josh!\n"
       ]
      }
     ],
     "prompt_number": 2
    },
    {
     "cell_type": "markdown",
     "metadata": {},
     "source": [
      "As mentioned above, classes always have a special function called a constructor that is used to build concrete instances of class objects. A programmer can define their own constructor function, defining any actions that are performed when building a new class object, and data that are used internally within a class object. Like all functions, constructors can take arguments that can be used during their execution. Like methods in a class, the constructor definition takes the special `self` parameter as the left most argument in it's definition. This allows you to modify the internal state of the class object being constructed. Here is an example class with a custom constructor. Note that internal variables or methods can be accessed through the dot operator on `self`."
     ]
    },
    {
     "cell_type": "code",
     "collapsed": false,
     "input": [
      "class Person:\n",
      "    \n",
      "    def __init__(self, first_name, last_name):\n",
      "        # this constructor sets the values of \"member variables\"\n",
      "        # in the concrete class object being constructed\n",
      "        self.first = first_name\n",
      "        self.last = last_name\n",
      "        self.hollers = 0\n",
      "\n",
      "    def holler(self):\n",
      "        # modifying an internal example\n",
      "        self.hollers = self.hollers + 1\n",
      "        print \"%s has been hollered at %d times\" % (self.first, self.hollers)\n",
      "        \n",
      "josh = Person(\"josh\", \"attenberg\")\n",
      "josh.holler()\n",
      "josh.holler()\n",
      "# accessing the value of a member variable\n",
      "print josh.first"
     ],
     "language": "python",
     "metadata": {},
     "outputs": [
      {
       "output_type": "stream",
       "stream": "stdout",
       "text": [
        "josh has been hollered at 1 times\n",
        "josh has been hollered at 2 times\n",
        "josh\n"
       ]
      }
     ],
     "prompt_number": 3
    },
    {
     "cell_type": "markdown",
     "metadata": {},
     "source": [
      "List Comprehensions\n",
      "-------------------\n",
      "\n",
      "The practical data scientist often faces situations where one list is to be transformed into another list, transforming the values in the input array, filtering out certain undesired values, etc. List comprehensions are a natural, flexible way to perform these transformations on the elements in a list. \n",
      "\n",
      "The syntax of list comprehensions is based on the way mathematicians define sets and lists, a syntax that leaves it clear what the contents should be:\n",
      "\n",
      "+ `S = {x\u00b2 : x in {0 ... 9}}`\n",
      "\n",
      "+ `V = (1, 2, 4, 8, ..., 2\u00b9\u00b2)`\n",
      "\n",
      "+ `M = {x | x in S and x even}`\n",
      "\n",
      "\n",
      "Python's list comprehensions give a very natural way to write statements just like these. You can write math-like expressions without having to much special syntax."
     ]
    },
    {
     "cell_type": "code",
     "collapsed": false,
     "input": [
      "import math\n",
      "S = [math.pow(x, 2) for x in range(0,10)]\n",
      "V = [math.pow(2, x) for x in range(0, 13)]\n",
      "M = [x for x in S if x%2 == 0]\n",
      "\n",
      "print S\n",
      "print V\n",
      "print M"
     ],
     "language": "python",
     "metadata": {},
     "outputs": [
      {
       "output_type": "stream",
       "stream": "stdout",
       "text": [
        "[0.0, 1.0, 4.0, 9.0, 16.0, 25.0, 36.0, 49.0, 64.0, 81.0]\n",
        "[1.0, 2.0, 4.0, 8.0, 16.0, 32.0, 64.0, 128.0, 256.0, 512.0, 1024.0, 2048.0, 4096.0]\n",
        "[0.0, 4.0, 16.0, 36.0, 64.0]\n"
       ]
      }
     ],
     "prompt_number": 5
    },
    {
     "cell_type": "markdown",
     "metadata": {},
     "source": [
      "Note the list comprehension for deriving M uses a \"if statement\" to filter out those values that aren't of interest, restricting to only the even perfect squares.\n",
      "\n",
      "These are simple examples, using numerical compuation. In the following operation we transform a string into an list of values, a more complex operation: "
     ]
    },
    {
     "cell_type": "code",
     "collapsed": false,
     "input": [
      "words = 'The quick brown fox jumps over the lazy dog'\n",
      "[[w.upper(), w.lower(), len(w)] for w in words.split()]"
     ],
     "language": "python",
     "metadata": {},
     "outputs": [
      {
       "metadata": {},
       "output_type": "pyout",
       "prompt_number": 6,
       "text": [
        "[['THE', 'the', 3],\n",
        " ['QUICK', 'quick', 5],\n",
        " ['BROWN', 'brown', 5],\n",
        " ['FOX', 'fox', 3],\n",
        " ['JUMPS', 'jumps', 5],\n",
        " ['OVER', 'over', 4],\n",
        " ['THE', 'the', 3],\n",
        " ['LAZY', 'lazy', 4],\n",
        " ['DOG', 'dog', 3]]"
       ]
      }
     ],
     "prompt_number": 6
    }
   ],
   "metadata": {}
  }
 ]
}